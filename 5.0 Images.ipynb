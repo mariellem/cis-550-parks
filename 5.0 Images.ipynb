{
 "cells": [
  {
   "cell_type": "code",
   "execution_count": 1,
   "id": "offensive-utilization",
   "metadata": {},
   "outputs": [],
   "source": [
    "from IPython.display import Markdown\n",
    "from IPython.core.magic import register_cell_magic\n",
    "\n",
    "from urllib.request import urlopen\n",
    "from bs4 import BeautifulSoup\n",
    "import re\n",
    "\n",
    "import pandas as pd\n"
   ]
  },
  {
   "cell_type": "code",
   "execution_count": 2,
   "id": "rental-artist",
   "metadata": {},
   "outputs": [],
   "source": [
    "parks = pd.read_csv(\"parks2.csv\",names=['id','parkName']).drop_duplicates()\n"
   ]
  },
  {
   "cell_type": "code",
   "execution_count": 3,
   "id": "infectious-principal",
   "metadata": {},
   "outputs": [
    {
     "name": "stdout",
     "output_type": "stream",
     "text": [
      "park link failed to parse:  https://en.wikipedia.org/wiki/Wrangell–St._Elias_National_Park\n"
     ]
    }
   ],
   "source": [
    "img_lst = []\n",
    "for parkname in parks['parkName'].unique():\n",
    "    \n",
    "    park_img_lst = [parkname]\n",
    "  \n",
    "    target = '_'.join(parkname.split(' '))\n",
    "    try:\n",
    "        html = urlopen('https://en.wikipedia.org/wiki/%s'%target)\n",
    "        bs = BeautifulSoup(html, 'html.parser')\n",
    "    except:\n",
    "        print('park link failed to parse:  https://en.wikipedia.org/wiki/%s'%target )\n",
    "        continue\n",
    "    images = bs.find_all('img', {'src':re.compile('.jpg')})\n",
    "    cntr = 0\n",
    "    for image in images:\n",
    "        if \"map\" not in image[\"src\"]:\n",
    "            cntr+=1\n",
    "            park_img_lst.append(str(image))\n",
    "            park_img_lst.append(\"https:\"+str(image['src']))\n",
    "            park_img_lst.append(\"Wikimedia Commons\")\n",
    "        if cntr==2: # got two pictures. done\n",
    "            img_lst.append(park_img_lst)\n",
    "            break;\n",
    "\n",
    "        "
   ]
  },
  {
   "cell_type": "code",
   "execution_count": 4,
   "id": "prescription-corruption",
   "metadata": {},
   "outputs": [],
   "source": [
    "#  edge case:\n",
    "html0 = '<a title=\"Mr. David Sinson, NOAA, Office of Coast Survey, Public domain, via Wikimedia Commons\" href=\"https://commons.wikimedia.org/wiki/File:Mt_Saint_Elias.jpg\"><img width=\"512\" alt=\"Mt Saint Elias\" src=\"https://upload.wikimedia.org/wikipedia/commons/0/05/Mt_Saint_Elias.jpg\"></a>'\n",
    "img0 = 'https://upload.wikimedia.org/wikipedia/commons/0/05/Mt_Saint_Elias.jpg'\n",
    "html1 = '<a title=\"Ken Thomas (talk contribs), Public domain, via Wikimedia Commons\" href=\"https://commons.wikimedia.org/wiki/File:St_Mary_Lake.jpg\"><img width=\"512\" alt=\"St Mary Lake\" src=\"https://upload.wikimedia.org/wikipedia/commons/thumb/7/7e/St_Mary_Lake.jpg/512px-St_Mary_Lake.jpg\"></a>'\n",
    "img1 = 'https://upload.wikimedia.org/wikipedia/commons/thumb/7/7e/St_Mary_Lake.jpg/512px-St_Mary_Lake.jpg'\n",
    "\n",
    "img_lst.append([\"Glacier National Park\", html0,img0,\"Wikimedia Commons\",html1,img1,\"Wikimedia Commons\" ])\n",
    "\n"
   ]
  },
  {
   "cell_type": "code",
   "execution_count": 5,
   "id": "approximate-painting",
   "metadata": {},
   "outputs": [],
   "source": [
    "# another edge case:\n",
    "html0 = '<a title=\"Robert M. Russell, CC BY-SA 4.0 &lt;https://creativecommons.org/licenses/by-sa/4.0&gt;, via Wikimedia Commons\" href=\"https://commons.wikimedia.org/wiki/File:Mountain_Goat_at_Hidden_Lake.jpg\"><img width=\"512\" alt=\"Mountain Goat at Hidden Lake\" src=\"https://upload.wikimedia.org/wikipedia/commons/thumb/5/51/Mountain_Goat_at_Hidden_Lake.jpg/512px-Mountain_Goat_at_Hidden_Lake.jpg\">'\n",
    "img0 = 'https://upload.wikimedia.org/wikipedia/commons/thumb/5/51/Mountain_Goat_at_Hidden_Lake.jpg/512px-Mountain_Goat_at_Hidden_Lake.jpg'\n",
    "html1 = '<a title=\"AlaskaTrekker at English Wikipedia, CC BY-SA 3.0 &lt;http://creativecommons.org/licenses/by-sa/3.0/&gt;, via Wikimedia Commons\" href=\"https://commons.wikimedia.org/wiki/File:Wrangells1.jpg\"><img width=\"512\" alt=\"Wrangells1\" src=\"https://upload.wikimedia.org/wikipedia/commons/0/00/Wrangells1.jpg\"></a>'\n",
    "img1 =  'https://upload.wikimedia.org/wikipedia/commons/0/00/Wrangells1.jpg'\n",
    "\n",
    "img_lst.append([\"Wrangell–St. Elias National Park\", html0,img0,\"Wikimedia Commons\",html1,img1,\"Wikimedia Commons\" ])\n",
    "\n"
   ]
  },
  {
   "cell_type": "code",
   "execution_count": 7,
   "id": "anonymous-nutrition",
   "metadata": {},
   "outputs": [],
   "source": [
    "image_table = pd.DataFrame(img_lst, \n",
    "                           columns=['parkName',\n",
    "                                    'image1html',\n",
    "                                    'image1url',\n",
    "                                    'image1credit',\n",
    "                                    'image2html',\n",
    "                                    'image2url',\n",
    "                                    'image2credit'])"
   ]
  },
  {
   "cell_type": "code",
   "execution_count": 8,
   "id": "egyptian-cliff",
   "metadata": {},
   "outputs": [
    {
     "data": {
      "text/plain": [
       "(63, 63)"
      ]
     },
     "execution_count": 8,
     "metadata": {},
     "output_type": "execute_result"
    }
   ],
   "source": [
    "image_table.parkName.nunique(), parks.parkName.nunique()"
   ]
  },
  {
   "cell_type": "code",
   "execution_count": 9,
   "id": "greenhouse-cheese",
   "metadata": {},
   "outputs": [],
   "source": [
    "merged_image_table = image_table.merge(parks, on='parkName')"
   ]
  },
  {
   "cell_type": "code",
   "execution_count": 11,
   "id": "internal-brain",
   "metadata": {},
   "outputs": [
    {
     "data": {
      "text/html": [
       "<div>\n",
       "<style scoped>\n",
       "    .dataframe tbody tr th:only-of-type {\n",
       "        vertical-align: middle;\n",
       "    }\n",
       "\n",
       "    .dataframe tbody tr th {\n",
       "        vertical-align: top;\n",
       "    }\n",
       "\n",
       "    .dataframe thead th {\n",
       "        text-align: right;\n",
       "    }\n",
       "</style>\n",
       "<table border=\"1\" class=\"dataframe\">\n",
       "  <thead>\n",
       "    <tr style=\"text-align: right;\">\n",
       "      <th></th>\n",
       "      <th>parkName</th>\n",
       "      <th>image1html</th>\n",
       "      <th>image1url</th>\n",
       "      <th>image1credit</th>\n",
       "      <th>image2html</th>\n",
       "      <th>image2url</th>\n",
       "      <th>image2credit</th>\n",
       "      <th>id</th>\n",
       "    </tr>\n",
       "  </thead>\n",
       "  <tbody>\n",
       "    <tr>\n",
       "      <th>0</th>\n",
       "      <td>Acadia National Park</td>\n",
       "      <td>&lt;img alt=\"Bass Harbor Lighthouse b.jpg\" data-f...</td>\n",
       "      <td>https://upload.wikimedia.org/wikipedia/commons...</td>\n",
       "      <td>Wikimedia Commons</td>\n",
       "      <td>&lt;img alt=\"\" class=\"thumbimage\" data-file-heigh...</td>\n",
       "      <td>https://upload.wikimedia.org/wikipedia/commons...</td>\n",
       "      <td>Wikimedia Commons</td>\n",
       "      <td>1</td>\n",
       "    </tr>\n",
       "    <tr>\n",
       "      <th>1</th>\n",
       "      <td>Arches National Park</td>\n",
       "      <td>&lt;img alt=\"Delicate arch sunset.jpg\" data-file-...</td>\n",
       "      <td>https://upload.wikimedia.org/wikipedia/commons...</td>\n",
       "      <td>Wikimedia Commons</td>\n",
       "      <td>&lt;img alt=\"\" class=\"thumbimage\" data-file-heigh...</td>\n",
       "      <td>https://upload.wikimedia.org/wikipedia/commons...</td>\n",
       "      <td>Wikimedia Commons</td>\n",
       "      <td>2</td>\n",
       "    </tr>\n",
       "    <tr>\n",
       "      <th>2</th>\n",
       "      <td>Badlands National Park</td>\n",
       "      <td>&lt;img alt=\"MK00609 Badlands.jpg\" data-file-heig...</td>\n",
       "      <td>https://upload.wikimedia.org/wikipedia/commons...</td>\n",
       "      <td>Wikimedia Commons</td>\n",
       "      <td>&lt;img alt=\"Black Hills\" data-file-height=\"3391\"...</td>\n",
       "      <td>https://upload.wikimedia.org/wikipedia/commons...</td>\n",
       "      <td>Wikimedia Commons</td>\n",
       "      <td>3</td>\n",
       "    </tr>\n",
       "    <tr>\n",
       "      <th>3</th>\n",
       "      <td>Big Bend National Park</td>\n",
       "      <td>&lt;img alt=\"\" class=\"thumbimage\" data-file-heigh...</td>\n",
       "      <td>https://upload.wikimedia.org/wikipedia/commons...</td>\n",
       "      <td>Wikimedia Commons</td>\n",
       "      <td>&lt;img alt=\"\" class=\"thumbimage\" data-file-heigh...</td>\n",
       "      <td>https://upload.wikimedia.org/wikipedia/commons...</td>\n",
       "      <td>Wikimedia Commons</td>\n",
       "      <td>4</td>\n",
       "    </tr>\n",
       "    <tr>\n",
       "      <th>4</th>\n",
       "      <td>Biscayne National Park</td>\n",
       "      <td>&lt;img alt=\"Sunlight on an underwater coral reef...</td>\n",
       "      <td>https://upload.wikimedia.org/wikipedia/commons...</td>\n",
       "      <td>Wikimedia Commons</td>\n",
       "      <td>&lt;img alt=\"Conch and whelk shells among trees\" ...</td>\n",
       "      <td>https://upload.wikimedia.org/wikipedia/commons...</td>\n",
       "      <td>Wikimedia Commons</td>\n",
       "      <td>5</td>\n",
       "    </tr>\n",
       "  </tbody>\n",
       "</table>\n",
       "</div>"
      ],
      "text/plain": [
       "                 parkName                                         image1html  \\\n",
       "0    Acadia National Park  <img alt=\"Bass Harbor Lighthouse b.jpg\" data-f...   \n",
       "1    Arches National Park  <img alt=\"Delicate arch sunset.jpg\" data-file-...   \n",
       "2  Badlands National Park  <img alt=\"MK00609 Badlands.jpg\" data-file-heig...   \n",
       "3  Big Bend National Park  <img alt=\"\" class=\"thumbimage\" data-file-heigh...   \n",
       "4  Biscayne National Park  <img alt=\"Sunlight on an underwater coral reef...   \n",
       "\n",
       "                                           image1url       image1credit  \\\n",
       "0  https://upload.wikimedia.org/wikipedia/commons...  Wikimedia Commons   \n",
       "1  https://upload.wikimedia.org/wikipedia/commons...  Wikimedia Commons   \n",
       "2  https://upload.wikimedia.org/wikipedia/commons...  Wikimedia Commons   \n",
       "3  https://upload.wikimedia.org/wikipedia/commons...  Wikimedia Commons   \n",
       "4  https://upload.wikimedia.org/wikipedia/commons...  Wikimedia Commons   \n",
       "\n",
       "                                          image2html  \\\n",
       "0  <img alt=\"\" class=\"thumbimage\" data-file-heigh...   \n",
       "1  <img alt=\"\" class=\"thumbimage\" data-file-heigh...   \n",
       "2  <img alt=\"Black Hills\" data-file-height=\"3391\"...   \n",
       "3  <img alt=\"\" class=\"thumbimage\" data-file-heigh...   \n",
       "4  <img alt=\"Conch and whelk shells among trees\" ...   \n",
       "\n",
       "                                           image2url       image2credit  id  \n",
       "0  https://upload.wikimedia.org/wikipedia/commons...  Wikimedia Commons   1  \n",
       "1  https://upload.wikimedia.org/wikipedia/commons...  Wikimedia Commons   2  \n",
       "2  https://upload.wikimedia.org/wikipedia/commons...  Wikimedia Commons   3  \n",
       "3  https://upload.wikimedia.org/wikipedia/commons...  Wikimedia Commons   4  \n",
       "4  https://upload.wikimedia.org/wikipedia/commons...  Wikimedia Commons   5  "
      ]
     },
     "execution_count": 11,
     "metadata": {},
     "output_type": "execute_result"
    }
   ],
   "source": [
    "merged_image_table.head()"
   ]
  },
  {
   "cell_type": "code",
   "execution_count": 14,
   "id": "monthly-scenario",
   "metadata": {},
   "outputs": [],
   "source": [
    "merged_image_table.to_csv(\"image_table.csv\",index=None)"
   ]
  },
  {
   "cell_type": "code",
   "execution_count": 13,
   "id": "fossil-benchmark",
   "metadata": {},
   "outputs": [
    {
     "name": "stdout",
     "output_type": "stream",
     "text": [
      "1 Acadia National Park\n"
     ]
    },
    {
     "data": {
      "text/markdown": [
       "<img alt=\"Bass Harbor Lighthouse b.jpg\" data-file-height=\"2142\" data-file-width=\"3213\" decoding=\"async\" height=\"189\" src=\"//upload.wikimedia.org/wikipedia/commons/thumb/7/76/Bass_Harbor_Lighthouse_b.jpg/284px-Bass_Harbor_Lighthouse_b.jpg\" srcset=\"//upload.wikimedia.org/wikipedia/commons/thumb/7/76/Bass_Harbor_Lighthouse_b.jpg/426px-Bass_Harbor_Lighthouse_b.jpg 1.5x, //upload.wikimedia.org/wikipedia/commons/thumb/7/76/Bass_Harbor_Lighthouse_b.jpg/568px-Bass_Harbor_Lighthouse_b.jpg 2x\" width=\"284\"/>"
      ],
      "text/plain": [
       "<IPython.core.display.Markdown object>"
      ]
     },
     "metadata": {},
     "output_type": "display_data"
    },
    {
     "data": {
      "text/markdown": [
       "<img alt=\"\" class=\"thumbimage\" data-file-height=\"1836\" data-file-width=\"3264\" decoding=\"async\" height=\"124\" src=\"//upload.wikimedia.org/wikipedia/commons/thumb/a/a3/Acadia_National_Park_Beach.jpg/220px-Acadia_National_Park_Beach.jpg\" srcset=\"//upload.wikimedia.org/wikipedia/commons/thumb/a/a3/Acadia_National_Park_Beach.jpg/330px-Acadia_National_Park_Beach.jpg 1.5x, //upload.wikimedia.org/wikipedia/commons/thumb/a/a3/Acadia_National_Park_Beach.jpg/440px-Acadia_National_Park_Beach.jpg 2x\" width=\"220\"/>"
      ],
      "text/plain": [
       "<IPython.core.display.Markdown object>"
      ]
     },
     "metadata": {},
     "output_type": "display_data"
    },
    {
     "name": "stdout",
     "output_type": "stream",
     "text": [
      "\n",
      "\n",
      "2 Arches National Park\n"
     ]
    },
    {
     "data": {
      "text/markdown": [
       "<img alt=\"Delicate arch sunset.jpg\" data-file-height=\"1944\" data-file-width=\"2592\" decoding=\"async\" height=\"213\" src=\"//upload.wikimedia.org/wikipedia/commons/thumb/f/f0/Delicate_arch_sunset.jpg/284px-Delicate_arch_sunset.jpg\" srcset=\"//upload.wikimedia.org/wikipedia/commons/thumb/f/f0/Delicate_arch_sunset.jpg/426px-Delicate_arch_sunset.jpg 1.5x, //upload.wikimedia.org/wikipedia/commons/thumb/f/f0/Delicate_arch_sunset.jpg/568px-Delicate_arch_sunset.jpg 2x\" width=\"284\"/>"
      ],
      "text/plain": [
       "<IPython.core.display.Markdown object>"
      ]
     },
     "metadata": {},
     "output_type": "display_data"
    },
    {
     "data": {
      "text/markdown": [
       "<img alt=\"\" class=\"thumbimage\" data-file-height=\"3750\" data-file-width=\"2500\" decoding=\"async\" height=\"255\" src=\"//upload.wikimedia.org/wikipedia/commons/thumb/8/80/Arches_National_Park_Map.jpg/170px-Arches_National_Park_Map.jpg\" srcset=\"//upload.wikimedia.org/wikipedia/commons/thumb/8/80/Arches_National_Park_Map.jpg/255px-Arches_National_Park_Map.jpg 1.5x, //upload.wikimedia.org/wikipedia/commons/thumb/8/80/Arches_National_Park_Map.jpg/340px-Arches_National_Park_Map.jpg 2x\" width=\"170\"/>"
      ],
      "text/plain": [
       "<IPython.core.display.Markdown object>"
      ]
     },
     "metadata": {},
     "output_type": "display_data"
    },
    {
     "name": "stdout",
     "output_type": "stream",
     "text": [
      "\n",
      "\n",
      "3 Badlands National Park\n"
     ]
    },
    {
     "data": {
      "text/markdown": [
       "<img alt=\"MK00609 Badlands.jpg\" data-file-height=\"1693\" data-file-width=\"2539\" decoding=\"async\" height=\"189\" src=\"//upload.wikimedia.org/wikipedia/commons/thumb/b/b9/MK00609_Badlands.jpg/284px-MK00609_Badlands.jpg\" srcset=\"//upload.wikimedia.org/wikipedia/commons/thumb/b/b9/MK00609_Badlands.jpg/426px-MK00609_Badlands.jpg 1.5x, //upload.wikimedia.org/wikipedia/commons/thumb/b/b9/MK00609_Badlands.jpg/568px-MK00609_Badlands.jpg 2x\" width=\"284\"/>"
      ],
      "text/plain": [
       "<IPython.core.display.Markdown object>"
      ]
     },
     "metadata": {},
     "output_type": "display_data"
    },
    {
     "data": {
      "text/markdown": [
       "<img alt=\"Black Hills\" data-file-height=\"3391\" data-file-width=\"5087\" decoding=\"async\" height=\"83\" src=\"//upload.wikimedia.org/wikipedia/commons/thumb/a/a6/Black_Hills_from_Harney_Peak.jpg/125px-Black_Hills_from_Harney_Peak.jpg\" srcset=\"//upload.wikimedia.org/wikipedia/commons/thumb/a/a6/Black_Hills_from_Harney_Peak.jpg/188px-Black_Hills_from_Harney_Peak.jpg 1.5x, //upload.wikimedia.org/wikipedia/commons/thumb/a/a6/Black_Hills_from_Harney_Peak.jpg/250px-Black_Hills_from_Harney_Peak.jpg 2x\" width=\"125\"/>"
      ],
      "text/plain": [
       "<IPython.core.display.Markdown object>"
      ]
     },
     "metadata": {},
     "output_type": "display_data"
    },
    {
     "name": "stdout",
     "output_type": "stream",
     "text": [
      "\n",
      "\n",
      "4 Big Bend National Park\n"
     ]
    },
    {
     "data": {
      "text/markdown": [
       "<img alt=\"\" class=\"thumbimage\" data-file-height=\"1904\" data-file-width=\"2856\" decoding=\"async\" height=\"147\" src=\"//upload.wikimedia.org/wikipedia/commons/thumb/b/b1/Big_Bend_Chihuahuan_Desert.jpg/220px-Big_Bend_Chihuahuan_Desert.jpg\" srcset=\"//upload.wikimedia.org/wikipedia/commons/thumb/b/b1/Big_Bend_Chihuahuan_Desert.jpg/330px-Big_Bend_Chihuahuan_Desert.jpg 1.5x, //upload.wikimedia.org/wikipedia/commons/thumb/b/b1/Big_Bend_Chihuahuan_Desert.jpg/440px-Big_Bend_Chihuahuan_Desert.jpg 2x\" width=\"220\"/>"
      ],
      "text/plain": [
       "<IPython.core.display.Markdown object>"
      ]
     },
     "metadata": {},
     "output_type": "display_data"
    },
    {
     "data": {
      "text/markdown": [
       "<img alt=\"\" class=\"thumbimage\" data-file-height=\"3272\" data-file-width=\"4700\" decoding=\"async\" height=\"153\" src=\"//upload.wikimedia.org/wikipedia/commons/thumb/8/81/Sunset_at_Big_Bend_National_Park.jpg/220px-Sunset_at_Big_Bend_National_Park.jpg\" srcset=\"//upload.wikimedia.org/wikipedia/commons/thumb/8/81/Sunset_at_Big_Bend_National_Park.jpg/330px-Sunset_at_Big_Bend_National_Park.jpg 1.5x, //upload.wikimedia.org/wikipedia/commons/thumb/8/81/Sunset_at_Big_Bend_National_Park.jpg/440px-Sunset_at_Big_Bend_National_Park.jpg 2x\" width=\"220\"/>"
      ],
      "text/plain": [
       "<IPython.core.display.Markdown object>"
      ]
     },
     "metadata": {},
     "output_type": "display_data"
    },
    {
     "name": "stdout",
     "output_type": "stream",
     "text": [
      "\n",
      "\n",
      "5 Biscayne National Park\n"
     ]
    },
    {
     "data": {
      "text/markdown": [
       "<img alt=\"Sunlight on an underwater coral reef\" class=\"thumbimage\" data-file-height=\"2592\" data-file-width=\"3872\" decoding=\"async\" height=\"147\" src=\"//upload.wikimedia.org/wikipedia/commons/thumb/c/c5/Biscayne_underwater_NPS1.jpg/220px-Biscayne_underwater_NPS1.jpg\" srcset=\"//upload.wikimedia.org/wikipedia/commons/thumb/c/c5/Biscayne_underwater_NPS1.jpg/330px-Biscayne_underwater_NPS1.jpg 1.5x, //upload.wikimedia.org/wikipedia/commons/thumb/c/c5/Biscayne_underwater_NPS1.jpg/440px-Biscayne_underwater_NPS1.jpg 2x\" width=\"220\"/>"
      ],
      "text/plain": [
       "<IPython.core.display.Markdown object>"
      ]
     },
     "metadata": {},
     "output_type": "display_data"
    },
    {
     "data": {
      "text/markdown": [
       "<img alt=\"Conch and whelk shells among trees\" class=\"thumbimage\" data-file-height=\"300\" data-file-width=\"415\" decoding=\"async\" height=\"159\" src=\"//upload.wikimedia.org/wikipedia/commons/thumb/c/c1/Shell-Midden.jpg/220px-Shell-Midden.jpg\" srcset=\"//upload.wikimedia.org/wikipedia/commons/thumb/c/c1/Shell-Midden.jpg/330px-Shell-Midden.jpg 1.5x, //upload.wikimedia.org/wikipedia/commons/c/c1/Shell-Midden.jpg 2x\" width=\"220\"/>"
      ],
      "text/plain": [
       "<IPython.core.display.Markdown object>"
      ]
     },
     "metadata": {},
     "output_type": "display_data"
    },
    {
     "name": "stdout",
     "output_type": "stream",
     "text": [
      "\n",
      "\n",
      "6 Black Canyon of the Gunnison National Park\n"
     ]
    },
    {
     "data": {
      "text/markdown": [
       "<img alt=\"Black Canyon and Gunnison River 2008.jpg\" data-file-height=\"2013\" data-file-width=\"3456\" decoding=\"async\" height=\"165\" src=\"//upload.wikimedia.org/wikipedia/commons/thumb/0/0b/Black_Canyon_and_Gunnison_River_2008.jpg/284px-Black_Canyon_and_Gunnison_River_2008.jpg\" srcset=\"//upload.wikimedia.org/wikipedia/commons/thumb/0/0b/Black_Canyon_and_Gunnison_River_2008.jpg/426px-Black_Canyon_and_Gunnison_River_2008.jpg 1.5x, //upload.wikimedia.org/wikipedia/commons/thumb/0/0b/Black_Canyon_and_Gunnison_River_2008.jpg/568px-Black_Canyon_and_Gunnison_River_2008.jpg 2x\" width=\"284\"/>"
      ],
      "text/plain": [
       "<IPython.core.display.Markdown object>"
      ]
     },
     "metadata": {},
     "output_type": "display_data"
    },
    {
     "data": {
      "text/markdown": [
       "<img alt=\"\" class=\"thumbimage\" data-file-height=\"2000\" data-file-width=\"1007\" decoding=\"async\" height=\"338\" src=\"//upload.wikimedia.org/wikipedia/commons/thumb/b/bb/2009-08-27-06625-00_USA_Colorado_347_BlackCanyonOfTheGunnison_NP_copy.jpg/170px-2009-08-27-06625-00_USA_Colorado_347_BlackCanyonOfTheGunnison_NP_copy.jpg\" srcset=\"//upload.wikimedia.org/wikipedia/commons/thumb/b/bb/2009-08-27-06625-00_USA_Colorado_347_BlackCanyonOfTheGunnison_NP_copy.jpg/255px-2009-08-27-06625-00_USA_Colorado_347_BlackCanyonOfTheGunnison_NP_copy.jpg 1.5x, //upload.wikimedia.org/wikipedia/commons/thumb/b/bb/2009-08-27-06625-00_USA_Colorado_347_BlackCanyonOfTheGunnison_NP_copy.jpg/340px-2009-08-27-06625-00_USA_Colorado_347_BlackCanyonOfTheGunnison_NP_copy.jpg 2x\" width=\"170\"/>"
      ],
      "text/plain": [
       "<IPython.core.display.Markdown object>"
      ]
     },
     "metadata": {},
     "output_type": "display_data"
    },
    {
     "name": "stdout",
     "output_type": "stream",
     "text": [
      "\n",
      "\n",
      "7 Bryce Canyon National Park\n"
     ]
    },
    {
     "data": {
      "text/markdown": [
       "<img alt=\"Inspiration Point Bryce Canyon November 2018 panorama.jpg\" data-file-height=\"6000\" data-file-width=\"10000\" decoding=\"async\" height=\"170\" src=\"//upload.wikimedia.org/wikipedia/commons/thumb/c/c3/Inspiration_Point_Bryce_Canyon_November_2018_panorama.jpg/284px-Inspiration_Point_Bryce_Canyon_November_2018_panorama.jpg\" srcset=\"//upload.wikimedia.org/wikipedia/commons/thumb/c/c3/Inspiration_Point_Bryce_Canyon_November_2018_panorama.jpg/426px-Inspiration_Point_Bryce_Canyon_November_2018_panorama.jpg 1.5x, //upload.wikimedia.org/wikipedia/commons/thumb/c/c3/Inspiration_Point_Bryce_Canyon_November_2018_panorama.jpg/568px-Inspiration_Point_Bryce_Canyon_November_2018_panorama.jpg 2x\" width=\"284\"/>"
      ],
      "text/plain": [
       "<IPython.core.display.Markdown object>"
      ]
     },
     "metadata": {},
     "output_type": "display_data"
    },
    {
     "data": {
      "text/markdown": [
       "<img alt=\"\" class=\"thumbimage\" data-file-height=\"6688\" data-file-width=\"19709\" decoding=\"async\" height=\"271\" src=\"//upload.wikimedia.org/wikipedia/commons/thumb/5/59/Bryce_Amphitheater_from_Sunrise_Point_Highres_2013.jpg/800px-Bryce_Amphitheater_from_Sunrise_Point_Highres_2013.jpg\" srcset=\"//upload.wikimedia.org/wikipedia/commons/thumb/5/59/Bryce_Amphitheater_from_Sunrise_Point_Highres_2013.jpg/1200px-Bryce_Amphitheater_from_Sunrise_Point_Highres_2013.jpg 1.5x, //upload.wikimedia.org/wikipedia/commons/thumb/5/59/Bryce_Amphitheater_from_Sunrise_Point_Highres_2013.jpg/1600px-Bryce_Amphitheater_from_Sunrise_Point_Highres_2013.jpg 2x\" width=\"800\"/>"
      ],
      "text/plain": [
       "<IPython.core.display.Markdown object>"
      ]
     },
     "metadata": {},
     "output_type": "display_data"
    },
    {
     "name": "stdout",
     "output_type": "stream",
     "text": [
      "\n",
      "\n",
      "8 Canyonlands National Park\n"
     ]
    },
    {
     "data": {
      "text/markdown": [
       "<img alt=\"Green River Overlook Ekker Butte.jpg\" data-file-height=\"1900\" data-file-width=\"3059\" decoding=\"async\" height=\"176\" src=\"//upload.wikimedia.org/wikipedia/commons/thumb/9/99/Green_River_Overlook_Ekker_Butte.jpg/284px-Green_River_Overlook_Ekker_Butte.jpg\" srcset=\"//upload.wikimedia.org/wikipedia/commons/thumb/9/99/Green_River_Overlook_Ekker_Butte.jpg/426px-Green_River_Overlook_Ekker_Butte.jpg 1.5x, //upload.wikimedia.org/wikipedia/commons/thumb/9/99/Green_River_Overlook_Ekker_Butte.jpg/568px-Green_River_Overlook_Ekker_Butte.jpg 2x\" width=\"284\"/>"
      ],
      "text/plain": [
       "<IPython.core.display.Markdown object>"
      ]
     },
     "metadata": {},
     "output_type": "display_data"
    },
    {
     "data": {
      "text/markdown": [
       "<img alt=\"\" class=\"thumbimage\" data-file-height=\"1507\" data-file-width=\"3264\" decoding=\"async\" height=\"152\" src=\"//upload.wikimedia.org/wikipedia/commons/thumb/a/aa/Chesler_Park_-_Flickr_-_brewbooks_%283%29.jpg/330px-Chesler_Park_-_Flickr_-_brewbooks_%283%29.jpg\" srcset=\"//upload.wikimedia.org/wikipedia/commons/thumb/a/aa/Chesler_Park_-_Flickr_-_brewbooks_%283%29.jpg/495px-Chesler_Park_-_Flickr_-_brewbooks_%283%29.jpg 1.5x, //upload.wikimedia.org/wikipedia/commons/thumb/a/aa/Chesler_Park_-_Flickr_-_brewbooks_%283%29.jpg/660px-Chesler_Park_-_Flickr_-_brewbooks_%283%29.jpg 2x\" width=\"330\"/>"
      ],
      "text/plain": [
       "<IPython.core.display.Markdown object>"
      ]
     },
     "metadata": {},
     "output_type": "display_data"
    },
    {
     "name": "stdout",
     "output_type": "stream",
     "text": [
      "\n",
      "\n",
      "9 Capitol Reef National Park\n"
     ]
    },
    {
     "data": {
      "text/markdown": [
       "<img alt=\"Capitol Reef National Park.jpg\" data-file-height=\"1887\" data-file-width=\"2694\" decoding=\"async\" height=\"199\" src=\"//upload.wikimedia.org/wikipedia/commons/thumb/1/1f/Capitol_Reef_National_Park.jpg/284px-Capitol_Reef_National_Park.jpg\" srcset=\"//upload.wikimedia.org/wikipedia/commons/thumb/1/1f/Capitol_Reef_National_Park.jpg/426px-Capitol_Reef_National_Park.jpg 1.5x, //upload.wikimedia.org/wikipedia/commons/thumb/1/1f/Capitol_Reef_National_Park.jpg/568px-Capitol_Reef_National_Park.jpg 2x\" width=\"284\"/>"
      ],
      "text/plain": [
       "<IPython.core.display.Markdown object>"
      ]
     },
     "metadata": {},
     "output_type": "display_data"
    },
    {
     "data": {
      "text/markdown": [
       "<img alt=\"\" class=\"thumbimage\" data-file-height=\"800\" data-file-width=\"600\" decoding=\"async\" height=\"227\" src=\"//upload.wikimedia.org/wikipedia/commons/thumb/6/6d/CapitolGorgePetroglyphs.jpg/170px-CapitolGorgePetroglyphs.jpg\" srcset=\"//upload.wikimedia.org/wikipedia/commons/thumb/6/6d/CapitolGorgePetroglyphs.jpg/255px-CapitolGorgePetroglyphs.jpg 1.5x, //upload.wikimedia.org/wikipedia/commons/thumb/6/6d/CapitolGorgePetroglyphs.jpg/340px-CapitolGorgePetroglyphs.jpg 2x\" width=\"170\"/>"
      ],
      "text/plain": [
       "<IPython.core.display.Markdown object>"
      ]
     },
     "metadata": {},
     "output_type": "display_data"
    },
    {
     "name": "stdout",
     "output_type": "stream",
     "text": [
      "\n",
      "\n",
      "10 Carlsbad Caverns National Park\n"
     ]
    },
    {
     "data": {
      "text/markdown": [
       "<img alt=\"Carlsbad Interior Formations.jpg\" data-file-height=\"546\" data-file-width=\"800\" decoding=\"async\" height=\"194\" src=\"//upload.wikimedia.org/wikipedia/commons/thumb/d/dd/Carlsbad_Interior_Formations.jpg/284px-Carlsbad_Interior_Formations.jpg\" srcset=\"//upload.wikimedia.org/wikipedia/commons/thumb/d/dd/Carlsbad_Interior_Formations.jpg/426px-Carlsbad_Interior_Formations.jpg 1.5x, //upload.wikimedia.org/wikipedia/commons/thumb/d/dd/Carlsbad_Interior_Formations.jpg/568px-Carlsbad_Interior_Formations.jpg 2x\" width=\"284\"/>"
      ],
      "text/plain": [
       "<IPython.core.display.Markdown object>"
      ]
     },
     "metadata": {},
     "output_type": "display_data"
    },
    {
     "data": {
      "text/markdown": [
       "<img alt=\"\" class=\"thumbimage\" data-file-height=\"1546\" data-file-width=\"2000\" decoding=\"async\" height=\"170\" src=\"//upload.wikimedia.org/wikipedia/commons/thumb/f/fa/%22Close_up_view_of_%27Elevator_House%2C%27_Carlsbad_Caverns_National_Park%2C%22_New_Mexico.%2C_1933_-_1942_-_NARA_-_520032.jpg/220px-%22Close_up_view_of_%27Elevator_House%2C%27_Carlsbad_Caverns_National_Park%2C%22_New_Mexico.%2C_1933_-_1942_-_NARA_-_520032.jpg\" srcset=\"//upload.wikimedia.org/wikipedia/commons/thumb/f/fa/%22Close_up_view_of_%27Elevator_House%2C%27_Carlsbad_Caverns_National_Park%2C%22_New_Mexico.%2C_1933_-_1942_-_NARA_-_520032.jpg/330px-%22Close_up_view_of_%27Elevator_House%2C%27_Carlsbad_Caverns_National_Park%2C%22_New_Mexico.%2C_1933_-_1942_-_NARA_-_520032.jpg 1.5x, //upload.wikimedia.org/wikipedia/commons/thumb/f/fa/%22Close_up_view_of_%27Elevator_House%2C%27_Carlsbad_Caverns_National_Park%2C%22_New_Mexico.%2C_1933_-_1942_-_NARA_-_520032.jpg/440px-%22Close_up_view_of_%27Elevator_House%2C%27_Carlsbad_Caverns_National_Park%2C%22_New_Mexico.%2C_1933_-_1942_-_NARA_-_520032.jpg 2x\" width=\"220\"/>"
      ],
      "text/plain": [
       "<IPython.core.display.Markdown object>"
      ]
     },
     "metadata": {},
     "output_type": "display_data"
    },
    {
     "name": "stdout",
     "output_type": "stream",
     "text": [
      "\n",
      "\n",
      "11 Channel Islands National Park\n"
     ]
    },
    {
     "data": {
      "text/markdown": [
       "<img alt=\"Channel Islands National Park by Sentinel-2.jpg\" data-file-height=\"8826\" data-file-width=\"14738\" decoding=\"async\" height=\"170\" src=\"//upload.wikimedia.org/wikipedia/commons/thumb/4/42/Channel_Islands_National_Park_by_Sentinel-2.jpg/284px-Channel_Islands_National_Park_by_Sentinel-2.jpg\" srcset=\"//upload.wikimedia.org/wikipedia/commons/thumb/4/42/Channel_Islands_National_Park_by_Sentinel-2.jpg/426px-Channel_Islands_National_Park_by_Sentinel-2.jpg 1.5x, //upload.wikimedia.org/wikipedia/commons/thumb/4/42/Channel_Islands_National_Park_by_Sentinel-2.jpg/568px-Channel_Islands_National_Park_by_Sentinel-2.jpg 2x\" width=\"284\"/>"
      ],
      "text/plain": [
       "<IPython.core.display.Markdown object>"
      ]
     },
     "metadata": {},
     "output_type": "display_data"
    },
    {
     "data": {
      "text/markdown": [
       "<img alt=\"\" class=\"thumbimage\" data-file-height=\"409\" data-file-width=\"611\" decoding=\"async\" height=\"201\" src=\"//upload.wikimedia.org/wikipedia/commons/thumb/9/95/Channel_Islands_11.jpg/300px-Channel_Islands_11.jpg\" srcset=\"//upload.wikimedia.org/wikipedia/commons/thumb/9/95/Channel_Islands_11.jpg/450px-Channel_Islands_11.jpg 1.5x, //upload.wikimedia.org/wikipedia/commons/thumb/9/95/Channel_Islands_11.jpg/600px-Channel_Islands_11.jpg 2x\" width=\"300\"/>"
      ],
      "text/plain": [
       "<IPython.core.display.Markdown object>"
      ]
     },
     "metadata": {},
     "output_type": "display_data"
    },
    {
     "name": "stdout",
     "output_type": "stream",
     "text": [
      "\n",
      "\n",
      "12 Congaree National Park\n"
     ]
    },
    {
     "data": {
      "text/markdown": [
       "<img alt=\"A slightly elevated wooden boardwalk passes through an old growth forest of bald cypress and water tupelo trees\" data-file-height=\"534\" data-file-width=\"800\" decoding=\"async\" height=\"190\" src=\"//upload.wikimedia.org/wikipedia/commons/thumb/4/4f/A548%2C_Congaree_National_Park%2C_South_Carolina%2C_USA%2C_2012.jpg/284px-A548%2C_Congaree_National_Park%2C_South_Carolina%2C_USA%2C_2012.jpg\" srcset=\"//upload.wikimedia.org/wikipedia/commons/thumb/4/4f/A548%2C_Congaree_National_Park%2C_South_Carolina%2C_USA%2C_2012.jpg/426px-A548%2C_Congaree_National_Park%2C_South_Carolina%2C_USA%2C_2012.jpg 1.5x, //upload.wikimedia.org/wikipedia/commons/thumb/4/4f/A548%2C_Congaree_National_Park%2C_South_Carolina%2C_USA%2C_2012.jpg/568px-A548%2C_Congaree_National_Park%2C_South_Carolina%2C_USA%2C_2012.jpg 2x\" width=\"284\"/>"
      ],
      "text/plain": [
       "<IPython.core.display.Markdown object>"
      ]
     },
     "metadata": {},
     "output_type": "display_data"
    },
    {
     "data": {
      "text/markdown": [
       "<img alt=\"\" class=\"thumbimage\" data-file-height=\"2736\" data-file-width=\"3648\" decoding=\"async\" height=\"165\" src=\"//upload.wikimedia.org/wikipedia/commons/thumb/a/ad/Baldcypress_%28Taxodium_distichum%29_on_Congaree_National_Park_Low_Boardwalk_trail.jpg/220px-Baldcypress_%28Taxodium_distichum%29_on_Congaree_National_Park_Low_Boardwalk_trail.jpg\" srcset=\"//upload.wikimedia.org/wikipedia/commons/thumb/a/ad/Baldcypress_%28Taxodium_distichum%29_on_Congaree_National_Park_Low_Boardwalk_trail.jpg/330px-Baldcypress_%28Taxodium_distichum%29_on_Congaree_National_Park_Low_Boardwalk_trail.jpg 1.5x, //upload.wikimedia.org/wikipedia/commons/thumb/a/ad/Baldcypress_%28Taxodium_distichum%29_on_Congaree_National_Park_Low_Boardwalk_trail.jpg/440px-Baldcypress_%28Taxodium_distichum%29_on_Congaree_National_Park_Low_Boardwalk_trail.jpg 2x\" width=\"220\"/>"
      ],
      "text/plain": [
       "<IPython.core.display.Markdown object>"
      ]
     },
     "metadata": {},
     "output_type": "display_data"
    },
    {
     "name": "stdout",
     "output_type": "stream",
     "text": [
      "\n",
      "\n",
      "13 Crater Lake National Park\n"
     ]
    },
    {
     "data": {
      "text/markdown": [
       "<img alt=\"Above Crater Lake (cropped).jpg\" data-file-height=\"3078\" data-file-width=\"7695\" decoding=\"async\" height=\"114\" src=\"//upload.wikimedia.org/wikipedia/commons/thumb/8/8d/Above_Crater_Lake_%28cropped%29.jpg/284px-Above_Crater_Lake_%28cropped%29.jpg\" srcset=\"//upload.wikimedia.org/wikipedia/commons/thumb/8/8d/Above_Crater_Lake_%28cropped%29.jpg/426px-Above_Crater_Lake_%28cropped%29.jpg 1.5x, //upload.wikimedia.org/wikipedia/commons/thumb/8/8d/Above_Crater_Lake_%28cropped%29.jpg/568px-Above_Crater_Lake_%28cropped%29.jpg 2x\" width=\"284\"/>"
      ],
      "text/plain": [
       "<IPython.core.display.Markdown object>"
      ]
     },
     "metadata": {},
     "output_type": "display_data"
    },
    {
     "data": {
      "text/markdown": [
       "<img alt=\"\" class=\"thumbimage\" data-file-height=\"545\" data-file-width=\"816\" decoding=\"async\" height=\"147\" src=\"//upload.wikimedia.org/wikipedia/commons/thumb/3/30/Crater_Lake_ISS_%28rotated_and_cropped%29.jpg/220px-Crater_Lake_ISS_%28rotated_and_cropped%29.jpg\" srcset=\"//upload.wikimedia.org/wikipedia/commons/thumb/3/30/Crater_Lake_ISS_%28rotated_and_cropped%29.jpg/330px-Crater_Lake_ISS_%28rotated_and_cropped%29.jpg 1.5x, //upload.wikimedia.org/wikipedia/commons/thumb/3/30/Crater_Lake_ISS_%28rotated_and_cropped%29.jpg/440px-Crater_Lake_ISS_%28rotated_and_cropped%29.jpg 2x\" width=\"220\"/>"
      ],
      "text/plain": [
       "<IPython.core.display.Markdown object>"
      ]
     },
     "metadata": {},
     "output_type": "display_data"
    },
    {
     "name": "stdout",
     "output_type": "stream",
     "text": [
      "\n",
      "\n",
      "14 Cuyahoga Valley National Park\n"
     ]
    },
    {
     "data": {
      "text/markdown": [
       "<img alt=\"Cuyahoga Valley National Park.jpg\" data-file-height=\"1952\" data-file-width=\"2592\" decoding=\"async\" height=\"214\" src=\"//upload.wikimedia.org/wikipedia/commons/thumb/1/13/Cuyahoga_Valley_National_Park.jpg/284px-Cuyahoga_Valley_National_Park.jpg\" srcset=\"//upload.wikimedia.org/wikipedia/commons/thumb/1/13/Cuyahoga_Valley_National_Park.jpg/426px-Cuyahoga_Valley_National_Park.jpg 1.5x, //upload.wikimedia.org/wikipedia/commons/thumb/1/13/Cuyahoga_Valley_National_Park.jpg/568px-Cuyahoga_Valley_National_Park.jpg 2x\" width=\"284\"/>"
      ],
      "text/plain": [
       "<IPython.core.display.Markdown object>"
      ]
     },
     "metadata": {},
     "output_type": "display_data"
    },
    {
     "data": {
      "text/markdown": [
       "<img alt=\"\" class=\"thumbimage\" data-file-height=\"201\" data-file-width=\"335\" decoding=\"async\" height=\"132\" src=\"//upload.wikimedia.org/wikipedia/commons/thumb/7/7d/Lenni%2Blenape%2Bflag.jpg/220px-Lenni%2Blenape%2Bflag.jpg\" srcset=\"//upload.wikimedia.org/wikipedia/commons/thumb/7/7d/Lenni%2Blenape%2Bflag.jpg/330px-Lenni%2Blenape%2Bflag.jpg 1.5x, //upload.wikimedia.org/wikipedia/commons/7/7d/Lenni%2Blenape%2Bflag.jpg 2x\" width=\"220\"/>"
      ],
      "text/plain": [
       "<IPython.core.display.Markdown object>"
      ]
     },
     "metadata": {},
     "output_type": "display_data"
    },
    {
     "name": "stdout",
     "output_type": "stream",
     "text": [
      "\n",
      "\n",
      "15 Death Valley National Park\n"
     ]
    },
    {
     "data": {
      "text/markdown": [
       "<img alt=\"Sand Dunes in Death Valley National Park.jpg\" data-file-height=\"1149\" data-file-width=\"1777\" decoding=\"async\" height=\"184\" src=\"//upload.wikimedia.org/wikipedia/commons/thumb/b/b2/Sand_Dunes_in_Death_Valley_National_Park.jpg/284px-Sand_Dunes_in_Death_Valley_National_Park.jpg\" srcset=\"//upload.wikimedia.org/wikipedia/commons/thumb/b/b2/Sand_Dunes_in_Death_Valley_National_Park.jpg/426px-Sand_Dunes_in_Death_Valley_National_Park.jpg 1.5x, //upload.wikimedia.org/wikipedia/commons/thumb/b/b2/Sand_Dunes_in_Death_Valley_National_Park.jpg/568px-Sand_Dunes_in_Death_Valley_National_Park.jpg 2x\" width=\"284\"/>"
      ],
      "text/plain": [
       "<IPython.core.display.Markdown object>"
      ]
     },
     "metadata": {},
     "output_type": "display_data"
    },
    {
     "data": {
      "text/markdown": [
       "<img alt=\"\" class=\"thumbimage\" data-file-height=\"3000\" data-file-width=\"4000\" decoding=\"async\" height=\"165\" src=\"//upload.wikimedia.org/wikipedia/commons/thumb/1/1a/TelescopePeak031411.jpg/220px-TelescopePeak031411.jpg\" srcset=\"//upload.wikimedia.org/wikipedia/commons/thumb/1/1a/TelescopePeak031411.jpg/330px-TelescopePeak031411.jpg 1.5x, //upload.wikimedia.org/wikipedia/commons/thumb/1/1a/TelescopePeak031411.jpg/440px-TelescopePeak031411.jpg 2x\" width=\"220\"/>"
      ],
      "text/plain": [
       "<IPython.core.display.Markdown object>"
      ]
     },
     "metadata": {},
     "output_type": "display_data"
    },
    {
     "name": "stdout",
     "output_type": "stream",
     "text": [
      "\n",
      "\n",
      "16 Denali National Park and Preserve\n"
     ]
    },
    {
     "data": {
      "text/markdown": [
       "<img alt=\"Every Road- Denali (7945497984).jpg\" data-file-height=\"2848\" data-file-width=\"4288\" decoding=\"async\" height=\"189\" src=\"//upload.wikimedia.org/wikipedia/commons/thumb/c/c6/Every_Road-_Denali_%287945497984%29.jpg/284px-Every_Road-_Denali_%287945497984%29.jpg\" srcset=\"//upload.wikimedia.org/wikipedia/commons/thumb/c/c6/Every_Road-_Denali_%287945497984%29.jpg/426px-Every_Road-_Denali_%287945497984%29.jpg 1.5x, //upload.wikimedia.org/wikipedia/commons/thumb/c/c6/Every_Road-_Denali_%287945497984%29.jpg/568px-Every_Road-_Denali_%287945497984%29.jpg 2x\" width=\"284\"/>"
      ],
      "text/plain": [
       "<IPython.core.display.Markdown object>"
      ]
     },
     "metadata": {},
     "output_type": "display_data"
    },
    {
     "data": {
      "text/markdown": [
       "<img alt=\"\" class=\"thumbimage\" data-file-height=\"2448\" data-file-width=\"3264\" decoding=\"async\" height=\"165\" src=\"//upload.wikimedia.org/wikipedia/commons/thumb/9/9e/Denali_Park_History.jpg/220px-Denali_Park_History.jpg\" srcset=\"//upload.wikimedia.org/wikipedia/commons/thumb/9/9e/Denali_Park_History.jpg/330px-Denali_Park_History.jpg 1.5x, //upload.wikimedia.org/wikipedia/commons/thumb/9/9e/Denali_Park_History.jpg/440px-Denali_Park_History.jpg 2x\" width=\"220\"/>"
      ],
      "text/plain": [
       "<IPython.core.display.Markdown object>"
      ]
     },
     "metadata": {},
     "output_type": "display_data"
    },
    {
     "name": "stdout",
     "output_type": "stream",
     "text": [
      "\n",
      "\n",
      "17 Dry Tortugas National Park\n"
     ]
    },
    {
     "data": {
      "text/markdown": [
       "<img alt=\"Fort-Jefferson Dry-Tortugas.jpg\" data-file-height=\"796\" data-file-width=\"1200\" decoding=\"async\" height=\"188\" src=\"//upload.wikimedia.org/wikipedia/commons/thumb/5/5f/Fort-Jefferson_Dry-Tortugas.jpg/284px-Fort-Jefferson_Dry-Tortugas.jpg\" srcset=\"//upload.wikimedia.org/wikipedia/commons/thumb/5/5f/Fort-Jefferson_Dry-Tortugas.jpg/426px-Fort-Jefferson_Dry-Tortugas.jpg 1.5x, //upload.wikimedia.org/wikipedia/commons/thumb/5/5f/Fort-Jefferson_Dry-Tortugas.jpg/568px-Fort-Jefferson_Dry-Tortugas.jpg 2x\" width=\"284\"/>"
      ],
      "text/plain": [
       "<IPython.core.display.Markdown object>"
      ]
     },
     "metadata": {},
     "output_type": "display_data"
    },
    {
     "data": {
      "text/markdown": [
       "<img alt=\"\" class=\"thumbimage\" data-file-height=\"1350\" data-file-width=\"1800\" decoding=\"async\" height=\"165\" src=\"//upload.wikimedia.org/wikipedia/commons/thumb/6/61/Under_the_sea_at_Dry_Tortugas_National_Park_%286022400840%29.jpg/220px-Under_the_sea_at_Dry_Tortugas_National_Park_%286022400840%29.jpg\" srcset=\"//upload.wikimedia.org/wikipedia/commons/thumb/6/61/Under_the_sea_at_Dry_Tortugas_National_Park_%286022400840%29.jpg/330px-Under_the_sea_at_Dry_Tortugas_National_Park_%286022400840%29.jpg 1.5x, //upload.wikimedia.org/wikipedia/commons/thumb/6/61/Under_the_sea_at_Dry_Tortugas_National_Park_%286022400840%29.jpg/440px-Under_the_sea_at_Dry_Tortugas_National_Park_%286022400840%29.jpg 2x\" width=\"220\"/>"
      ],
      "text/plain": [
       "<IPython.core.display.Markdown object>"
      ]
     },
     "metadata": {},
     "output_type": "display_data"
    },
    {
     "name": "stdout",
     "output_type": "stream",
     "text": [
      "\n",
      "\n",
      "18 Everglades National Park\n"
     ]
    },
    {
     "data": {
      "text/markdown": [
       "<img alt=\"Sunset over the River of Grass, NPSphoto, G.Gardner (9255157507).jpg\" data-file-height=\"3264\" data-file-width=\"4896\" decoding=\"async\" height=\"189\" src=\"//upload.wikimedia.org/wikipedia/commons/thumb/2/2a/Sunset_over_the_River_of_Grass%2C_NPSphoto%2C_G.Gardner_%289255157507%29.jpg/284px-Sunset_over_the_River_of_Grass%2C_NPSphoto%2C_G.Gardner_%289255157507%29.jpg\" srcset=\"//upload.wikimedia.org/wikipedia/commons/thumb/2/2a/Sunset_over_the_River_of_Grass%2C_NPSphoto%2C_G.Gardner_%289255157507%29.jpg/426px-Sunset_over_the_River_of_Grass%2C_NPSphoto%2C_G.Gardner_%289255157507%29.jpg 1.5x, //upload.wikimedia.org/wikipedia/commons/thumb/2/2a/Sunset_over_the_River_of_Grass%2C_NPSphoto%2C_G.Gardner_%289255157507%29.jpg/568px-Sunset_over_the_River_of_Grass%2C_NPSphoto%2C_G.Gardner_%289255157507%29.jpg 2x\" width=\"284\"/>"
      ],
      "text/plain": [
       "<IPython.core.display.Markdown object>"
      ]
     },
     "metadata": {},
     "output_type": "display_data"
    },
    {
     "data": {
      "text/markdown": [
       "<img alt=\"\" class=\"thumbimage\" data-file-height=\"600\" data-file-width=\"900\" decoding=\"async\" height=\"147\" src=\"//upload.wikimedia.org/wikipedia/commons/thumb/7/71/Everglades_Natl_Park_Alligator.jpg/220px-Everglades_Natl_Park_Alligator.jpg\" srcset=\"//upload.wikimedia.org/wikipedia/commons/thumb/7/71/Everglades_Natl_Park_Alligator.jpg/330px-Everglades_Natl_Park_Alligator.jpg 1.5x, //upload.wikimedia.org/wikipedia/commons/thumb/7/71/Everglades_Natl_Park_Alligator.jpg/440px-Everglades_Natl_Park_Alligator.jpg 2x\" width=\"220\"/>"
      ],
      "text/plain": [
       "<IPython.core.display.Markdown object>"
      ]
     },
     "metadata": {},
     "output_type": "display_data"
    },
    {
     "name": "stdout",
     "output_type": "stream",
     "text": [
      "\n",
      "\n",
      "19 Gates of the Arctic National Park and Preserve\n"
     ]
    },
    {
     "data": {
      "text/markdown": [
       "<img alt=\"Oolah Valley (16089307144).jpg\" data-file-height=\"2848\" data-file-width=\"4288\" decoding=\"async\" height=\"189\" src=\"//upload.wikimedia.org/wikipedia/commons/thumb/6/63/Oolah_Valley_%2816089307144%29.jpg/284px-Oolah_Valley_%2816089307144%29.jpg\" srcset=\"//upload.wikimedia.org/wikipedia/commons/thumb/6/63/Oolah_Valley_%2816089307144%29.jpg/426px-Oolah_Valley_%2816089307144%29.jpg 1.5x, //upload.wikimedia.org/wikipedia/commons/thumb/6/63/Oolah_Valley_%2816089307144%29.jpg/568px-Oolah_Valley_%2816089307144%29.jpg 2x\" width=\"284\"/>"
      ],
      "text/plain": [
       "<IPython.core.display.Markdown object>"
      ]
     },
     "metadata": {},
     "output_type": "display_data"
    },
    {
     "data": {
      "text/markdown": [
       "<img alt=\"Hiking in the Brooks Range\" class=\"thumbimage\" data-file-height=\"3000\" data-file-width=\"6000\" decoding=\"async\" height=\"155\" src=\"//upload.wikimedia.org/wikipedia/commons/thumb/7/7f/Thunder_Valley._Gates_of_the_Arctic_National_Park%2C_Brooks_Range%2C_Alaska.jpg/310px-Thunder_Valley._Gates_of_the_Arctic_National_Park%2C_Brooks_Range%2C_Alaska.jpg\" srcset=\"//upload.wikimedia.org/wikipedia/commons/thumb/7/7f/Thunder_Valley._Gates_of_the_Arctic_National_Park%2C_Brooks_Range%2C_Alaska.jpg/465px-Thunder_Valley._Gates_of_the_Arctic_National_Park%2C_Brooks_Range%2C_Alaska.jpg 1.5x, //upload.wikimedia.org/wikipedia/commons/thumb/7/7f/Thunder_Valley._Gates_of_the_Arctic_National_Park%2C_Brooks_Range%2C_Alaska.jpg/620px-Thunder_Valley._Gates_of_the_Arctic_National_Park%2C_Brooks_Range%2C_Alaska.jpg 2x\" width=\"310\"/>"
      ],
      "text/plain": [
       "<IPython.core.display.Markdown object>"
      ]
     },
     "metadata": {},
     "output_type": "display_data"
    },
    {
     "name": "stdout",
     "output_type": "stream",
     "text": [
      "\n",
      "\n",
      "22 Grand Canyon National Park\n"
     ]
    },
    {
     "data": {
      "text/markdown": [
       "<img alt=\"Dawn on the S rim of the Grand Canyon (8645178272).jpg\" data-file-height=\"1414\" data-file-width=\"2121\" decoding=\"async\" height=\"189\" src=\"//upload.wikimedia.org/wikipedia/commons/thumb/a/aa/Dawn_on_the_S_rim_of_the_Grand_Canyon_%288645178272%29.jpg/284px-Dawn_on_the_S_rim_of_the_Grand_Canyon_%288645178272%29.jpg\" srcset=\"//upload.wikimedia.org/wikipedia/commons/thumb/a/aa/Dawn_on_the_S_rim_of_the_Grand_Canyon_%288645178272%29.jpg/426px-Dawn_on_the_S_rim_of_the_Grand_Canyon_%288645178272%29.jpg 1.5x, //upload.wikimedia.org/wikipedia/commons/thumb/a/aa/Dawn_on_the_S_rim_of_the_Grand_Canyon_%288645178272%29.jpg/568px-Dawn_on_the_S_rim_of_the_Grand_Canyon_%288645178272%29.jpg 2x\" width=\"284\"/>"
      ],
      "text/plain": [
       "<IPython.core.display.Markdown object>"
      ]
     },
     "metadata": {},
     "output_type": "display_data"
    },
    {
     "data": {
      "text/markdown": [
       "<img alt=\"\" class=\"thumbimage\" data-file-height=\"984\" data-file-width=\"722\" decoding=\"async\" height=\"232\" src=\"//upload.wikimedia.org/wikipedia/commons/thumb/3/3e/Grand_Canyon_poster_1938.jpg/170px-Grand_Canyon_poster_1938.jpg\" srcset=\"//upload.wikimedia.org/wikipedia/commons/thumb/3/3e/Grand_Canyon_poster_1938.jpg/255px-Grand_Canyon_poster_1938.jpg 1.5x, //upload.wikimedia.org/wikipedia/commons/thumb/3/3e/Grand_Canyon_poster_1938.jpg/340px-Grand_Canyon_poster_1938.jpg 2x\" width=\"170\"/>"
      ],
      "text/plain": [
       "<IPython.core.display.Markdown object>"
      ]
     },
     "metadata": {},
     "output_type": "display_data"
    },
    {
     "name": "stdout",
     "output_type": "stream",
     "text": [
      "\n",
      "\n",
      "24 Great Basin National Park\n"
     ]
    },
    {
     "data": {
      "text/markdown": [
       "<img alt=\"Prometheus Wheeler.jpg\" data-file-height=\"533\" data-file-width=\"796\" decoding=\"async\" height=\"190\" src=\"//upload.wikimedia.org/wikipedia/commons/thumb/b/be/Prometheus_Wheeler.jpg/284px-Prometheus_Wheeler.jpg\" srcset=\"//upload.wikimedia.org/wikipedia/commons/thumb/b/be/Prometheus_Wheeler.jpg/426px-Prometheus_Wheeler.jpg 1.5x, //upload.wikimedia.org/wikipedia/commons/thumb/b/be/Prometheus_Wheeler.jpg/568px-Prometheus_Wheeler.jpg 2x\" width=\"284\"/>"
      ],
      "text/plain": [
       "<IPython.core.display.Markdown object>"
      ]
     },
     "metadata": {},
     "output_type": "display_data"
    },
    {
     "data": {
      "text/markdown": [
       "<img alt=\"\" class=\"thumbimage\" data-file-height=\"3888\" data-file-width=\"5184\" decoding=\"async\" height=\"165\" src=\"//upload.wikimedia.org/wikipedia/commons/thumb/2/2f/Great_Basin_National_Park_aerial_view.jpg/220px-Great_Basin_National_Park_aerial_view.jpg\" srcset=\"//upload.wikimedia.org/wikipedia/commons/thumb/2/2f/Great_Basin_National_Park_aerial_view.jpg/330px-Great_Basin_National_Park_aerial_view.jpg 1.5x, //upload.wikimedia.org/wikipedia/commons/thumb/2/2f/Great_Basin_National_Park_aerial_view.jpg/440px-Great_Basin_National_Park_aerial_view.jpg 2x\" width=\"220\"/>"
      ],
      "text/plain": [
       "<IPython.core.display.Markdown object>"
      ]
     },
     "metadata": {},
     "output_type": "display_data"
    },
    {
     "name": "stdout",
     "output_type": "stream",
     "text": [
      "\n",
      "\n",
      "25 Great Sand Dunes National Park and Preserve\n"
     ]
    },
    {
     "data": {
      "text/markdown": [
       "<img alt=\"Great Sand Dunes National Park and Preserve, United States (Unsplash).jpg\" data-file-height=\"4000\" data-file-width=\"6000\" decoding=\"async\" height=\"189\" src=\"//upload.wikimedia.org/wikipedia/commons/thumb/4/48/Great_Sand_Dunes_National_Park_and_Preserve%2C_United_States_%28Unsplash%29.jpg/284px-Great_Sand_Dunes_National_Park_and_Preserve%2C_United_States_%28Unsplash%29.jpg\" srcset=\"//upload.wikimedia.org/wikipedia/commons/thumb/4/48/Great_Sand_Dunes_National_Park_and_Preserve%2C_United_States_%28Unsplash%29.jpg/426px-Great_Sand_Dunes_National_Park_and_Preserve%2C_United_States_%28Unsplash%29.jpg 1.5x, //upload.wikimedia.org/wikipedia/commons/thumb/4/48/Great_Sand_Dunes_National_Park_and_Preserve%2C_United_States_%28Unsplash%29.jpg/568px-Great_Sand_Dunes_National_Park_and_Preserve%2C_United_States_%28Unsplash%29.jpg 2x\" width=\"284\"/>"
      ],
      "text/plain": [
       "<IPython.core.display.Markdown object>"
      ]
     },
     "metadata": {},
     "output_type": "display_data"
    },
    {
     "data": {
      "text/markdown": [
       "<img alt=\"\" class=\"thumbimage\" data-file-height=\"606\" data-file-width=\"590\" decoding=\"async\" height=\"175\" src=\"//upload.wikimedia.org/wikipedia/commons/thumb/8/8e/John_Charles_Fremont%2C_engraving.jpg/170px-John_Charles_Fremont%2C_engraving.jpg\" srcset=\"//upload.wikimedia.org/wikipedia/commons/thumb/8/8e/John_Charles_Fremont%2C_engraving.jpg/255px-John_Charles_Fremont%2C_engraving.jpg 1.5x, //upload.wikimedia.org/wikipedia/commons/thumb/8/8e/John_Charles_Fremont%2C_engraving.jpg/340px-John_Charles_Fremont%2C_engraving.jpg 2x\" width=\"170\"/>"
      ],
      "text/plain": [
       "<IPython.core.display.Markdown object>"
      ]
     },
     "metadata": {},
     "output_type": "display_data"
    },
    {
     "name": "stdout",
     "output_type": "stream",
     "text": [
      "\n",
      "\n",
      "26 Great Smoky Mountains National Park\n"
     ]
    },
    {
     "data": {
      "text/markdown": [
       "<img alt=\"Clifftops4-7-07.jpg\" data-file-height=\"2592\" data-file-width=\"3888\" decoding=\"async\" height=\"189\" src=\"//upload.wikimedia.org/wikipedia/commons/thumb/3/3a/Clifftops4-7-07.jpg/284px-Clifftops4-7-07.jpg\" srcset=\"//upload.wikimedia.org/wikipedia/commons/thumb/3/3a/Clifftops4-7-07.jpg/426px-Clifftops4-7-07.jpg 1.5x, //upload.wikimedia.org/wikipedia/commons/thumb/3/3a/Clifftops4-7-07.jpg/568px-Clifftops4-7-07.jpg 2x\" width=\"284\"/>"
      ],
      "text/plain": [
       "<IPython.core.display.Markdown object>"
      ]
     },
     "metadata": {},
     "output_type": "display_data"
    },
    {
     "data": {
      "text/markdown": [
       "<img alt=\"\" class=\"thumbimage\" data-file-height=\"2230\" data-file-width=\"3000\" decoding=\"async\" height=\"164\" src=\"//upload.wikimedia.org/wikipedia/commons/thumb/2/22/Bad_Lands%2C_Unaka_National_Forest_-_NARA_-_280115.jpg/220px-Bad_Lands%2C_Unaka_National_Forest_-_NARA_-_280115.jpg\" srcset=\"//upload.wikimedia.org/wikipedia/commons/thumb/2/22/Bad_Lands%2C_Unaka_National_Forest_-_NARA_-_280115.jpg/330px-Bad_Lands%2C_Unaka_National_Forest_-_NARA_-_280115.jpg 1.5x, //upload.wikimedia.org/wikipedia/commons/thumb/2/22/Bad_Lands%2C_Unaka_National_Forest_-_NARA_-_280115.jpg/440px-Bad_Lands%2C_Unaka_National_Forest_-_NARA_-_280115.jpg 2x\" width=\"220\"/>"
      ],
      "text/plain": [
       "<IPython.core.display.Markdown object>"
      ]
     },
     "metadata": {},
     "output_type": "display_data"
    },
    {
     "name": "stdout",
     "output_type": "stream",
     "text": [
      "\n",
      "\n",
      "30 Hot Springs National Park\n"
     ]
    },
    {
     "data": {
      "text/markdown": [
       "<img alt=\"Steamy Entrance Springs on Cold Night in Hot Springs National Park.jpg\" data-file-height=\"2456\" data-file-width=\"3752\" decoding=\"async\" height=\"186\" src=\"//upload.wikimedia.org/wikipedia/commons/thumb/a/a1/Steamy_Entrance_Springs_on_Cold_Night_in_Hot_Springs_National_Park.jpg/284px-Steamy_Entrance_Springs_on_Cold_Night_in_Hot_Springs_National_Park.jpg\" srcset=\"//upload.wikimedia.org/wikipedia/commons/thumb/a/a1/Steamy_Entrance_Springs_on_Cold_Night_in_Hot_Springs_National_Park.jpg/426px-Steamy_Entrance_Springs_on_Cold_Night_in_Hot_Springs_National_Park.jpg 1.5x, //upload.wikimedia.org/wikipedia/commons/thumb/a/a1/Steamy_Entrance_Springs_on_Cold_Night_in_Hot_Springs_National_Park.jpg/568px-Steamy_Entrance_Springs_on_Cold_Night_in_Hot_Springs_National_Park.jpg 2x\" width=\"284\"/>"
      ],
      "text/plain": [
       "<IPython.core.display.Markdown object>"
      ]
     },
     "metadata": {},
     "output_type": "display_data"
    },
    {
     "data": {
      "text/markdown": [
       "<img alt=\"\" class=\"thumbimage\" data-file-height=\"413\" data-file-width=\"613\" decoding=\"async\" height=\"148\" src=\"//upload.wikimedia.org/wikipedia/commons/thumb/a/a4/Hots_Springs_National_Park_aerial.jpg/220px-Hots_Springs_National_Park_aerial.jpg\" srcset=\"//upload.wikimedia.org/wikipedia/commons/thumb/a/a4/Hots_Springs_National_Park_aerial.jpg/330px-Hots_Springs_National_Park_aerial.jpg 1.5x, //upload.wikimedia.org/wikipedia/commons/thumb/a/a4/Hots_Springs_National_Park_aerial.jpg/440px-Hots_Springs_National_Park_aerial.jpg 2x\" width=\"220\"/>"
      ],
      "text/plain": [
       "<IPython.core.display.Markdown object>"
      ]
     },
     "metadata": {},
     "output_type": "display_data"
    },
    {
     "name": "stdout",
     "output_type": "stream",
     "text": [
      "\n",
      "\n",
      "31 Indiana Dunes National Park\n"
     ]
    },
    {
     "data": {
      "text/markdown": [
       "<img alt=\"Indiana Dunes National Lakeshore, Michigan City, Indiana, Estados Unidos, 2012-10-20, DD 03.jpg\" data-file-height=\"3457\" data-file-width=\"5186\" decoding=\"async\" height=\"200\" src=\"//upload.wikimedia.org/wikipedia/commons/thumb/3/3d/Indiana_Dunes_National_Lakeshore%2C_Michigan_City%2C_Indiana%2C_Estados_Unidos%2C_2012-10-20%2C_DD_03.jpg/300px-Indiana_Dunes_National_Lakeshore%2C_Michigan_City%2C_Indiana%2C_Estados_Unidos%2C_2012-10-20%2C_DD_03.jpg\" srcset=\"//upload.wikimedia.org/wikipedia/commons/thumb/3/3d/Indiana_Dunes_National_Lakeshore%2C_Michigan_City%2C_Indiana%2C_Estados_Unidos%2C_2012-10-20%2C_DD_03.jpg/450px-Indiana_Dunes_National_Lakeshore%2C_Michigan_City%2C_Indiana%2C_Estados_Unidos%2C_2012-10-20%2C_DD_03.jpg 1.5x, //upload.wikimedia.org/wikipedia/commons/thumb/3/3d/Indiana_Dunes_National_Lakeshore%2C_Michigan_City%2C_Indiana%2C_Estados_Unidos%2C_2012-10-20%2C_DD_03.jpg/600px-Indiana_Dunes_National_Lakeshore%2C_Michigan_City%2C_Indiana%2C_Estados_Unidos%2C_2012-10-20%2C_DD_03.jpg 2x\" width=\"300\"/>"
      ],
      "text/plain": [
       "<IPython.core.display.Markdown object>"
      ]
     },
     "metadata": {},
     "output_type": "display_data"
    },
    {
     "data": {
      "text/markdown": [
       "<img alt=\"\" class=\"thumbimage\" data-file-height=\"2541\" data-file-width=\"1909\" decoding=\"async\" height=\"266\" src=\"//upload.wikimedia.org/wikipedia/en/thumb/3/31/Steven_Mather_Visit_to_Indiana_Dune.jpg/200px-Steven_Mather_Visit_to_Indiana_Dune.jpg\" srcset=\"//upload.wikimedia.org/wikipedia/en/thumb/3/31/Steven_Mather_Visit_to_Indiana_Dune.jpg/300px-Steven_Mather_Visit_to_Indiana_Dune.jpg 1.5x, //upload.wikimedia.org/wikipedia/en/thumb/3/31/Steven_Mather_Visit_to_Indiana_Dune.jpg/400px-Steven_Mather_Visit_to_Indiana_Dune.jpg 2x\" width=\"200\"/>"
      ],
      "text/plain": [
       "<IPython.core.display.Markdown object>"
      ]
     },
     "metadata": {},
     "output_type": "display_data"
    },
    {
     "name": "stdout",
     "output_type": "stream",
     "text": [
      "\n",
      "\n",
      "32 Isle Royale National Park\n"
     ]
    },
    {
     "data": {
      "text/markdown": [
       "<img alt=\"Isle Royale aerial.jpg\" data-file-height=\"212\" data-file-width=\"360\" decoding=\"async\" height=\"167\" src=\"//upload.wikimedia.org/wikipedia/commons/thumb/1/1d/Isle_Royale_aerial.jpg/284px-Isle_Royale_aerial.jpg\" srcset=\"//upload.wikimedia.org/wikipedia/commons/1/1d/Isle_Royale_aerial.jpg 1.5x\" width=\"284\"/>"
      ],
      "text/plain": [
       "<IPython.core.display.Markdown object>"
      ]
     },
     "metadata": {},
     "output_type": "display_data"
    },
    {
     "data": {
      "text/markdown": [
       "<img alt=\"\" class=\"thumbimage\" data-file-height=\"1095\" data-file-width=\"2451\" decoding=\"async\" height=\"156\" src=\"//upload.wikimedia.org/wikipedia/commons/thumb/2/27/IsleRoyaleMap.jpg/350px-IsleRoyaleMap.jpg\" srcset=\"//upload.wikimedia.org/wikipedia/commons/thumb/2/27/IsleRoyaleMap.jpg/525px-IsleRoyaleMap.jpg 1.5x, //upload.wikimedia.org/wikipedia/commons/thumb/2/27/IsleRoyaleMap.jpg/700px-IsleRoyaleMap.jpg 2x\" width=\"350\"/>"
      ],
      "text/plain": [
       "<IPython.core.display.Markdown object>"
      ]
     },
     "metadata": {},
     "output_type": "display_data"
    },
    {
     "name": "stdout",
     "output_type": "stream",
     "text": [
      "\n",
      "\n",
      "33 Joshua Tree National Park\n"
     ]
    },
    {
     "data": {
      "text/markdown": [
       "<img alt=\"Joshua Tree - Cyclops + Potato Head - Sunrise.jpg\" data-file-height=\"1786\" data-file-width=\"3872\" decoding=\"async\" height=\"131\" src=\"//upload.wikimedia.org/wikipedia/commons/thumb/f/f9/Joshua_Tree_-_Cyclops_%2B_Potato_Head_-_Sunrise.jpg/284px-Joshua_Tree_-_Cyclops_%2B_Potato_Head_-_Sunrise.jpg\" srcset=\"//upload.wikimedia.org/wikipedia/commons/thumb/f/f9/Joshua_Tree_-_Cyclops_%2B_Potato_Head_-_Sunrise.jpg/426px-Joshua_Tree_-_Cyclops_%2B_Potato_Head_-_Sunrise.jpg 1.5x, //upload.wikimedia.org/wikipedia/commons/thumb/f/f9/Joshua_Tree_-_Cyclops_%2B_Potato_Head_-_Sunrise.jpg/568px-Joshua_Tree_-_Cyclops_%2B_Potato_Head_-_Sunrise.jpg 2x\" width=\"284\"/>"
      ],
      "text/plain": [
       "<IPython.core.display.Markdown object>"
      ]
     },
     "metadata": {},
     "output_type": "display_data"
    },
    {
     "data": {
      "text/markdown": [
       "<img alt=\"\" class=\"thumbimage\" data-file-height=\"480\" data-file-width=\"720\" decoding=\"async\" height=\"193\" src=\"//upload.wikimedia.org/wikipedia/commons/thumb/b/b0/JoshuatreeNP.jpg/290px-JoshuatreeNP.jpg\" srcset=\"//upload.wikimedia.org/wikipedia/commons/thumb/b/b0/JoshuatreeNP.jpg/435px-JoshuatreeNP.jpg 1.5x, //upload.wikimedia.org/wikipedia/commons/thumb/b/b0/JoshuatreeNP.jpg/580px-JoshuatreeNP.jpg 2x\" width=\"290\"/>"
      ],
      "text/plain": [
       "<IPython.core.display.Markdown object>"
      ]
     },
     "metadata": {},
     "output_type": "display_data"
    },
    {
     "name": "stdout",
     "output_type": "stream",
     "text": [
      "\n",
      "\n",
      "34 Katmai National Park and Preserve\n"
     ]
    },
    {
     "data": {
      "text/markdown": [
       "<img alt=\"Katmai Crater 1980.jpg\" data-file-height=\"1160\" data-file-width=\"1752\" decoding=\"async\" height=\"188\" src=\"//upload.wikimedia.org/wikipedia/commons/thumb/1/1e/Katmai_Crater_1980.jpg/284px-Katmai_Crater_1980.jpg\" srcset=\"//upload.wikimedia.org/wikipedia/commons/thumb/1/1e/Katmai_Crater_1980.jpg/426px-Katmai_Crater_1980.jpg 1.5x, //upload.wikimedia.org/wikipedia/commons/thumb/1/1e/Katmai_Crater_1980.jpg/568px-Katmai_Crater_1980.jpg 2x\" width=\"284\"/>"
      ],
      "text/plain": [
       "<IPython.core.display.Markdown object>"
      ]
     },
     "metadata": {},
     "output_type": "display_data"
    },
    {
     "data": {
      "text/markdown": [
       "<img alt=\"\" class=\"thumbimage\" data-file-height=\"2000\" data-file-width=\"3000\" decoding=\"async\" height=\"147\" src=\"//upload.wikimedia.org/wikipedia/commons/thumb/2/27/Katmai_National_Park%2C_Alaska.jpg/220px-Katmai_National_Park%2C_Alaska.jpg\" srcset=\"//upload.wikimedia.org/wikipedia/commons/thumb/2/27/Katmai_National_Park%2C_Alaska.jpg/330px-Katmai_National_Park%2C_Alaska.jpg 1.5x, //upload.wikimedia.org/wikipedia/commons/thumb/2/27/Katmai_National_Park%2C_Alaska.jpg/440px-Katmai_National_Park%2C_Alaska.jpg 2x\" width=\"220\"/>"
      ],
      "text/plain": [
       "<IPython.core.display.Markdown object>"
      ]
     },
     "metadata": {},
     "output_type": "display_data"
    },
    {
     "name": "stdout",
     "output_type": "stream",
     "text": [
      "\n",
      "\n",
      "35 Kenai Fjords National Park\n"
     ]
    },
    {
     "data": {
      "text/markdown": [
       "<img alt=\"Kenai Fjords coast.jpg\" data-file-height=\"768\" data-file-width=\"1024\" decoding=\"async\" height=\"213\" src=\"//upload.wikimedia.org/wikipedia/commons/thumb/c/cd/Kenai_Fjords_coast.jpg/284px-Kenai_Fjords_coast.jpg\" srcset=\"//upload.wikimedia.org/wikipedia/commons/thumb/c/cd/Kenai_Fjords_coast.jpg/426px-Kenai_Fjords_coast.jpg 1.5x, //upload.wikimedia.org/wikipedia/commons/thumb/c/cd/Kenai_Fjords_coast.jpg/568px-Kenai_Fjords_coast.jpg 2x\" width=\"284\"/>"
      ],
      "text/plain": [
       "<IPython.core.display.Markdown object>"
      ]
     },
     "metadata": {},
     "output_type": "display_data"
    },
    {
     "data": {
      "text/markdown": [
       "<img alt=\"\" class=\"thumbimage\" data-file-height=\"1362\" data-file-width=\"2048\" decoding=\"async\" height=\"146\" src=\"//upload.wikimedia.org/wikipedia/commons/thumb/e/e1/Harding_Icefield_1.jpg/220px-Harding_Icefield_1.jpg\" srcset=\"//upload.wikimedia.org/wikipedia/commons/thumb/e/e1/Harding_Icefield_1.jpg/330px-Harding_Icefield_1.jpg 1.5x, //upload.wikimedia.org/wikipedia/commons/thumb/e/e1/Harding_Icefield_1.jpg/440px-Harding_Icefield_1.jpg 2x\" width=\"220\"/>"
      ],
      "text/plain": [
       "<IPython.core.display.Markdown object>"
      ]
     },
     "metadata": {},
     "output_type": "display_data"
    },
    {
     "name": "stdout",
     "output_type": "stream",
     "text": [
      "\n",
      "\n",
      "36 Kings Canyon National Park\n"
     ]
    },
    {
     "data": {
      "text/markdown": [
       "<img alt=\"\" class=\"thumbimage\" data-file-height=\"1536\" data-file-width=\"2048\" decoding=\"async\" height=\"165\" src=\"//upload.wikimedia.org/wikipedia/commons/thumb/f/fe/Mount_Agassiz.jpg/220px-Mount_Agassiz.jpg\" srcset=\"//upload.wikimedia.org/wikipedia/commons/thumb/f/fe/Mount_Agassiz.jpg/330px-Mount_Agassiz.jpg 1.5x, //upload.wikimedia.org/wikipedia/commons/thumb/f/fe/Mount_Agassiz.jpg/440px-Mount_Agassiz.jpg 2x\" width=\"220\"/>"
      ],
      "text/plain": [
       "<IPython.core.display.Markdown object>"
      ]
     },
     "metadata": {},
     "output_type": "display_data"
    },
    {
     "data": {
      "text/markdown": [
       "<img alt=\"\" class=\"thumbimage\" data-file-height=\"656\" data-file-width=\"1280\" decoding=\"async\" height=\"154\" src=\"//upload.wikimedia.org/wikipedia/commons/thumb/f/f1/Zumwalt_Meadow_Kings_Canyon.jpg/300px-Zumwalt_Meadow_Kings_Canyon.jpg\" srcset=\"//upload.wikimedia.org/wikipedia/commons/thumb/f/f1/Zumwalt_Meadow_Kings_Canyon.jpg/450px-Zumwalt_Meadow_Kings_Canyon.jpg 1.5x, //upload.wikimedia.org/wikipedia/commons/thumb/f/f1/Zumwalt_Meadow_Kings_Canyon.jpg/600px-Zumwalt_Meadow_Kings_Canyon.jpg 2x\" width=\"300\"/>"
      ],
      "text/plain": [
       "<IPython.core.display.Markdown object>"
      ]
     },
     "metadata": {},
     "output_type": "display_data"
    },
    {
     "name": "stdout",
     "output_type": "stream",
     "text": [
      "\n",
      "\n",
      "37 Kobuk Valley National Park\n"
     ]
    },
    {
     "data": {
      "text/markdown": [
       "<img alt=\"Kobuk Bendlova 235.jpg\" data-file-height=\"1649\" data-file-width=\"2199\" decoding=\"async\" height=\"213\" src=\"//upload.wikimedia.org/wikipedia/commons/thumb/d/de/Kobuk_Bendlova_235.jpg/284px-Kobuk_Bendlova_235.jpg\" srcset=\"//upload.wikimedia.org/wikipedia/commons/thumb/d/de/Kobuk_Bendlova_235.jpg/426px-Kobuk_Bendlova_235.jpg 1.5x, //upload.wikimedia.org/wikipedia/commons/thumb/d/de/Kobuk_Bendlova_235.jpg/568px-Kobuk_Bendlova_235.jpg 2x\" width=\"284\"/>"
      ],
      "text/plain": [
       "<IPython.core.display.Markdown object>"
      ]
     },
     "metadata": {},
     "output_type": "display_data"
    },
    {
     "data": {
      "text/markdown": [
       "<img alt=\"\" class=\"thumbimage\" data-file-height=\"1525\" data-file-width=\"2286\" decoding=\"async\" height=\"147\" src=\"//upload.wikimedia.org/wikipedia/commons/thumb/1/11/KobukDunes.jpg/220px-KobukDunes.jpg\" srcset=\"//upload.wikimedia.org/wikipedia/commons/thumb/1/11/KobukDunes.jpg/330px-KobukDunes.jpg 1.5x, //upload.wikimedia.org/wikipedia/commons/thumb/1/11/KobukDunes.jpg/440px-KobukDunes.jpg 2x\" width=\"220\"/>"
      ],
      "text/plain": [
       "<IPython.core.display.Markdown object>"
      ]
     },
     "metadata": {},
     "output_type": "display_data"
    },
    {
     "name": "stdout",
     "output_type": "stream",
     "text": [
      "\n",
      "\n",
      "38 Lake Clark National Park and Preserve\n"
     ]
    },
    {
     "data": {
      "text/markdown": [
       "<img alt=\"Lake Clark National Park.jpg\" data-file-height=\"313\" data-file-width=\"460\" decoding=\"async\" height=\"193\" src=\"//upload.wikimedia.org/wikipedia/commons/thumb/a/ac/Lake_Clark_National_Park.jpg/284px-Lake_Clark_National_Park.jpg\" srcset=\"//upload.wikimedia.org/wikipedia/commons/thumb/a/ac/Lake_Clark_National_Park.jpg/426px-Lake_Clark_National_Park.jpg 1.5x, //upload.wikimedia.org/wikipedia/commons/a/ac/Lake_Clark_National_Park.jpg 2x\" width=\"284\"/>"
      ],
      "text/plain": [
       "<IPython.core.display.Markdown object>"
      ]
     },
     "metadata": {},
     "output_type": "display_data"
    },
    {
     "data": {
      "text/markdown": [
       "<img alt=\"\" class=\"thumbimage\" data-file-height=\"1996\" data-file-width=\"2980\" decoding=\"async\" height=\"147\" src=\"//upload.wikimedia.org/wikipedia/commons/thumb/4/45/MtRedoubtedit1.jpg/220px-MtRedoubtedit1.jpg\" srcset=\"//upload.wikimedia.org/wikipedia/commons/thumb/4/45/MtRedoubtedit1.jpg/330px-MtRedoubtedit1.jpg 1.5x, //upload.wikimedia.org/wikipedia/commons/thumb/4/45/MtRedoubtedit1.jpg/440px-MtRedoubtedit1.jpg 2x\" width=\"220\"/>"
      ],
      "text/plain": [
       "<IPython.core.display.Markdown object>"
      ]
     },
     "metadata": {},
     "output_type": "display_data"
    },
    {
     "name": "stdout",
     "output_type": "stream",
     "text": [
      "\n",
      "\n",
      "39 Lassen Volcanic National Park\n"
     ]
    },
    {
     "data": {
      "text/markdown": [
       "<img alt=\"Lassen Peak and Lake Helen.jpg\" data-file-height=\"3264\" data-file-width=\"4928\" decoding=\"async\" height=\"188\" src=\"//upload.wikimedia.org/wikipedia/commons/thumb/f/ff/Lassen_Peak_and_Lake_Helen.jpg/284px-Lassen_Peak_and_Lake_Helen.jpg\" srcset=\"//upload.wikimedia.org/wikipedia/commons/thumb/f/ff/Lassen_Peak_and_Lake_Helen.jpg/426px-Lassen_Peak_and_Lake_Helen.jpg 1.5x, //upload.wikimedia.org/wikipedia/commons/thumb/f/ff/Lassen_Peak_and_Lake_Helen.jpg/568px-Lassen_Peak_and_Lake_Helen.jpg 2x\" width=\"284\"/>"
      ],
      "text/plain": [
       "<IPython.core.display.Markdown object>"
      ]
     },
     "metadata": {},
     "output_type": "display_data"
    },
    {
     "data": {
      "text/markdown": [
       "<img alt=\"\" class=\"thumbimage\" data-file-height=\"2048\" data-file-width=\"3072\" decoding=\"async\" height=\"147\" src=\"//upload.wikimedia.org/wikipedia/commons/thumb/4/4f/Shasta_from_Lassen.jpg/220px-Shasta_from_Lassen.jpg\" srcset=\"//upload.wikimedia.org/wikipedia/commons/thumb/4/4f/Shasta_from_Lassen.jpg/330px-Shasta_from_Lassen.jpg 1.5x, //upload.wikimedia.org/wikipedia/commons/thumb/4/4f/Shasta_from_Lassen.jpg/440px-Shasta_from_Lassen.jpg 2x\" width=\"220\"/>"
      ],
      "text/plain": [
       "<IPython.core.display.Markdown object>"
      ]
     },
     "metadata": {},
     "output_type": "display_data"
    },
    {
     "name": "stdout",
     "output_type": "stream",
     "text": [
      "\n",
      "\n",
      "41 Mesa Verde National Park\n"
     ]
    },
    {
     "data": {
      "text/markdown": [
       "<img alt=\"Mesa verde north 2007.jpg\" data-file-height=\"587\" data-file-width=\"1024\" decoding=\"async\" height=\"163\" src=\"//upload.wikimedia.org/wikipedia/commons/thumb/9/9f/Mesa_verde_north_2007.jpg/284px-Mesa_verde_north_2007.jpg\" srcset=\"//upload.wikimedia.org/wikipedia/commons/thumb/9/9f/Mesa_verde_north_2007.jpg/426px-Mesa_verde_north_2007.jpg 1.5x, //upload.wikimedia.org/wikipedia/commons/thumb/9/9f/Mesa_verde_north_2007.jpg/568px-Mesa_verde_north_2007.jpg 2x\" width=\"284\"/>"
      ],
      "text/plain": [
       "<IPython.core.display.Markdown object>"
      ]
     },
     "metadata": {},
     "output_type": "display_data"
    },
    {
     "data": {
      "text/markdown": [
       "<img alt=\"A painting of two people hunting a large animal\" class=\"thumbimage\" data-file-height=\"412\" data-file-width=\"653\" decoding=\"async\" height=\"139\" src=\"//upload.wikimedia.org/wikipedia/commons/thumb/a/a1/Glyptodon_old_drawing.jpg/220px-Glyptodon_old_drawing.jpg\" srcset=\"//upload.wikimedia.org/wikipedia/commons/thumb/a/a1/Glyptodon_old_drawing.jpg/330px-Glyptodon_old_drawing.jpg 1.5x, //upload.wikimedia.org/wikipedia/commons/thumb/a/a1/Glyptodon_old_drawing.jpg/440px-Glyptodon_old_drawing.jpg 2x\" width=\"220\"/>"
      ],
      "text/plain": [
       "<IPython.core.display.Markdown object>"
      ]
     },
     "metadata": {},
     "output_type": "display_data"
    },
    {
     "name": "stdout",
     "output_type": "stream",
     "text": [
      "\n",
      "\n",
      "44 New River Gorge National River\n"
     ]
    },
    {
     "data": {
      "text/markdown": [
       "<img alt=\"\" class=\"thumbimage\" data-file-height=\"2502\" data-file-width=\"5904\" decoding=\"async\" height=\"117\" src=\"//upload.wikimedia.org/wikipedia/commons/thumb/f/f9/Endless_Wall_New_River_Gorge_2014.jpg/275px-Endless_Wall_New_River_Gorge_2014.jpg\" srcset=\"//upload.wikimedia.org/wikipedia/commons/thumb/f/f9/Endless_Wall_New_River_Gorge_2014.jpg/413px-Endless_Wall_New_River_Gorge_2014.jpg 1.5x, //upload.wikimedia.org/wikipedia/commons/thumb/f/f9/Endless_Wall_New_River_Gorge_2014.jpg/550px-Endless_Wall_New_River_Gorge_2014.jpg 2x\" width=\"275\"/>"
      ],
      "text/plain": [
       "<IPython.core.display.Markdown object>"
      ]
     },
     "metadata": {},
     "output_type": "display_data"
    },
    {
     "data": {
      "text/markdown": [
       "<img alt=\"\" class=\"thumbimage\" data-file-height=\"2000\" data-file-width=\"3008\" decoding=\"async\" height=\"146\" src=\"//upload.wikimedia.org/wikipedia/commons/thumb/9/93/New_River_Gorge_-_Four_sheets_to_the_wind.jpg/220px-New_River_Gorge_-_Four_sheets_to_the_wind.jpg\" srcset=\"//upload.wikimedia.org/wikipedia/commons/thumb/9/93/New_River_Gorge_-_Four_sheets_to_the_wind.jpg/330px-New_River_Gorge_-_Four_sheets_to_the_wind.jpg 1.5x, //upload.wikimedia.org/wikipedia/commons/thumb/9/93/New_River_Gorge_-_Four_sheets_to_the_wind.jpg/440px-New_River_Gorge_-_Four_sheets_to_the_wind.jpg 2x\" width=\"220\"/>"
      ],
      "text/plain": [
       "<IPython.core.display.Markdown object>"
      ]
     },
     "metadata": {},
     "output_type": "display_data"
    },
    {
     "name": "stdout",
     "output_type": "stream",
     "text": [
      "\n",
      "\n",
      "46 Olympic National Park\n"
     ]
    },
    {
     "data": {
      "text/markdown": [
       "<img alt=\"Cedar Creek Abbey Island Ruby Beach.jpg\" data-file-height=\"2592\" data-file-width=\"3872\" decoding=\"async\" height=\"190\" src=\"//upload.wikimedia.org/wikipedia/commons/thumb/a/a8/Cedar_Creek_Abbey_Island_Ruby_Beach.jpg/284px-Cedar_Creek_Abbey_Island_Ruby_Beach.jpg\" srcset=\"//upload.wikimedia.org/wikipedia/commons/thumb/a/a8/Cedar_Creek_Abbey_Island_Ruby_Beach.jpg/426px-Cedar_Creek_Abbey_Island_Ruby_Beach.jpg 1.5x, //upload.wikimedia.org/wikipedia/commons/thumb/a/a8/Cedar_Creek_Abbey_Island_Ruby_Beach.jpg/568px-Cedar_Creek_Abbey_Island_Ruby_Beach.jpg 2x\" width=\"284\"/>"
      ],
      "text/plain": [
       "<IPython.core.display.Markdown object>"
      ]
     },
     "metadata": {},
     "output_type": "display_data"
    },
    {
     "data": {
      "text/markdown": [
       "<img alt=\"\" class=\"thumbimage\" data-file-height=\"534\" data-file-width=\"800\" decoding=\"async\" height=\"147\" src=\"//upload.wikimedia.org/wikipedia/commons/thumb/d/df/A058%2C_Olympic_National_Park%2C_Washington%2C_USA%2C_tidepools%2C_2002.jpg/220px-A058%2C_Olympic_National_Park%2C_Washington%2C_USA%2C_tidepools%2C_2002.jpg\" srcset=\"//upload.wikimedia.org/wikipedia/commons/thumb/d/df/A058%2C_Olympic_National_Park%2C_Washington%2C_USA%2C_tidepools%2C_2002.jpg/330px-A058%2C_Olympic_National_Park%2C_Washington%2C_USA%2C_tidepools%2C_2002.jpg 1.5x, //upload.wikimedia.org/wikipedia/commons/thumb/d/df/A058%2C_Olympic_National_Park%2C_Washington%2C_USA%2C_tidepools%2C_2002.jpg/440px-A058%2C_Olympic_National_Park%2C_Washington%2C_USA%2C_tidepools%2C_2002.jpg 2x\" width=\"220\"/>"
      ],
      "text/plain": [
       "<IPython.core.display.Markdown object>"
      ]
     },
     "metadata": {},
     "output_type": "display_data"
    },
    {
     "name": "stdout",
     "output_type": "stream",
     "text": [
      "\n",
      "\n",
      "47 Petrified Forest National Park\n"
     ]
    },
    {
     "data": {
      "text/markdown": [
       "<img alt=\"Conical rock formations showing horizontal banding in red, white, and shades of grey\" data-file-height=\"2536\" data-file-width=\"4288\" decoding=\"async\" height=\"177\" src=\"//upload.wikimedia.org/wikipedia/commons/thumb/e/e8/The_PEFO_Tepees.jpg/300px-The_PEFO_Tepees.jpg\" srcset=\"//upload.wikimedia.org/wikipedia/commons/thumb/e/e8/The_PEFO_Tepees.jpg/450px-The_PEFO_Tepees.jpg 1.5x, //upload.wikimedia.org/wikipedia/commons/thumb/e/e8/The_PEFO_Tepees.jpg/600px-The_PEFO_Tepees.jpg 2x\" width=\"300\"/>"
      ],
      "text/plain": [
       "<IPython.core.display.Markdown object>"
      ]
     },
     "metadata": {},
     "output_type": "display_data"
    },
    {
     "data": {
      "text/markdown": [
       "<img alt=\"\" class=\"thumbimage\" data-file-height=\"1512\" data-file-width=\"2688\" decoding=\"async\" height=\"124\" src=\"//upload.wikimedia.org/wikipedia/commons/thumb/7/7d/Navajo_Reservation%2C_Painted_Desert%2C_Petrified_Forest_National_Park%2C_and_Adamana_AZ_aerial.jpg/220px-Navajo_Reservation%2C_Painted_Desert%2C_Petrified_Forest_National_Park%2C_and_Adamana_AZ_aerial.jpg\" srcset=\"//upload.wikimedia.org/wikipedia/commons/thumb/7/7d/Navajo_Reservation%2C_Painted_Desert%2C_Petrified_Forest_National_Park%2C_and_Adamana_AZ_aerial.jpg/330px-Navajo_Reservation%2C_Painted_Desert%2C_Petrified_Forest_National_Park%2C_and_Adamana_AZ_aerial.jpg 1.5x, //upload.wikimedia.org/wikipedia/commons/thumb/7/7d/Navajo_Reservation%2C_Painted_Desert%2C_Petrified_Forest_National_Park%2C_and_Adamana_AZ_aerial.jpg/440px-Navajo_Reservation%2C_Painted_Desert%2C_Petrified_Forest_National_Park%2C_and_Adamana_AZ_aerial.jpg 2x\" width=\"220\"/>"
      ],
      "text/plain": [
       "<IPython.core.display.Markdown object>"
      ]
     },
     "metadata": {},
     "output_type": "display_data"
    },
    {
     "name": "stdout",
     "output_type": "stream",
     "text": [
      "\n",
      "\n",
      "48 Pinnacles National Park\n"
     ]
    },
    {
     "data": {
      "text/markdown": [
       "<img alt=\"Rock formations at Pinnacles National Park.jpg\" data-file-height=\"2783\" data-file-width=\"7000\" decoding=\"async\" height=\"111\" src=\"//upload.wikimedia.org/wikipedia/commons/thumb/4/44/Rock_formations_at_Pinnacles_National_Park.jpg/280px-Rock_formations_at_Pinnacles_National_Park.jpg\" srcset=\"//upload.wikimedia.org/wikipedia/commons/thumb/4/44/Rock_formations_at_Pinnacles_National_Park.jpg/420px-Rock_formations_at_Pinnacles_National_Park.jpg 1.5x, //upload.wikimedia.org/wikipedia/commons/thumb/4/44/Rock_formations_at_Pinnacles_National_Park.jpg/560px-Rock_formations_at_Pinnacles_National_Park.jpg 2x\" width=\"280\"/>"
      ],
      "text/plain": [
       "<IPython.core.display.Markdown object>"
      ]
     },
     "metadata": {},
     "output_type": "display_data"
    },
    {
     "data": {
      "text/markdown": [
       "<img alt=\"\" data-file-height=\"2034\" data-file-width=\"8807\" decoding=\"async\" height=\"185\" src=\"//upload.wikimedia.org/wikipedia/commons/thumb/6/64/High_Peaks_Trail_Panorama.jpg/800px-High_Peaks_Trail_Panorama.jpg\" srcset=\"//upload.wikimedia.org/wikipedia/commons/thumb/6/64/High_Peaks_Trail_Panorama.jpg/1200px-High_Peaks_Trail_Panorama.jpg 1.5x, //upload.wikimedia.org/wikipedia/commons/thumb/6/64/High_Peaks_Trail_Panorama.jpg/1600px-High_Peaks_Trail_Panorama.jpg 2x\" width=\"800\"/>"
      ],
      "text/plain": [
       "<IPython.core.display.Markdown object>"
      ]
     },
     "metadata": {},
     "output_type": "display_data"
    },
    {
     "name": "stdout",
     "output_type": "stream",
     "text": [
      "\n",
      "\n",
      "49 Redwood National and State Parks\n"
     ]
    },
    {
     "data": {
      "text/markdown": [
       "<img alt=\"Redwood National Park, fog in the forest.jpg\" data-file-height=\"960\" data-file-width=\"1280\" decoding=\"async\" height=\"213\" src=\"//upload.wikimedia.org/wikipedia/commons/thumb/d/de/Redwood_National_Park%2C_fog_in_the_forest.jpg/284px-Redwood_National_Park%2C_fog_in_the_forest.jpg\" srcset=\"//upload.wikimedia.org/wikipedia/commons/thumb/d/de/Redwood_National_Park%2C_fog_in_the_forest.jpg/426px-Redwood_National_Park%2C_fog_in_the_forest.jpg 1.5x, //upload.wikimedia.org/wikipedia/commons/thumb/d/de/Redwood_National_Park%2C_fog_in_the_forest.jpg/568px-Redwood_National_Park%2C_fog_in_the_forest.jpg 2x\" width=\"284\"/>"
      ],
      "text/plain": [
       "<IPython.core.display.Markdown object>"
      ]
     },
     "metadata": {},
     "output_type": "display_data"
    },
    {
     "data": {
      "text/markdown": [
       "<img alt=\"\" class=\"thumbimage\" data-file-height=\"2364\" data-file-width=\"3295\" decoding=\"async\" height=\"158\" src=\"//upload.wikimedia.org/wikipedia/commons/thumb/d/dd/Yurok_plankhouse05.jpg/220px-Yurok_plankhouse05.jpg\" srcset=\"//upload.wikimedia.org/wikipedia/commons/thumb/d/dd/Yurok_plankhouse05.jpg/330px-Yurok_plankhouse05.jpg 1.5x, //upload.wikimedia.org/wikipedia/commons/thumb/d/dd/Yurok_plankhouse05.jpg/440px-Yurok_plankhouse05.jpg 2x\" width=\"220\"/>"
      ],
      "text/plain": [
       "<IPython.core.display.Markdown object>"
      ]
     },
     "metadata": {},
     "output_type": "display_data"
    },
    {
     "name": "stdout",
     "output_type": "stream",
     "text": [
      "\n",
      "\n",
      "50 Rocky Mountain National Park\n"
     ]
    },
    {
     "data": {
      "text/markdown": [
       "<img alt=\"\" class=\"thumbimage\" data-file-height=\"683\" data-file-width=\"1024\" decoding=\"async\" height=\"147\" src=\"//upload.wikimedia.org/wikipedia/commons/thumb/a/a2/A462%2C_Rocky_Mountain_National_Park%2C_Colorado%2C_USA%2C_bull_elk_in_meadow%2C_2016.jpg/220px-A462%2C_Rocky_Mountain_National_Park%2C_Colorado%2C_USA%2C_bull_elk_in_meadow%2C_2016.jpg\" srcset=\"//upload.wikimedia.org/wikipedia/commons/thumb/a/a2/A462%2C_Rocky_Mountain_National_Park%2C_Colorado%2C_USA%2C_bull_elk_in_meadow%2C_2016.jpg/330px-A462%2C_Rocky_Mountain_National_Park%2C_Colorado%2C_USA%2C_bull_elk_in_meadow%2C_2016.jpg 1.5x, //upload.wikimedia.org/wikipedia/commons/thumb/a/a2/A462%2C_Rocky_Mountain_National_Park%2C_Colorado%2C_USA%2C_bull_elk_in_meadow%2C_2016.jpg/440px-A462%2C_Rocky_Mountain_National_Park%2C_Colorado%2C_USA%2C_bull_elk_in_meadow%2C_2016.jpg 2x\" width=\"220\"/>"
      ],
      "text/plain": [
       "<IPython.core.display.Markdown object>"
      ]
     },
     "metadata": {},
     "output_type": "display_data"
    },
    {
     "data": {
      "text/markdown": [
       "<img alt=\"\" class=\"thumbimage\" data-file-height=\"3770\" data-file-width=\"12017\" decoding=\"async\" height=\"147\" src=\"//upload.wikimedia.org/wikipedia/commons/thumb/c/c6/RockyMountainTundra.jpg/470px-RockyMountainTundra.jpg\" srcset=\"//upload.wikimedia.org/wikipedia/commons/thumb/c/c6/RockyMountainTundra.jpg/705px-RockyMountainTundra.jpg 1.5x, //upload.wikimedia.org/wikipedia/commons/thumb/c/c6/RockyMountainTundra.jpg/940px-RockyMountainTundra.jpg 2x\" width=\"470\"/>"
      ],
      "text/plain": [
       "<IPython.core.display.Markdown object>"
      ]
     },
     "metadata": {},
     "output_type": "display_data"
    },
    {
     "name": "stdout",
     "output_type": "stream",
     "text": [
      "\n",
      "\n",
      "51 Saguaro National Park\n"
     ]
    },
    {
     "data": {
      "text/markdown": [
       "<img alt=\"Silhouettes of saguaro cacti stand out against a red sky at sunset.\" data-file-height=\"3552\" data-file-width=\"5328\" decoding=\"async\" height=\"200\" src=\"//upload.wikimedia.org/wikipedia/commons/thumb/b/b4/Saguaro_Sunset.jpg/300px-Saguaro_Sunset.jpg\" srcset=\"//upload.wikimedia.org/wikipedia/commons/thumb/b/b4/Saguaro_Sunset.jpg/450px-Saguaro_Sunset.jpg 1.5x, //upload.wikimedia.org/wikipedia/commons/thumb/b/b4/Saguaro_Sunset.jpg/600px-Saguaro_Sunset.jpg 2x\" width=\"300\"/>"
      ],
      "text/plain": [
       "<IPython.core.display.Markdown object>"
      ]
     },
     "metadata": {},
     "output_type": "display_data"
    },
    {
     "data": {
      "text/markdown": [
       "<img alt=\"\" class=\"thumbimage\" data-file-height=\"2581\" data-file-width=\"2581\" decoding=\"async\" height=\"220\" src=\"//upload.wikimedia.org/wikipedia/commons/thumb/e/e7/A_large_cactus_%28Carnegiea_gigantea%29_at_Saguaro_National_Park.jpg/220px-A_large_cactus_%28Carnegiea_gigantea%29_at_Saguaro_National_Park.jpg\" srcset=\"//upload.wikimedia.org/wikipedia/commons/thumb/e/e7/A_large_cactus_%28Carnegiea_gigantea%29_at_Saguaro_National_Park.jpg/330px-A_large_cactus_%28Carnegiea_gigantea%29_at_Saguaro_National_Park.jpg 1.5x, //upload.wikimedia.org/wikipedia/commons/thumb/e/e7/A_large_cactus_%28Carnegiea_gigantea%29_at_Saguaro_National_Park.jpg/440px-A_large_cactus_%28Carnegiea_gigantea%29_at_Saguaro_National_Park.jpg 2x\" width=\"220\"/>"
      ],
      "text/plain": [
       "<IPython.core.display.Markdown object>"
      ]
     },
     "metadata": {},
     "output_type": "display_data"
    },
    {
     "name": "stdout",
     "output_type": "stream",
     "text": [
      "\n",
      "\n",
      "52 Sequoia National Park\n"
     ]
    },
    {
     "data": {
      "text/markdown": [
       "<img alt=\"General Sherman tree looking up.jpg\" data-file-height=\"2948\" data-file-width=\"2311\" decoding=\"async\" height=\"286\" src=\"//upload.wikimedia.org/wikipedia/commons/thumb/4/46/General_Sherman_tree_looking_up.jpg/224px-General_Sherman_tree_looking_up.jpg\" srcset=\"//upload.wikimedia.org/wikipedia/commons/thumb/4/46/General_Sherman_tree_looking_up.jpg/336px-General_Sherman_tree_looking_up.jpg 1.5x, //upload.wikimedia.org/wikipedia/commons/thumb/4/46/General_Sherman_tree_looking_up.jpg/448px-General_Sherman_tree_looking_up.jpg 2x\" width=\"224\"/>"
      ],
      "text/plain": [
       "<IPython.core.display.Markdown object>"
      ]
     },
     "metadata": {},
     "output_type": "display_data"
    },
    {
     "data": {
      "text/markdown": [
       "<img alt=\"\" class=\"thumbimage\" data-file-height=\"2336\" data-file-width=\"3504\" decoding=\"async\" height=\"147\" src=\"//upload.wikimedia.org/wikipedia/commons/thumb/f/f8/Kaweah_downValley.jpg/220px-Kaweah_downValley.jpg\" srcset=\"//upload.wikimedia.org/wikipedia/commons/thumb/f/f8/Kaweah_downValley.jpg/330px-Kaweah_downValley.jpg 1.5x, //upload.wikimedia.org/wikipedia/commons/thumb/f/f8/Kaweah_downValley.jpg/440px-Kaweah_downValley.jpg 2x\" width=\"220\"/>"
      ],
      "text/plain": [
       "<IPython.core.display.Markdown object>"
      ]
     },
     "metadata": {},
     "output_type": "display_data"
    },
    {
     "name": "stdout",
     "output_type": "stream",
     "text": [
      "\n",
      "\n",
      "53 Shenandoah National Park\n"
     ]
    },
    {
     "data": {
      "text/markdown": [
       "<img alt=\"Skyline Drive in the Fall (21852619608).jpg\" data-file-height=\"3945\" data-file-width=\"5916\" decoding=\"async\" height=\"189\" src=\"//upload.wikimedia.org/wikipedia/commons/thumb/1/10/Skyline_Drive_in_the_Fall_%2821852619608%29.jpg/284px-Skyline_Drive_in_the_Fall_%2821852619608%29.jpg\" srcset=\"//upload.wikimedia.org/wikipedia/commons/thumb/1/10/Skyline_Drive_in_the_Fall_%2821852619608%29.jpg/426px-Skyline_Drive_in_the_Fall_%2821852619608%29.jpg 1.5x, //upload.wikimedia.org/wikipedia/commons/thumb/1/10/Skyline_Drive_in_the_Fall_%2821852619608%29.jpg/568px-Skyline_Drive_in_the_Fall_%2821852619608%29.jpg 2x\" width=\"284\"/>"
      ],
      "text/plain": [
       "<IPython.core.display.Markdown object>"
      ]
     },
     "metadata": {},
     "output_type": "display_data"
    },
    {
     "data": {
      "text/markdown": [
       "<img alt=\"\" class=\"thumbimage\" data-file-height=\"3399\" data-file-width=\"4024\" decoding=\"async\" height=\"186\" src=\"//upload.wikimedia.org/wikipedia/commons/thumb/d/dc/Birthday_Wishes_for_Shenandoah_National_Park.jpg/220px-Birthday_Wishes_for_Shenandoah_National_Park.jpg\" srcset=\"//upload.wikimedia.org/wikipedia/commons/thumb/d/dc/Birthday_Wishes_for_Shenandoah_National_Park.jpg/330px-Birthday_Wishes_for_Shenandoah_National_Park.jpg 1.5x, //upload.wikimedia.org/wikipedia/commons/thumb/d/dc/Birthday_Wishes_for_Shenandoah_National_Park.jpg/440px-Birthday_Wishes_for_Shenandoah_National_Park.jpg 2x\" width=\"220\"/>"
      ],
      "text/plain": [
       "<IPython.core.display.Markdown object>"
      ]
     },
     "metadata": {},
     "output_type": "display_data"
    },
    {
     "name": "stdout",
     "output_type": "stream",
     "text": [
      "\n",
      "\n",
      "54 Theodore Roosevelt National Park\n"
     ]
    },
    {
     "data": {
      "text/markdown": [
       "<img alt=\"View of Theodore Roosevelt National Park.jpg\" data-file-height=\"2241\" data-file-width=\"3122\" decoding=\"async\" height=\"204\" src=\"//upload.wikimedia.org/wikipedia/commons/thumb/3/34/View_of_Theodore_Roosevelt_National_Park.jpg/284px-View_of_Theodore_Roosevelt_National_Park.jpg\" srcset=\"//upload.wikimedia.org/wikipedia/commons/thumb/3/34/View_of_Theodore_Roosevelt_National_Park.jpg/426px-View_of_Theodore_Roosevelt_National_Park.jpg 1.5x, //upload.wikimedia.org/wikipedia/commons/thumb/3/34/View_of_Theodore_Roosevelt_National_Park.jpg/568px-View_of_Theodore_Roosevelt_National_Park.jpg 2x\" width=\"284\"/>"
      ],
      "text/plain": [
       "<IPython.core.display.Markdown object>"
      ]
     },
     "metadata": {},
     "output_type": "display_data"
    },
    {
     "data": {
      "text/markdown": [
       "<img alt=\"\" class=\"thumbimage\" data-file-height=\"3168\" data-file-width=\"4908\" decoding=\"async\" height=\"142\" src=\"//upload.wikimedia.org/wikipedia/commons/thumb/0/0e/Rainbow_in_badlands_Theodore_Roosevelt_NP_ND1.jpg/220px-Rainbow_in_badlands_Theodore_Roosevelt_NP_ND1.jpg\" srcset=\"//upload.wikimedia.org/wikipedia/commons/thumb/0/0e/Rainbow_in_badlands_Theodore_Roosevelt_NP_ND1.jpg/330px-Rainbow_in_badlands_Theodore_Roosevelt_NP_ND1.jpg 1.5x, //upload.wikimedia.org/wikipedia/commons/thumb/0/0e/Rainbow_in_badlands_Theodore_Roosevelt_NP_ND1.jpg/440px-Rainbow_in_badlands_Theodore_Roosevelt_NP_ND1.jpg 2x\" width=\"220\"/>"
      ],
      "text/plain": [
       "<IPython.core.display.Markdown object>"
      ]
     },
     "metadata": {},
     "output_type": "display_data"
    },
    {
     "name": "stdout",
     "output_type": "stream",
     "text": [
      "\n",
      "\n",
      "55 Virgin Islands National Park\n"
     ]
    },
    {
     "data": {
      "text/markdown": [
       "<img alt=\"St John Trunk Bay 3.jpg\" data-file-height=\"2760\" data-file-width=\"4148\" decoding=\"async\" height=\"189\" src=\"//upload.wikimedia.org/wikipedia/commons/thumb/2/20/St_John_Trunk_Bay_3.jpg/284px-St_John_Trunk_Bay_3.jpg\" srcset=\"//upload.wikimedia.org/wikipedia/commons/thumb/2/20/St_John_Trunk_Bay_3.jpg/426px-St_John_Trunk_Bay_3.jpg 1.5x, //upload.wikimedia.org/wikipedia/commons/thumb/2/20/St_John_Trunk_Bay_3.jpg/568px-St_John_Trunk_Bay_3.jpg 2x\" width=\"284\"/>"
      ],
      "text/plain": [
       "<IPython.core.display.Markdown object>"
      ]
     },
     "metadata": {},
     "output_type": "display_data"
    },
    {
     "data": {
      "text/markdown": [
       "<img alt=\"\" class=\"thumbimage\" data-file-height=\"2753\" data-file-width=\"4138\" decoding=\"async\" height=\"146\" src=\"//upload.wikimedia.org/wikipedia/commons/thumb/8/85/Caneel_Bay_Boat_Mary_II_at_Caneel_Beach.jpg/220px-Caneel_Bay_Boat_Mary_II_at_Caneel_Beach.jpg\" srcset=\"//upload.wikimedia.org/wikipedia/commons/thumb/8/85/Caneel_Bay_Boat_Mary_II_at_Caneel_Beach.jpg/330px-Caneel_Bay_Boat_Mary_II_at_Caneel_Beach.jpg 1.5x, //upload.wikimedia.org/wikipedia/commons/thumb/8/85/Caneel_Bay_Boat_Mary_II_at_Caneel_Beach.jpg/440px-Caneel_Bay_Boat_Mary_II_at_Caneel_Beach.jpg 2x\" width=\"220\"/>"
      ],
      "text/plain": [
       "<IPython.core.display.Markdown object>"
      ]
     },
     "metadata": {},
     "output_type": "display_data"
    },
    {
     "name": "stdout",
     "output_type": "stream",
     "text": [
      "\n",
      "\n",
      "56 Voyageurs National Park\n"
     ]
    },
    {
     "data": {
      "text/markdown": [
       "<img alt=\"Voyageurs National Park.jpg\" data-file-height=\"531\" data-file-width=\"820\" decoding=\"async\" height=\"184\" src=\"//upload.wikimedia.org/wikipedia/commons/thumb/b/bd/Voyageurs_National_Park.jpg/284px-Voyageurs_National_Park.jpg\" srcset=\"//upload.wikimedia.org/wikipedia/commons/thumb/b/bd/Voyageurs_National_Park.jpg/426px-Voyageurs_National_Park.jpg 1.5x, //upload.wikimedia.org/wikipedia/commons/thumb/b/bd/Voyageurs_National_Park.jpg/568px-Voyageurs_National_Park.jpg 2x\" width=\"284\"/>"
      ],
      "text/plain": [
       "<IPython.core.display.Markdown object>"
      ]
     },
     "metadata": {},
     "output_type": "display_data"
    },
    {
     "data": {
      "text/markdown": [
       "<img alt=\"\" class=\"thumbimage\" data-file-height=\"2527\" data-file-width=\"3551\" decoding=\"async\" height=\"157\" src=\"//upload.wikimedia.org/wikipedia/commons/thumb/2/21/Voyageurs_NP_Map.jpg/220px-Voyageurs_NP_Map.jpg\" srcset=\"//upload.wikimedia.org/wikipedia/commons/thumb/2/21/Voyageurs_NP_Map.jpg/330px-Voyageurs_NP_Map.jpg 1.5x, //upload.wikimedia.org/wikipedia/commons/thumb/2/21/Voyageurs_NP_Map.jpg/440px-Voyageurs_NP_Map.jpg 2x\" width=\"220\"/>"
      ],
      "text/plain": [
       "<IPython.core.display.Markdown object>"
      ]
     },
     "metadata": {},
     "output_type": "display_data"
    },
    {
     "name": "stdout",
     "output_type": "stream",
     "text": [
      "\n",
      "\n",
      "58 Wind Cave National Park\n"
     ]
    },
    {
     "data": {
      "text/markdown": [
       "<img alt=\"Black Hills\" data-file-height=\"3391\" data-file-width=\"5087\" decoding=\"async\" height=\"83\" src=\"//upload.wikimedia.org/wikipedia/commons/thumb/a/a6/Black_Hills_from_Harney_Peak.jpg/125px-Black_Hills_from_Harney_Peak.jpg\" srcset=\"//upload.wikimedia.org/wikipedia/commons/thumb/a/a6/Black_Hills_from_Harney_Peak.jpg/188px-Black_Hills_from_Harney_Peak.jpg 1.5x, //upload.wikimedia.org/wikipedia/commons/thumb/a/a6/Black_Hills_from_Harney_Peak.jpg/250px-Black_Hills_from_Harney_Peak.jpg 2x\" width=\"125\"/>"
      ],
      "text/plain": [
       "<IPython.core.display.Markdown object>"
      ]
     },
     "metadata": {},
     "output_type": "display_data"
    },
    {
     "data": {
      "text/markdown": [
       "<img alt=\"Badlands National Park\" data-file-height=\"2336\" data-file-width=\"3504\" decoding=\"async\" height=\"83\" src=\"//upload.wikimedia.org/wikipedia/commons/thumb/f/f3/Badlands_NP_2006-09-03_%28241257945%29.jpg/125px-Badlands_NP_2006-09-03_%28241257945%29.jpg\" srcset=\"//upload.wikimedia.org/wikipedia/commons/thumb/f/f3/Badlands_NP_2006-09-03_%28241257945%29.jpg/188px-Badlands_NP_2006-09-03_%28241257945%29.jpg 1.5x, //upload.wikimedia.org/wikipedia/commons/thumb/f/f3/Badlands_NP_2006-09-03_%28241257945%29.jpg/250px-Badlands_NP_2006-09-03_%28241257945%29.jpg 2x\" width=\"125\"/>"
      ],
      "text/plain": [
       "<IPython.core.display.Markdown object>"
      ]
     },
     "metadata": {},
     "output_type": "display_data"
    },
    {
     "name": "stdout",
     "output_type": "stream",
     "text": [
      "\n",
      "\n",
      "59 Wolf Trap National Park for the Performing Arts\n"
     ]
    },
    {
     "data": {
      "text/markdown": [
       "<img alt=\"Wolf Trap (national park) Filene Center outside.jpg\" data-file-height=\"852\" data-file-width=\"1890\" decoding=\"async\" height=\"113\" src=\"//upload.wikimedia.org/wikipedia/commons/thumb/a/a4/Wolf_Trap_%28national_park%29_Filene_Center_outside.jpg/250px-Wolf_Trap_%28national_park%29_Filene_Center_outside.jpg\" srcset=\"//upload.wikimedia.org/wikipedia/commons/thumb/a/a4/Wolf_Trap_%28national_park%29_Filene_Center_outside.jpg/375px-Wolf_Trap_%28national_park%29_Filene_Center_outside.jpg 1.5x, //upload.wikimedia.org/wikipedia/commons/thumb/a/a4/Wolf_Trap_%28national_park%29_Filene_Center_outside.jpg/500px-Wolf_Trap_%28national_park%29_Filene_Center_outside.jpg 2x\" width=\"250\"/>"
      ],
      "text/plain": [
       "<IPython.core.display.Markdown object>"
      ]
     },
     "metadata": {},
     "output_type": "display_data"
    },
    {
     "data": {
      "text/markdown": [
       "<img alt=\"\" class=\"thumbimage\" data-file-height=\"99\" data-file-width=\"247\" decoding=\"async\" height=\"60\" src=\"//upload.wikimedia.org/wikipedia/en/thumb/3/34/Wolf_Trap_Foundation_Logo.jpg/150px-Wolf_Trap_Foundation_Logo.jpg\" srcset=\"//upload.wikimedia.org/wikipedia/en/thumb/3/34/Wolf_Trap_Foundation_Logo.jpg/225px-Wolf_Trap_Foundation_Logo.jpg 1.5x, //upload.wikimedia.org/wikipedia/en/3/34/Wolf_Trap_Foundation_Logo.jpg 2x\" width=\"150\"/>"
      ],
      "text/plain": [
       "<IPython.core.display.Markdown object>"
      ]
     },
     "metadata": {},
     "output_type": "display_data"
    },
    {
     "name": "stdout",
     "output_type": "stream",
     "text": [
      "\n",
      "\n",
      "62 Yosemite National Park\n"
     ]
    },
    {
     "data": {
      "text/markdown": [
       "<img alt=\"Tunnel View, Yosemite Valley, Yosemite NP - Diliff.jpg\" data-file-height=\"3916\" data-file-width=\"6000\" decoding=\"async\" height=\"185\" src=\"//upload.wikimedia.org/wikipedia/commons/thumb/1/13/Tunnel_View%2C_Yosemite_Valley%2C_Yosemite_NP_-_Diliff.jpg/284px-Tunnel_View%2C_Yosemite_Valley%2C_Yosemite_NP_-_Diliff.jpg\" srcset=\"//upload.wikimedia.org/wikipedia/commons/thumb/1/13/Tunnel_View%2C_Yosemite_Valley%2C_Yosemite_NP_-_Diliff.jpg/426px-Tunnel_View%2C_Yosemite_Valley%2C_Yosemite_NP_-_Diliff.jpg 1.5x, //upload.wikimedia.org/wikipedia/commons/thumb/1/13/Tunnel_View%2C_Yosemite_Valley%2C_Yosemite_NP_-_Diliff.jpg/568px-Tunnel_View%2C_Yosemite_Valley%2C_Yosemite_NP_-_Diliff.jpg 2x\" width=\"284\"/>"
      ],
      "text/plain": [
       "<IPython.core.display.Markdown object>"
      ]
     },
     "metadata": {},
     "output_type": "display_data"
    },
    {
     "data": {
      "text/markdown": [
       "<img alt=\"engraving of Dr Lafayette Bunnell, showing him as an older man with a craggy face, short bristly hair and a cropped grey beard.\" data-file-height=\"430\" data-file-width=\"341\" decoding=\"async\" height=\"202\" src=\"//upload.wikimedia.org/wikipedia/commons/thumb/2/22/Lafayette_Bunnell_1880.jpg/160px-Lafayette_Bunnell_1880.jpg\" srcset=\"//upload.wikimedia.org/wikipedia/commons/thumb/2/22/Lafayette_Bunnell_1880.jpg/240px-Lafayette_Bunnell_1880.jpg 1.5x, //upload.wikimedia.org/wikipedia/commons/thumb/2/22/Lafayette_Bunnell_1880.jpg/320px-Lafayette_Bunnell_1880.jpg 2x\" width=\"160\"/>"
      ],
      "text/plain": [
       "<IPython.core.display.Markdown object>"
      ]
     },
     "metadata": {},
     "output_type": "display_data"
    },
    {
     "name": "stdout",
     "output_type": "stream",
     "text": [
      "\n",
      "\n",
      "63 Zion National Park\n"
     ]
    },
    {
     "data": {
      "text/markdown": [
       "<img alt=\"Zion angels landing view.jpg\" data-file-height=\"1025\" data-file-width=\"1000\" decoding=\"async\" height=\"291\" src=\"//upload.wikimedia.org/wikipedia/commons/thumb/1/10/Zion_angels_landing_view.jpg/284px-Zion_angels_landing_view.jpg\" srcset=\"//upload.wikimedia.org/wikipedia/commons/thumb/1/10/Zion_angels_landing_view.jpg/426px-Zion_angels_landing_view.jpg 1.5x, //upload.wikimedia.org/wikipedia/commons/thumb/1/10/Zion_angels_landing_view.jpg/568px-Zion_angels_landing_view.jpg 2x\" width=\"284\"/>"
      ],
      "text/plain": [
       "<IPython.core.display.Markdown object>"
      ]
     },
     "metadata": {},
     "output_type": "display_data"
    },
    {
     "data": {
      "text/markdown": [
       "<img alt=\"\" class=\"thumbimage\" data-file-height=\"1590\" data-file-width=\"2400\" decoding=\"async\" height=\"146\" src=\"//upload.wikimedia.org/wikipedia/commons/thumb/1/17/Morning_Fog_on_the_Towers_of_the_Virgin.jpg/220px-Morning_Fog_on_the_Towers_of_the_Virgin.jpg\" srcset=\"//upload.wikimedia.org/wikipedia/commons/thumb/1/17/Morning_Fog_on_the_Towers_of_the_Virgin.jpg/330px-Morning_Fog_on_the_Towers_of_the_Virgin.jpg 1.5x, //upload.wikimedia.org/wikipedia/commons/thumb/1/17/Morning_Fog_on_the_Towers_of_the_Virgin.jpg/440px-Morning_Fog_on_the_Towers_of_the_Virgin.jpg 2x\" width=\"220\"/>"
      ],
      "text/plain": [
       "<IPython.core.display.Markdown object>"
      ]
     },
     "metadata": {},
     "output_type": "display_data"
    },
    {
     "name": "stdout",
     "output_type": "stream",
     "text": [
      "\n",
      "\n",
      "20 Glacier Bay National Park and Preserve\n"
     ]
    },
    {
     "data": {
      "text/markdown": [
       "<img alt=\"A045, Glacier Bay National Park, Alaska, USA, Johns Hopkins Glacier, 2002.jpg\" data-file-height=\"533\" data-file-width=\"800\" decoding=\"async\" height=\"189\" src=\"//upload.wikimedia.org/wikipedia/commons/thumb/b/bf/A045%2C_Glacier_Bay_National_Park%2C_Alaska%2C_USA%2C_Johns_Hopkins_Glacier%2C_2002.jpg/284px-A045%2C_Glacier_Bay_National_Park%2C_Alaska%2C_USA%2C_Johns_Hopkins_Glacier%2C_2002.jpg\" srcset=\"//upload.wikimedia.org/wikipedia/commons/thumb/b/bf/A045%2C_Glacier_Bay_National_Park%2C_Alaska%2C_USA%2C_Johns_Hopkins_Glacier%2C_2002.jpg/426px-A045%2C_Glacier_Bay_National_Park%2C_Alaska%2C_USA%2C_Johns_Hopkins_Glacier%2C_2002.jpg 1.5x, //upload.wikimedia.org/wikipedia/commons/thumb/b/bf/A045%2C_Glacier_Bay_National_Park%2C_Alaska%2C_USA%2C_Johns_Hopkins_Glacier%2C_2002.jpg/568px-A045%2C_Glacier_Bay_National_Park%2C_Alaska%2C_USA%2C_Johns_Hopkins_Glacier%2C_2002.jpg 2x\" width=\"284\"/>"
      ],
      "text/plain": [
       "<IPython.core.display.Markdown object>"
      ]
     },
     "metadata": {},
     "output_type": "display_data"
    },
    {
     "data": {
      "text/markdown": [
       "<img alt=\"\" class=\"thumbimage\" data-file-height=\"4500\" data-file-width=\"7500\" decoding=\"async\" height=\"132\" src=\"//upload.wikimedia.org/wikipedia/commons/thumb/f/f7/Landsat_GlacierBay_01aug99.jpg/220px-Landsat_GlacierBay_01aug99.jpg\" srcset=\"//upload.wikimedia.org/wikipedia/commons/thumb/f/f7/Landsat_GlacierBay_01aug99.jpg/330px-Landsat_GlacierBay_01aug99.jpg 1.5x, //upload.wikimedia.org/wikipedia/commons/thumb/f/f7/Landsat_GlacierBay_01aug99.jpg/440px-Landsat_GlacierBay_01aug99.jpg 2x\" width=\"220\"/>"
      ],
      "text/plain": [
       "<IPython.core.display.Markdown object>"
      ]
     },
     "metadata": {},
     "output_type": "display_data"
    },
    {
     "name": "stdout",
     "output_type": "stream",
     "text": [
      "\n",
      "\n",
      "23 Grand Teton National Park\n"
     ]
    },
    {
     "data": {
      "text/markdown": [
       "<img alt=\"Barns grand tetons.jpg\" data-file-height=\"1195\" data-file-width=\"1600\" decoding=\"async\" height=\"212\" src=\"//upload.wikimedia.org/wikipedia/commons/thumb/d/d0/Barns_grand_tetons.jpg/284px-Barns_grand_tetons.jpg\" srcset=\"//upload.wikimedia.org/wikipedia/commons/thumb/d/d0/Barns_grand_tetons.jpg/426px-Barns_grand_tetons.jpg 1.5x, //upload.wikimedia.org/wikipedia/commons/thumb/d/d0/Barns_grand_tetons.jpg/568px-Barns_grand_tetons.jpg 2x\" width=\"284\"/>"
      ],
      "text/plain": [
       "<IPython.core.display.Markdown object>"
      ]
     },
     "metadata": {},
     "output_type": "display_data"
    },
    {
     "data": {
      "text/markdown": [
       "<img alt=\"\" class=\"thumbimage\" data-file-height=\"589\" data-file-width=\"887\" decoding=\"async\" height=\"146\" src=\"//upload.wikimedia.org/wikipedia/commons/thumb/1/16/Shoshoni_tipis.jpg/220px-Shoshoni_tipis.jpg\" srcset=\"//upload.wikimedia.org/wikipedia/commons/thumb/1/16/Shoshoni_tipis.jpg/330px-Shoshoni_tipis.jpg 1.5x, //upload.wikimedia.org/wikipedia/commons/thumb/1/16/Shoshoni_tipis.jpg/440px-Shoshoni_tipis.jpg 2x\" width=\"220\"/>"
      ],
      "text/plain": [
       "<IPython.core.display.Markdown object>"
      ]
     },
     "metadata": {},
     "output_type": "display_data"
    },
    {
     "name": "stdout",
     "output_type": "stream",
     "text": [
      "\n",
      "\n",
      "27 Guadalupe Mountains National Park\n"
     ]
    },
    {
     "data": {
      "text/markdown": [
       "<img alt=\"Guadalupe Peak from Hunter Peak.jpg\" data-file-height=\"3168\" data-file-width=\"6160\" decoding=\"async\" height=\"146\" src=\"//upload.wikimedia.org/wikipedia/commons/thumb/8/8f/Guadalupe_Peak_from_Hunter_Peak.jpg/284px-Guadalupe_Peak_from_Hunter_Peak.jpg\" srcset=\"//upload.wikimedia.org/wikipedia/commons/thumb/8/8f/Guadalupe_Peak_from_Hunter_Peak.jpg/426px-Guadalupe_Peak_from_Hunter_Peak.jpg 1.5x, //upload.wikimedia.org/wikipedia/commons/thumb/8/8f/Guadalupe_Peak_from_Hunter_Peak.jpg/568px-Guadalupe_Peak_from_Hunter_Peak.jpg 2x\" width=\"284\"/>"
      ],
      "text/plain": [
       "<IPython.core.display.Markdown object>"
      ]
     },
     "metadata": {},
     "output_type": "display_data"
    },
    {
     "data": {
      "text/markdown": [
       "<img alt=\"\" class=\"thumbimage\" data-file-height=\"2683\" data-file-width=\"4026\" decoding=\"async\" height=\"147\" src=\"//upload.wikimedia.org/wikipedia/commons/thumb/a/ab/Map_of_Guadalupe_Mountains_National_Park.jpg/220px-Map_of_Guadalupe_Mountains_National_Park.jpg\" srcset=\"//upload.wikimedia.org/wikipedia/commons/thumb/a/ab/Map_of_Guadalupe_Mountains_National_Park.jpg/330px-Map_of_Guadalupe_Mountains_National_Park.jpg 1.5x, //upload.wikimedia.org/wikipedia/commons/thumb/a/ab/Map_of_Guadalupe_Mountains_National_Park.jpg/440px-Map_of_Guadalupe_Mountains_National_Park.jpg 2x\" width=\"220\"/>"
      ],
      "text/plain": [
       "<IPython.core.display.Markdown object>"
      ]
     },
     "metadata": {},
     "output_type": "display_data"
    },
    {
     "name": "stdout",
     "output_type": "stream",
     "text": [
      "\n",
      "\n",
      "28 Haleakala\n"
     ]
    },
    {
     "data": {
      "text/markdown": [
       "<img alt=\"Haleakala crater (1).jpg\" data-file-height=\"3456\" data-file-width=\"5184\" decoding=\"async\" height=\"180\" src=\"//upload.wikimedia.org/wikipedia/commons/thumb/c/cb/Haleakala_crater_%281%29.jpg/270px-Haleakala_crater_%281%29.jpg\" srcset=\"//upload.wikimedia.org/wikipedia/commons/thumb/c/cb/Haleakala_crater_%281%29.jpg/405px-Haleakala_crater_%281%29.jpg 1.5x, //upload.wikimedia.org/wikipedia/commons/thumb/c/cb/Haleakala_crater_%281%29.jpg/540px-Haleakala_crater_%281%29.jpg 2x\" width=\"270\"/>"
      ],
      "text/plain": [
       "<IPython.core.display.Markdown object>"
      ]
     },
     "metadata": {},
     "output_type": "display_data"
    },
    {
     "data": {
      "text/markdown": [
       "<img alt=\"\" class=\"thumbimage\" data-file-height=\"1536\" data-file-width=\"2304\" decoding=\"async\" height=\"167\" src=\"//upload.wikimedia.org/wikipedia/commons/thumb/e/ed/Admiring_the_view_from_Haleakala_after_sunrise.jpg/250px-Admiring_the_view_from_Haleakala_after_sunrise.jpg\" srcset=\"//upload.wikimedia.org/wikipedia/commons/thumb/e/ed/Admiring_the_view_from_Haleakala_after_sunrise.jpg/375px-Admiring_the_view_from_Haleakala_after_sunrise.jpg 1.5x, //upload.wikimedia.org/wikipedia/commons/thumb/e/ed/Admiring_the_view_from_Haleakala_after_sunrise.jpg/500px-Admiring_the_view_from_Haleakala_after_sunrise.jpg 2x\" width=\"250\"/>"
      ],
      "text/plain": [
       "<IPython.core.display.Markdown object>"
      ]
     },
     "metadata": {},
     "output_type": "display_data"
    },
    {
     "name": "stdout",
     "output_type": "stream",
     "text": [
      "\n",
      "\n",
      "29 Hawaii Volcanoes National Park\n"
     ]
    },
    {
     "data": {
      "text/markdown": [
       "<img alt=\"Pāhoehoe and Aa flows at Hawaii.jpg\" data-file-height=\"1469\" data-file-width=\"2200\" decoding=\"async\" height=\"190\" src=\"//upload.wikimedia.org/wikipedia/commons/thumb/8/89/P%C4%81hoehoe_and_Aa_flows_at_Hawaii.jpg/284px-P%C4%81hoehoe_and_Aa_flows_at_Hawaii.jpg\" srcset=\"//upload.wikimedia.org/wikipedia/commons/thumb/8/89/P%C4%81hoehoe_and_Aa_flows_at_Hawaii.jpg/426px-P%C4%81hoehoe_and_Aa_flows_at_Hawaii.jpg 1.5x, //upload.wikimedia.org/wikipedia/commons/thumb/8/89/P%C4%81hoehoe_and_Aa_flows_at_Hawaii.jpg/568px-P%C4%81hoehoe_and_Aa_flows_at_Hawaii.jpg 2x\" width=\"284\"/>"
      ],
      "text/plain": [
       "<IPython.core.display.Markdown object>"
      ]
     },
     "metadata": {},
     "output_type": "display_data"
    },
    {
     "data": {
      "text/markdown": [
       "<img alt=\"\" class=\"thumbimage\" data-file-height=\"578\" data-file-width=\"845\" decoding=\"async\" height=\"150\" src=\"//upload.wikimedia.org/wikipedia/commons/thumb/6/6d/Puu_Oo_cropped.jpg/220px-Puu_Oo_cropped.jpg\" srcset=\"//upload.wikimedia.org/wikipedia/commons/thumb/6/6d/Puu_Oo_cropped.jpg/330px-Puu_Oo_cropped.jpg 1.5x, //upload.wikimedia.org/wikipedia/commons/thumb/6/6d/Puu_Oo_cropped.jpg/440px-Puu_Oo_cropped.jpg 2x\" width=\"220\"/>"
      ],
      "text/plain": [
       "<IPython.core.display.Markdown object>"
      ]
     },
     "metadata": {},
     "output_type": "display_data"
    },
    {
     "name": "stdout",
     "output_type": "stream",
     "text": [
      "\n",
      "\n",
      "40 Mammoth Cave National Park\n"
     ]
    },
    {
     "data": {
      "text/markdown": [
       "<img alt=\"Lwt02830.jpg\" data-file-height=\"1033\" data-file-width=\"1400\" decoding=\"async\" height=\"210\" src=\"//upload.wikimedia.org/wikipedia/commons/thumb/b/b7/Lwt02830.jpg/284px-Lwt02830.jpg\" srcset=\"//upload.wikimedia.org/wikipedia/commons/thumb/b/b7/Lwt02830.jpg/426px-Lwt02830.jpg 1.5x, //upload.wikimedia.org/wikipedia/commons/thumb/b/b7/Lwt02830.jpg/568px-Lwt02830.jpg 2x\" width=\"284\"/>"
      ],
      "text/plain": [
       "<IPython.core.display.Markdown object>"
      ]
     },
     "metadata": {},
     "output_type": "display_data"
    },
    {
     "data": {
      "text/markdown": [
       "<img alt=\"\" class=\"thumbimage\" data-file-height=\"369\" data-file-width=\"369\" decoding=\"async\" height=\"170\" src=\"//upload.wikimedia.org/wikipedia/commons/thumb/4/42/Mammoth_cave_01_-_1887.jpg/170px-Mammoth_cave_01_-_1887.jpg\" srcset=\"//upload.wikimedia.org/wikipedia/commons/thumb/4/42/Mammoth_cave_01_-_1887.jpg/255px-Mammoth_cave_01_-_1887.jpg 1.5x, //upload.wikimedia.org/wikipedia/commons/thumb/4/42/Mammoth_cave_01_-_1887.jpg/340px-Mammoth_cave_01_-_1887.jpg 2x\" width=\"170\"/>"
      ],
      "text/plain": [
       "<IPython.core.display.Markdown object>"
      ]
     },
     "metadata": {},
     "output_type": "display_data"
    },
    {
     "name": "stdout",
     "output_type": "stream",
     "text": [
      "\n",
      "\n",
      "42 Mount Rainier National Park\n"
     ]
    },
    {
     "data": {
      "text/markdown": [
       "<img alt=\"\" class=\"thumbimage\" data-file-height=\"445\" data-file-width=\"764\" decoding=\"async\" height=\"128\" src=\"//upload.wikimedia.org/wikipedia/commons/thumb/7/78/John_Muir_at_summit_Mount_Rainier_1888.jpg/220px-John_Muir_at_summit_Mount_Rainier_1888.jpg\" srcset=\"//upload.wikimedia.org/wikipedia/commons/thumb/7/78/John_Muir_at_summit_Mount_Rainier_1888.jpg/330px-John_Muir_at_summit_Mount_Rainier_1888.jpg 1.5x, //upload.wikimedia.org/wikipedia/commons/thumb/7/78/John_Muir_at_summit_Mount_Rainier_1888.jpg/440px-John_Muir_at_summit_Mount_Rainier_1888.jpg 2x\" width=\"220\"/>"
      ],
      "text/plain": [
       "<IPython.core.display.Markdown object>"
      ]
     },
     "metadata": {},
     "output_type": "display_data"
    },
    {
     "data": {
      "text/markdown": [
       "<img alt=\"\" class=\"thumbimage\" data-file-height=\"7446\" data-file-width=\"14270\" decoding=\"async\" height=\"115\" src=\"//upload.wikimedia.org/wikipedia/commons/thumb/4/4c/Mt_Rainier_Panorama_from_the_south.jpg/220px-Mt_Rainier_Panorama_from_the_south.jpg\" srcset=\"//upload.wikimedia.org/wikipedia/commons/thumb/4/4c/Mt_Rainier_Panorama_from_the_south.jpg/330px-Mt_Rainier_Panorama_from_the_south.jpg 1.5x, //upload.wikimedia.org/wikipedia/commons/thumb/4/4c/Mt_Rainier_Panorama_from_the_south.jpg/440px-Mt_Rainier_Panorama_from_the_south.jpg 2x\" width=\"220\"/>"
      ],
      "text/plain": [
       "<IPython.core.display.Markdown object>"
      ]
     },
     "metadata": {},
     "output_type": "display_data"
    },
    {
     "name": "stdout",
     "output_type": "stream",
     "text": [
      "\n",
      "\n",
      "43 National Park of American Samoa\n"
     ]
    },
    {
     "data": {
      "text/markdown": [
       "<img alt=\"Pola Islands Tutuila NPS.jpg\" data-file-height=\"1932\" data-file-width=\"2576\" decoding=\"async\" height=\"213\" src=\"//upload.wikimedia.org/wikipedia/commons/thumb/3/3c/Pola_Islands_Tutuila_NPS.jpg/284px-Pola_Islands_Tutuila_NPS.jpg\" srcset=\"//upload.wikimedia.org/wikipedia/commons/thumb/3/3c/Pola_Islands_Tutuila_NPS.jpg/426px-Pola_Islands_Tutuila_NPS.jpg 1.5x, //upload.wikimedia.org/wikipedia/commons/thumb/3/3c/Pola_Islands_Tutuila_NPS.jpg/568px-Pola_Islands_Tutuila_NPS.jpg 2x\" width=\"284\"/>"
      ],
      "text/plain": [
       "<IPython.core.display.Markdown object>"
      ]
     },
     "metadata": {},
     "output_type": "display_data"
    },
    {
     "data": {
      "text/markdown": [
       "<img alt=\"\" data-file-height=\"1836\" data-file-width=\"3264\" decoding=\"async\" height=\"124\" src=\"//upload.wikimedia.org/wikipedia/commons/thumb/3/36/World_War_II_encampments_on_American_Samoa.jpg/220px-World_War_II_encampments_on_American_Samoa.jpg\" srcset=\"//upload.wikimedia.org/wikipedia/commons/thumb/3/36/World_War_II_encampments_on_American_Samoa.jpg/330px-World_War_II_encampments_on_American_Samoa.jpg 1.5x, //upload.wikimedia.org/wikipedia/commons/thumb/3/36/World_War_II_encampments_on_American_Samoa.jpg/440px-World_War_II_encampments_on_American_Samoa.jpg 2x\" width=\"220\"/>"
      ],
      "text/plain": [
       "<IPython.core.display.Markdown object>"
      ]
     },
     "metadata": {},
     "output_type": "display_data"
    },
    {
     "name": "stdout",
     "output_type": "stream",
     "text": [
      "\n",
      "\n",
      "45 North Cascades National Park\n"
     ]
    },
    {
     "data": {
      "text/markdown": [
       "<img alt=\"Cascade Pass and Pelton Basin.jpg\" data-file-height=\"2418\" data-file-width=\"3678\" decoding=\"async\" height=\"187\" src=\"//upload.wikimedia.org/wikipedia/commons/thumb/8/80/Cascade_Pass_and_Pelton_Basin.jpg/284px-Cascade_Pass_and_Pelton_Basin.jpg\" srcset=\"//upload.wikimedia.org/wikipedia/commons/thumb/8/80/Cascade_Pass_and_Pelton_Basin.jpg/426px-Cascade_Pass_and_Pelton_Basin.jpg 1.5x, //upload.wikimedia.org/wikipedia/commons/thumb/8/80/Cascade_Pass_and_Pelton_Basin.jpg/568px-Cascade_Pass_and_Pelton_Basin.jpg 2x\" width=\"284\"/>"
      ],
      "text/plain": [
       "<IPython.core.display.Markdown object>"
      ]
     },
     "metadata": {},
     "output_type": "display_data"
    },
    {
     "data": {
      "text/markdown": [
       "<img alt=\"Five irregular but vaguely blade shaped pieces of crystalline rock. The left-most is blue, the next two are reddish, and the right two are white.\" class=\"thumbimage\" data-file-height=\"686\" data-file-width=\"1521\" decoding=\"async\" height=\"99\" src=\"//upload.wikimedia.org/wikipedia/commons/thumb/2/28/Microblades_North_Cascades.jpg/220px-Microblades_North_Cascades.jpg\" srcset=\"//upload.wikimedia.org/wikipedia/commons/thumb/2/28/Microblades_North_Cascades.jpg/330px-Microblades_North_Cascades.jpg 1.5x, //upload.wikimedia.org/wikipedia/commons/thumb/2/28/Microblades_North_Cascades.jpg/440px-Microblades_North_Cascades.jpg 2x\" width=\"220\"/>"
      ],
      "text/plain": [
       "<IPython.core.display.Markdown object>"
      ]
     },
     "metadata": {},
     "output_type": "display_data"
    },
    {
     "name": "stdout",
     "output_type": "stream",
     "text": [
      "\n",
      "\n",
      "57 White Sands National Park\n"
     ]
    },
    {
     "data": {
      "text/markdown": [
       "<img alt=\"White Sands National Park visitor center and native plant garden, New Mexico, United States.jpg\" data-file-height=\"480\" data-file-width=\"960\" decoding=\"async\" height=\"125\" src=\"//upload.wikimedia.org/wikipedia/commons/thumb/c/cf/White_Sands_National_Park_visitor_center_and_native_plant_garden%2C_New_Mexico%2C_United_States.jpg/250px-White_Sands_National_Park_visitor_center_and_native_plant_garden%2C_New_Mexico%2C_United_States.jpg\" srcset=\"//upload.wikimedia.org/wikipedia/commons/thumb/c/cf/White_Sands_National_Park_visitor_center_and_native_plant_garden%2C_New_Mexico%2C_United_States.jpg/375px-White_Sands_National_Park_visitor_center_and_native_plant_garden%2C_New_Mexico%2C_United_States.jpg 1.5x, //upload.wikimedia.org/wikipedia/commons/thumb/c/cf/White_Sands_National_Park_visitor_center_and_native_plant_garden%2C_New_Mexico%2C_United_States.jpg/500px-White_Sands_National_Park_visitor_center_and_native_plant_garden%2C_New_Mexico%2C_United_States.jpg 2x\" width=\"250\"/>"
      ],
      "text/plain": [
       "<IPython.core.display.Markdown object>"
      ]
     },
     "metadata": {},
     "output_type": "display_data"
    },
    {
     "data": {
      "text/markdown": [
       "<img alt=\"\" class=\"thumbimage\" data-file-height=\"2358\" data-file-width=\"4002\" decoding=\"async\" height=\"130\" src=\"//upload.wikimedia.org/wikipedia/commons/thumb/7/7c/Mescalero_tipis.jpg/220px-Mescalero_tipis.jpg\" srcset=\"//upload.wikimedia.org/wikipedia/commons/thumb/7/7c/Mescalero_tipis.jpg/330px-Mescalero_tipis.jpg 1.5x, //upload.wikimedia.org/wikipedia/commons/thumb/7/7c/Mescalero_tipis.jpg/440px-Mescalero_tipis.jpg 2x\" width=\"220\"/>"
      ],
      "text/plain": [
       "<IPython.core.display.Markdown object>"
      ]
     },
     "metadata": {},
     "output_type": "display_data"
    },
    {
     "name": "stdout",
     "output_type": "stream",
     "text": [
      "\n",
      "\n",
      "61 Yellowstone National Park\n"
     ]
    },
    {
     "data": {
      "text/markdown": [
       "<img alt=\"\" class=\"thumbimage\" data-file-height=\"12450\" data-file-width=\"18916\" decoding=\"async\" height=\"171\" src=\"//upload.wikimedia.org/wikipedia/commons/thumb/8/82/Yellowstone_National_Park_by_Wellge%2C_1904.jpg/260px-Yellowstone_National_Park_by_Wellge%2C_1904.jpg\" srcset=\"//upload.wikimedia.org/wikipedia/commons/thumb/8/82/Yellowstone_National_Park_by_Wellge%2C_1904.jpg/390px-Yellowstone_National_Park_by_Wellge%2C_1904.jpg 1.5x, //upload.wikimedia.org/wikipedia/commons/thumb/8/82/Yellowstone_National_Park_by_Wellge%2C_1904.jpg/520px-Yellowstone_National_Park_by_Wellge%2C_1904.jpg 2x\" width=\"260\"/>"
      ],
      "text/plain": [
       "<IPython.core.display.Markdown object>"
      ]
     },
     "metadata": {},
     "output_type": "display_data"
    },
    {
     "data": {
      "text/markdown": [
       "<img alt=\"An old contour map showing mountainous terrain and a large lake\" class=\"thumbimage\" data-file-height=\"3700\" data-file-width=\"3486\" decoding=\"async\" height=\"276\" src=\"//upload.wikimedia.org/wikipedia/commons/thumb/6/61/Yellowstone_1871b.jpg/260px-Yellowstone_1871b.jpg\" srcset=\"//upload.wikimedia.org/wikipedia/commons/thumb/6/61/Yellowstone_1871b.jpg/390px-Yellowstone_1871b.jpg 1.5x, //upload.wikimedia.org/wikipedia/commons/thumb/6/61/Yellowstone_1871b.jpg/520px-Yellowstone_1871b.jpg 2x\" width=\"260\"/>"
      ],
      "text/plain": [
       "<IPython.core.display.Markdown object>"
      ]
     },
     "metadata": {},
     "output_type": "display_data"
    },
    {
     "name": "stdout",
     "output_type": "stream",
     "text": [
      "\n",
      "\n",
      "21 Glacier National Park\n"
     ]
    },
    {
     "data": {
      "text/markdown": [
       "<a title=\"Mr. David Sinson, NOAA, Office of Coast Survey, Public domain, via Wikimedia Commons\" href=\"https://commons.wikimedia.org/wiki/File:Mt_Saint_Elias.jpg\"><img width=\"512\" alt=\"Mt Saint Elias\" src=\"https://upload.wikimedia.org/wikipedia/commons/0/05/Mt_Saint_Elias.jpg\"></a>"
      ],
      "text/plain": [
       "<IPython.core.display.Markdown object>"
      ]
     },
     "metadata": {},
     "output_type": "display_data"
    },
    {
     "data": {
      "text/markdown": [
       "<a title=\"Ken Thomas (talk contribs), Public domain, via Wikimedia Commons\" href=\"https://commons.wikimedia.org/wiki/File:St_Mary_Lake.jpg\"><img width=\"512\" alt=\"St Mary Lake\" src=\"https://upload.wikimedia.org/wikipedia/commons/thumb/7/7e/St_Mary_Lake.jpg/512px-St_Mary_Lake.jpg\"></a>"
      ],
      "text/plain": [
       "<IPython.core.display.Markdown object>"
      ]
     },
     "metadata": {},
     "output_type": "display_data"
    },
    {
     "name": "stdout",
     "output_type": "stream",
     "text": [
      "\n",
      "\n",
      "60 Wrangell–St. Elias National Park\n"
     ]
    },
    {
     "data": {
      "text/markdown": [
       "<a title=\"Robert M. Russell, CC BY-SA 4.0 &lt;https://creativecommons.org/licenses/by-sa/4.0&gt;, via Wikimedia Commons\" href=\"https://commons.wikimedia.org/wiki/File:Mountain_Goat_at_Hidden_Lake.jpg\"><img width=\"512\" alt=\"Mountain Goat at Hidden Lake\" src=\"https://upload.wikimedia.org/wikipedia/commons/thumb/5/51/Mountain_Goat_at_Hidden_Lake.jpg/512px-Mountain_Goat_at_Hidden_Lake.jpg\">"
      ],
      "text/plain": [
       "<IPython.core.display.Markdown object>"
      ]
     },
     "metadata": {},
     "output_type": "display_data"
    },
    {
     "data": {
      "text/markdown": [
       "<a title=\"AlaskaTrekker at English Wikipedia, CC BY-SA 3.0 &lt;http://creativecommons.org/licenses/by-sa/3.0/&gt;, via Wikimedia Commons\" href=\"https://commons.wikimedia.org/wiki/File:Wrangells1.jpg\"><img width=\"512\" alt=\"Wrangells1\" src=\"https://upload.wikimedia.org/wikipedia/commons/0/00/Wrangells1.jpg\"></a>"
      ],
      "text/plain": [
       "<IPython.core.display.Markdown object>"
      ]
     },
     "metadata": {},
     "output_type": "display_data"
    },
    {
     "name": "stdout",
     "output_type": "stream",
     "text": [
      "\n",
      "\n"
     ]
    }
   ],
   "source": [
    "for it,park in merged_image_table.iterrows():\n",
    "    print(park['id'], park['parkName'])\n",
    "    display(Markdown(park['image1html']))\n",
    "    display(Markdown(park['image2html']))\n",
    "\n",
    "    print('\\n')"
   ]
  },
  {
   "cell_type": "code",
   "execution_count": null,
   "id": "formal-aviation",
   "metadata": {},
   "outputs": [],
   "source": []
  }
 ],
 "metadata": {
  "kernelspec": {
   "display_name": "py38",
   "language": "python",
   "name": "py38"
  },
  "language_info": {
   "codemirror_mode": {
    "name": "ipython",
    "version": 3
   },
   "file_extension": ".py",
   "mimetype": "text/x-python",
   "name": "python",
   "nbconvert_exporter": "python",
   "pygments_lexer": "ipython3",
   "version": "3.8.5"
  }
 },
 "nbformat": 4,
 "nbformat_minor": 5
}
