{
 "cells": [
  {
   "cell_type": "markdown",
   "id": "ahead-assistant",
   "metadata": {},
   "source": [
    "### Try out Web Scraping to get basic trail info for each national park\n",
    "\n",
    "Webscraping tools:\n",
    "\n",
    "- requests\n",
    "- Beautiful Soup\n",
    "\n"
   ]
  },
  {
   "cell_type": "code",
   "execution_count": 3,
   "id": "virtual-teaching",
   "metadata": {},
   "outputs": [],
   "source": [
    "# package imports\n",
    "from bs4 import BeautifulSoup\n",
    "import requests\n",
    "\n",
    "\n",
    "\n",
    "import pandas as pd"
   ]
  },
  {
   "cell_type": "code",
   "execution_count": 2,
   "id": "superior-scott",
   "metadata": {},
   "outputs": [],
   "source": [
    "natparks = pd.read_csv('national_park_list.csv')"
   ]
  },
  {
   "cell_type": "code",
   "execution_count": 48,
   "id": "tender-willow",
   "metadata": {},
   "outputs": [],
   "source": [
    "for it,row in natparks.iterrows():\n",
    "    if row['states'] == 'CA':\n",
    "        natparks.at[it,'state'] = 'California'\n",
    "        break;"
   ]
  },
  {
   "cell_type": "code",
   "execution_count": 50,
   "id": "copyrighted-subject",
   "metadata": {},
   "outputs": [
    {
     "data": {
      "text/plain": [
       "fullName    Channel Islands National Park\n",
       "states                                 CA\n",
       "state                          California\n",
       "Name: 10, dtype: object"
      ]
     },
     "execution_count": 50,
     "metadata": {},
     "output_type": "execute_result"
    }
   ],
   "source": [
    "natparks.iloc[10]"
   ]
  },
  {
   "cell_type": "code",
   "execution_count": 59,
   "id": "right-africa",
   "metadata": {},
   "outputs": [],
   "source": [
    "state = natparks.iloc[10]['state'].lower()\n",
    "name = '-'.join(natparks.iloc[10]['fullName'].lower().split(' '))\n"
   ]
  },
  {
   "cell_type": "code",
   "execution_count": 63,
   "id": "likely-producer",
   "metadata": {},
   "outputs": [
    {
     "data": {
      "text/plain": [
       "'https//www.alltrails.com/parks/us/california/channel-islands-national-park'"
      ]
     },
     "execution_count": 63,
     "metadata": {},
     "output_type": "execute_result"
    }
   ],
   "source": [
    "\n",
    "\n",
    "url = \"https//www.alltrails.com/parks/us/%s/%s\"%(state,name)\n",
    "url"
   ]
  },
  {
   "cell_type": "markdown",
   "id": "conservative-medline",
   "metadata": {},
   "source": [
    "## Idea:\n",
    "\n",
    "For each National Park, enter into AllTrails and grab all results\n",
    "\n",
    "AllTrails urls look like: https://www.alltrails.com/parks/us/utah/zion-national-park\n",
    "\n",
    "- this is a pain because the state is full name, not XX like in NPS data\n",
    "- ideally, I'd be able to just loop through nat park urls and scrape all data within, but that might not work?\n",
    "- note that there's also this https://www.alltrails.com/us/national-parks page if I can figure out how to make it click things\n",
    "\n",
    "#### Proof of Concept for just Zion:"
   ]
  },
  {
   "cell_type": "code",
   "execution_count": 4,
   "id": "favorite-enlargement",
   "metadata": {},
   "outputs": [],
   "source": [
    "url = 'http://www.alltrails.com/parks/us/utah/zion-national-park'\n",
    "\n",
    "## added based on: https://stackoverflow.com/questions/38489386/python-requests-403-forbidden\n",
    "# goto Chrome developer tab, execute > navigator.userAgent to get thisinfo\n",
    "headers = {'User-Agent': 'Mozilla/5.0 (Macintosh; Intel Mac OS X 10_12_6) AppleWebKit/537.36 (KHTML, like Gecko) Chrome/88.0.4324.146 Safari/537.36'}\n",
    "\n",
    "response = requests.get(url,headers=headers)\n",
    "\n",
    "page = response.text"
   ]
  },
  {
   "cell_type": "code",
   "execution_count": 5,
   "id": "legal-assets",
   "metadata": {},
   "outputs": [],
   "source": [
    "soup = BeautifulSoup(page, 'html.parser')"
   ]
  },
  {
   "cell_type": "code",
   "execution_count": 6,
   "id": "authentic-judges",
   "metadata": {},
   "outputs": [],
   "source": [
    "# write to file so I can look at this in an IDE that hopefully formats HTML. can also inspect on the webpage\n",
    "with open(\"output1.html\", \"w\") as file:\n",
    "    file.write(str(soup))"
   ]
  },
  {
   "cell_type": "code",
   "execution_count": 7,
   "id": "manufactured-portsmouth",
   "metadata": {},
   "outputs": [],
   "source": [
    "# after looking at way too much HTML, it seems like the boxes on the page are called \"trailCard\"\n",
    "top10_cards = soup.select('div[class*=\"trailCard\"]')"
   ]
  },
  {
   "cell_type": "code",
   "execution_count": 8,
   "id": "fallen-museum",
   "metadata": {},
   "outputs": [
    {
     "name": "stdout",
     "output_type": "stream",
     "text": [
      "Angels Landing Trail\n",
      "The Zion Narrows Riverside Walk\n",
      "The Watchman Trail\n",
      "Zion Canyon Overlook Trail\n",
      "Zion Narrows Bottom Up to Big Springs\n",
      "Emerald Pools Trail\n",
      "The Subway Trail\n",
      "Scout Lookout Trail\n",
      "Lower Emerald Pool Trail\n",
      "Observation Point via East Mesa Trail\n"
     ]
    }
   ],
   "source": [
    "for card in top10_cards:\n",
    "    print(card.find('a').get_text())"
   ]
  },
  {
   "cell_type": "code",
   "execution_count": 9,
   "id": "modified-climate",
   "metadata": {},
   "outputs": [],
   "source": [
    "# above is top 10 trails according to Alltrails reviews! \n",
    "## how can I get more info on these trails?\n",
    "## how can I get more than 10 trails? need to figure out how to \"click\" the \"Show More Trails\" button"
   ]
  },
  {
   "cell_type": "code",
   "execution_count": 10,
   "id": "lasting-welsh",
   "metadata": {},
   "outputs": [],
   "source": [
    "### looking further at HTML, trying to find names of the different pieces. this part sucked, would not recommend,\n",
    "# heres my results"
   ]
  },
  {
   "cell_type": "code",
   "execution_count": 11,
   "id": "sorted-firewall",
   "metadata": {},
   "outputs": [
    {
     "data": {
      "text/plain": [
       "'NOTES: All wheel drive is highly recommended to make it to the trailhead in your vehicle. Alternatively, you can park on the road before the trail gets rocky and hike in to the trailhead but it will increase the length of the route.\\n\\nThis trail is really well maintained, well shaded as well, so you can take a break when needed. It ends at a beautiful observation point.Show more'"
      ]
     },
     "execution_count": 11,
     "metadata": {},
     "output_type": "execute_result"
    }
   ],
   "source": [
    "# hike description\n",
    "card.select('div[class*=\"xlate-none styles-module__description\"]')[0].get_text()"
   ]
  },
  {
   "cell_type": "code",
   "execution_count": 12,
   "id": "defensive-river",
   "metadata": {},
   "outputs": [
    {
     "data": {
      "text/plain": [
       "'moderate'"
      ]
     },
     "execution_count": 12,
     "metadata": {},
     "output_type": "execute_result"
    }
   ],
   "source": [
    "# hike difficulty \n",
    "card.select('span[class*=\"styles-module__diff\"]')[0].get_text()"
   ]
  },
  {
   "cell_type": "code",
   "execution_count": 13,
   "id": "oriented-arkansas",
   "metadata": {},
   "outputs": [
    {
     "name": "stdout",
     "output_type": "stream",
     "text": [
      "Length: 6.7 mi\n",
      "Est. 3 h 10 m\n"
     ]
    }
   ],
   "source": [
    "# more things\n",
    "for val in card.select('span[class*=\"xlate-none\"]'):\n",
    "    print(val.get_text())\n"
   ]
  },
  {
   "cell_type": "markdown",
   "id": "eligible-property",
   "metadata": {},
   "source": [
    "#### try to apply above to all top 10 hikes:"
   ]
  },
  {
   "cell_type": "code",
   "execution_count": 14,
   "id": "destroyed-blackjack",
   "metadata": {},
   "outputs": [],
   "source": [
    "rows = []\n",
    "for card in top10_cards:\n",
    "    trailname = card.find('a').get_text()\n",
    "    park = card.select('a[class*=\"xlate-none styles-module__location\"]')[0].get_text()\n",
    "    difficulty = card.select('span[class*=\"styles-module__diff\"]')[0].get_text()\n",
    "    description = card.select('div[class*=\"xlate-none styles-module__description\"]')[0].get_text()\n",
    "    other = None; distance= None; time = None;\n",
    "    for val in card.select('span[class=\"xlate-none\"]'):\n",
    "        entry = val.get_text()\n",
    "        if 'Length' in entry:\n",
    "            distance = entry.split(': ')[-1]\n",
    "        elif 'Est' in entry:\n",
    "            time = entry.split('. ')[-1]\n",
    "        else:\n",
    "            other = entry\n",
    "\n",
    "    rows.append([trailname,park,difficulty,distance,time,description,other])"
   ]
  },
  {
   "cell_type": "code",
   "execution_count": 15,
   "id": "premier-rotation",
   "metadata": {},
   "outputs": [
    {
     "data": {
      "text/html": [
       "<div>\n",
       "<style scoped>\n",
       "    .dataframe tbody tr th:only-of-type {\n",
       "        vertical-align: middle;\n",
       "    }\n",
       "\n",
       "    .dataframe tbody tr th {\n",
       "        vertical-align: top;\n",
       "    }\n",
       "\n",
       "    .dataframe thead th {\n",
       "        text-align: right;\n",
       "    }\n",
       "</style>\n",
       "<table border=\"1\" class=\"dataframe\">\n",
       "  <thead>\n",
       "    <tr style=\"text-align: right;\">\n",
       "      <th></th>\n",
       "      <th>name</th>\n",
       "      <th>park</th>\n",
       "      <th>difficulty</th>\n",
       "      <th>distance</th>\n",
       "      <th>time</th>\n",
       "      <th>description</th>\n",
       "      <th>other</th>\n",
       "    </tr>\n",
       "  </thead>\n",
       "  <tbody>\n",
       "    <tr>\n",
       "      <th>0</th>\n",
       "      <td>Angels Landing Trail</td>\n",
       "      <td>Zion National Park</td>\n",
       "      <td>hard</td>\n",
       "      <td>5.0 mi</td>\n",
       "      <td>3 h 7 m</td>\n",
       "      <td>The parking lot here fills up quickly so be su...</td>\n",
       "      <td>None</td>\n",
       "    </tr>\n",
       "    <tr>\n",
       "      <th>1</th>\n",
       "      <td>The Zion Narrows Riverside Walk</td>\n",
       "      <td>Zion National Park</td>\n",
       "      <td>easy</td>\n",
       "      <td>1.9 mi</td>\n",
       "      <td>45 m</td>\n",
       "      <td>The Narrows may close during extreme weather c...</td>\n",
       "      <td>None</td>\n",
       "    </tr>\n",
       "    <tr>\n",
       "      <th>2</th>\n",
       "      <td>The Watchman Trail</td>\n",
       "      <td>Zion National Park</td>\n",
       "      <td>easy</td>\n",
       "      <td>3.1 mi</td>\n",
       "      <td>1 h 41 m</td>\n",
       "      <td>The Watchman Trail is a great easy trail that ...</td>\n",
       "      <td>None</td>\n",
       "    </tr>\n",
       "    <tr>\n",
       "      <th>3</th>\n",
       "      <td>Zion Canyon Overlook Trail</td>\n",
       "      <td>Zion National Park</td>\n",
       "      <td>moderate</td>\n",
       "      <td>1.0 mi</td>\n",
       "      <td>42 m</td>\n",
       "      <td>This trail offers some of the most breathtakin...</td>\n",
       "      <td>None</td>\n",
       "    </tr>\n",
       "    <tr>\n",
       "      <th>4</th>\n",
       "      <td>Zion Narrows Bottom Up to Big Springs</td>\n",
       "      <td>Zion National Park</td>\n",
       "      <td>hard</td>\n",
       "      <td>8.6 mi</td>\n",
       "      <td>5 h 28 m</td>\n",
       "      <td>Reserve your $ 1 shuttle bus pass on Recreatio...</td>\n",
       "      <td>None</td>\n",
       "    </tr>\n",
       "    <tr>\n",
       "      <th>5</th>\n",
       "      <td>Emerald Pools Trail</td>\n",
       "      <td>Zion National Park</td>\n",
       "      <td>moderate</td>\n",
       "      <td>3.0 mi</td>\n",
       "      <td>1 h 12 m</td>\n",
       "      <td>A paved trail to Lower Emerald Pool and from t...</td>\n",
       "      <td>None</td>\n",
       "    </tr>\n",
       "    <tr>\n",
       "      <th>6</th>\n",
       "      <td>The Subway Trail</td>\n",
       "      <td>Zion National Park</td>\n",
       "      <td>hard</td>\n",
       "      <td>9.1 mi</td>\n",
       "      <td>4 h 33 m</td>\n",
       "      <td>Please note: An NPS permit is required to acce...</td>\n",
       "      <td>None</td>\n",
       "    </tr>\n",
       "    <tr>\n",
       "      <th>7</th>\n",
       "      <td>Scout Lookout Trail</td>\n",
       "      <td>Zion National Park</td>\n",
       "      <td>hard</td>\n",
       "      <td>3.6 mi</td>\n",
       "      <td>1 h 27 m</td>\n",
       "      <td>The road to this trail closes periodically to ...</td>\n",
       "      <td>None</td>\n",
       "    </tr>\n",
       "    <tr>\n",
       "      <th>8</th>\n",
       "      <td>Lower Emerald Pool Trail</td>\n",
       "      <td>Zion National Park</td>\n",
       "      <td>easy</td>\n",
       "      <td>1.4 mi</td>\n",
       "      <td>34 m</td>\n",
       "      <td>Easy trail in Zion National Park. Minor drop-o...</td>\n",
       "      <td>None</td>\n",
       "    </tr>\n",
       "    <tr>\n",
       "      <th>9</th>\n",
       "      <td>Observation Point via East Mesa Trail</td>\n",
       "      <td>Zion National Park</td>\n",
       "      <td>moderate</td>\n",
       "      <td>6.7 mi</td>\n",
       "      <td>3 h 10 m</td>\n",
       "      <td>NOTES: All wheel drive is highly recommended t...</td>\n",
       "      <td>None</td>\n",
       "    </tr>\n",
       "  </tbody>\n",
       "</table>\n",
       "</div>"
      ],
      "text/plain": [
       "                                    name                park difficulty  \\\n",
       "0                   Angels Landing Trail  Zion National Park       hard   \n",
       "1        The Zion Narrows Riverside Walk  Zion National Park       easy   \n",
       "2                     The Watchman Trail  Zion National Park       easy   \n",
       "3             Zion Canyon Overlook Trail  Zion National Park   moderate   \n",
       "4  Zion Narrows Bottom Up to Big Springs  Zion National Park       hard   \n",
       "5                    Emerald Pools Trail  Zion National Park   moderate   \n",
       "6                       The Subway Trail  Zion National Park       hard   \n",
       "7                    Scout Lookout Trail  Zion National Park       hard   \n",
       "8               Lower Emerald Pool Trail  Zion National Park       easy   \n",
       "9  Observation Point via East Mesa Trail  Zion National Park   moderate   \n",
       "\n",
       "  distance      time                                        description other  \n",
       "0   5.0 mi   3 h 7 m  The parking lot here fills up quickly so be su...  None  \n",
       "1   1.9 mi      45 m  The Narrows may close during extreme weather c...  None  \n",
       "2   3.1 mi  1 h 41 m  The Watchman Trail is a great easy trail that ...  None  \n",
       "3   1.0 mi      42 m  This trail offers some of the most breathtakin...  None  \n",
       "4   8.6 mi  5 h 28 m  Reserve your $ 1 shuttle bus pass on Recreatio...  None  \n",
       "5   3.0 mi  1 h 12 m  A paved trail to Lower Emerald Pool and from t...  None  \n",
       "6   9.1 mi  4 h 33 m  Please note: An NPS permit is required to acce...  None  \n",
       "7   3.6 mi  1 h 27 m  The road to this trail closes periodically to ...  None  \n",
       "8   1.4 mi      34 m  Easy trail in Zion National Park. Minor drop-o...  None  \n",
       "9   6.7 mi  3 h 10 m  NOTES: All wheel drive is highly recommended t...  None  "
      ]
     },
     "execution_count": 15,
     "metadata": {},
     "output_type": "execute_result"
    }
   ],
   "source": [
    "# worked! aggregating\n",
    "zion_hikes = pd.DataFrame(rows, columns=['name','park','difficulty','distance','time','description','other'])\n",
    "zion_hikes"
   ]
  },
  {
   "cell_type": "markdown",
   "id": "under-williams",
   "metadata": {},
   "source": [
    "### Extending POC to other Nat Parks\n",
    "\n",
    "- Try to use the same exact code on Yosemite "
   ]
  },
  {
   "cell_type": "code",
   "execution_count": 16,
   "id": "executed-elimination",
   "metadata": {},
   "outputs": [],
   "source": [
    "state = 'california'\n",
    "mypark = 'yosemite-national-park'\n",
    "url = 'http://www.alltrails.com/parks/us/%s/%s'%(state,mypark)\n",
    "\n",
    "## added based on: https://stackoverflow.com/questions/38489386/python-requests-403-forbidden\n",
    "# goto Chrome developer tab, execute > navigator.userAgent to get thisinfo\n",
    "headers = {'User-Agent': 'Mozilla/5.0 (Macintosh; Intel Mac OS X 10_12_6) AppleWebKit/537.36 (KHTML, like Gecko) Chrome/88.0.4324.146 Safari/537.36'}\n",
    "\n",
    "response = requests.get(url,headers=headers)\n",
    "\n",
    "page = response.text\n",
    "soup = BeautifulSoup(page, 'html.parser')"
   ]
  },
  {
   "cell_type": "code",
   "execution_count": 17,
   "id": "compliant-surveillance",
   "metadata": {},
   "outputs": [],
   "source": [
    "rows = []\n",
    "for card in soup.select('div[class*=\"trailCard\"]'):\n",
    "    trailname = card.find('a').get_text()\n",
    "    park = card.select('a[class*=\"xlate-none styles-module__location\"]')[0].get_text()\n",
    "    difficulty = card.select('span[class*=\"styles-module__diff\"]')[0].get_text()\n",
    "    description = card.select('div[class*=\"xlate-none styles-module__description\"]')[0].get_text()\n",
    "    other = None; distance= None; time = None;\n",
    "    for val in card.select('span[class=\"xlate-none\"]'):\n",
    "        entry = val.get_text()\n",
    "        if 'Length' in entry:\n",
    "            distance = entry.split(': ')[-1]\n",
    "        elif 'Est' in entry:\n",
    "            time = entry.split('. ')[-1]\n",
    "        else:\n",
    "            other = entry\n",
    "\n",
    "    rows.append([trailname,park,difficulty,distance,time,description,other])\n",
    "yosemite_hikes = pd.DataFrame(rows, columns=['name','park','difficulty','distance','time','description','other'])\n"
   ]
  },
  {
   "cell_type": "code",
   "execution_count": 18,
   "id": "general-trunk",
   "metadata": {},
   "outputs": [
    {
     "data": {
      "text/html": [
       "<div>\n",
       "<style scoped>\n",
       "    .dataframe tbody tr th:only-of-type {\n",
       "        vertical-align: middle;\n",
       "    }\n",
       "\n",
       "    .dataframe tbody tr th {\n",
       "        vertical-align: top;\n",
       "    }\n",
       "\n",
       "    .dataframe thead th {\n",
       "        text-align: right;\n",
       "    }\n",
       "</style>\n",
       "<table border=\"1\" class=\"dataframe\">\n",
       "  <thead>\n",
       "    <tr style=\"text-align: right;\">\n",
       "      <th></th>\n",
       "      <th>name</th>\n",
       "      <th>park</th>\n",
       "      <th>difficulty</th>\n",
       "      <th>distance</th>\n",
       "      <th>time</th>\n",
       "      <th>description</th>\n",
       "      <th>other</th>\n",
       "    </tr>\n",
       "  </thead>\n",
       "  <tbody>\n",
       "    <tr>\n",
       "      <th>0</th>\n",
       "      <td>Vernal and Nevada Falls via the Mist Trail</td>\n",
       "      <td>Yosemite National Park</td>\n",
       "      <td>hard</td>\n",
       "      <td>8.8 mi</td>\n",
       "      <td>5 h 1 m</td>\n",
       "      <td>Note: As of September 2020, The park has decid...</td>\n",
       "      <td>None</td>\n",
       "    </tr>\n",
       "    <tr>\n",
       "      <th>1</th>\n",
       "      <td>Upper Yosemite Falls Trail</td>\n",
       "      <td>Yosemite National Park</td>\n",
       "      <td>hard</td>\n",
       "      <td>7.6 mi</td>\n",
       "      <td>4 h 30 m</td>\n",
       "      <td>Enjoy the thrilling views of looking down from...</td>\n",
       "      <td>None</td>\n",
       "    </tr>\n",
       "    <tr>\n",
       "      <th>2</th>\n",
       "      <td>Vernal Falls</td>\n",
       "      <td>Yosemite National Park</td>\n",
       "      <td>moderate</td>\n",
       "      <td>4.0 mi</td>\n",
       "      <td>2 h 16 m</td>\n",
       "      <td>The Mist Trail from its junction with the John...</td>\n",
       "      <td>None</td>\n",
       "    </tr>\n",
       "    <tr>\n",
       "      <th>3</th>\n",
       "      <td>Half Dome Trail</td>\n",
       "      <td>Yosemite National Park</td>\n",
       "      <td>hard</td>\n",
       "      <td>15.0 mi</td>\n",
       "      <td>9 h 1 m</td>\n",
       "      <td>Half Dome is a serious endurance hike taking v...</td>\n",
       "      <td>None</td>\n",
       "    </tr>\n",
       "    <tr>\n",
       "      <th>4</th>\n",
       "      <td>Four Mile Trail</td>\n",
       "      <td>Yosemite National Park</td>\n",
       "      <td>hard</td>\n",
       "      <td>9.2 mi</td>\n",
       "      <td>6 h 9 m</td>\n",
       "      <td>Note: This trail and road may close seasonally...</td>\n",
       "      <td>None</td>\n",
       "    </tr>\n",
       "    <tr>\n",
       "      <th>5</th>\n",
       "      <td>Lower Yosemite Falls Trail</td>\n",
       "      <td>Yosemite National Park</td>\n",
       "      <td>easy</td>\n",
       "      <td>1.2 mi</td>\n",
       "      <td>28 m</td>\n",
       "      <td>A quick stroll to see Yosemite Falls, the tall...</td>\n",
       "      <td>None</td>\n",
       "    </tr>\n",
       "    <tr>\n",
       "      <th>6</th>\n",
       "      <td>Clouds Rest Trail via Tenaya Lake</td>\n",
       "      <td>Yosemite National Park</td>\n",
       "      <td>hard</td>\n",
       "      <td>13.0 mi</td>\n",
       "      <td>7 h 3 m</td>\n",
       "      <td>The best place to enjoy the view of Half Dome ...</td>\n",
       "      <td>None</td>\n",
       "    </tr>\n",
       "    <tr>\n",
       "      <th>7</th>\n",
       "      <td>Glacier Point Trail</td>\n",
       "      <td>Yosemite National Park</td>\n",
       "      <td>easy</td>\n",
       "      <td>0.6 mi</td>\n",
       "      <td>14 m</td>\n",
       "      <td>Please be aware that this trail and its access...</td>\n",
       "      <td>None</td>\n",
       "    </tr>\n",
       "    <tr>\n",
       "      <th>8</th>\n",
       "      <td>Sentinel Dome Trail</td>\n",
       "      <td>Yosemite National Park</td>\n",
       "      <td>easy</td>\n",
       "      <td>2.1 mi</td>\n",
       "      <td>1 h 9 m</td>\n",
       "      <td>Sentinel Dome starts from Glacier Point Road a...</td>\n",
       "      <td>None</td>\n",
       "    </tr>\n",
       "    <tr>\n",
       "      <th>9</th>\n",
       "      <td>Vernal Falls and Clark Point via Mist and John...</td>\n",
       "      <td>Yosemite National Park</td>\n",
       "      <td>hard</td>\n",
       "      <td>4.2 mi</td>\n",
       "      <td>2 h 44 m</td>\n",
       "      <td>Note: As of 11/13/2020, the final section of t...</td>\n",
       "      <td>None</td>\n",
       "    </tr>\n",
       "  </tbody>\n",
       "</table>\n",
       "</div>"
      ],
      "text/plain": [
       "                                                name                    park  \\\n",
       "0         Vernal and Nevada Falls via the Mist Trail  Yosemite National Park   \n",
       "1                         Upper Yosemite Falls Trail  Yosemite National Park   \n",
       "2                                       Vernal Falls  Yosemite National Park   \n",
       "3                                    Half Dome Trail  Yosemite National Park   \n",
       "4                                    Four Mile Trail  Yosemite National Park   \n",
       "5                         Lower Yosemite Falls Trail  Yosemite National Park   \n",
       "6                  Clouds Rest Trail via Tenaya Lake  Yosemite National Park   \n",
       "7                                Glacier Point Trail  Yosemite National Park   \n",
       "8                                Sentinel Dome Trail  Yosemite National Park   \n",
       "9  Vernal Falls and Clark Point via Mist and John...  Yosemite National Park   \n",
       "\n",
       "  difficulty distance      time  \\\n",
       "0       hard   8.8 mi   5 h 1 m   \n",
       "1       hard   7.6 mi  4 h 30 m   \n",
       "2   moderate   4.0 mi  2 h 16 m   \n",
       "3       hard  15.0 mi   9 h 1 m   \n",
       "4       hard   9.2 mi   6 h 9 m   \n",
       "5       easy   1.2 mi      28 m   \n",
       "6       hard  13.0 mi   7 h 3 m   \n",
       "7       easy   0.6 mi      14 m   \n",
       "8       easy   2.1 mi   1 h 9 m   \n",
       "9       hard   4.2 mi  2 h 44 m   \n",
       "\n",
       "                                         description other  \n",
       "0  Note: As of September 2020, The park has decid...  None  \n",
       "1  Enjoy the thrilling views of looking down from...  None  \n",
       "2  The Mist Trail from its junction with the John...  None  \n",
       "3  Half Dome is a serious endurance hike taking v...  None  \n",
       "4  Note: This trail and road may close seasonally...  None  \n",
       "5  A quick stroll to see Yosemite Falls, the tall...  None  \n",
       "6  The best place to enjoy the view of Half Dome ...  None  \n",
       "7  Please be aware that this trail and its access...  None  \n",
       "8  Sentinel Dome starts from Glacier Point Road a...  None  \n",
       "9  Note: As of 11/13/2020, the final section of t...  None  "
      ]
     },
     "execution_count": 18,
     "metadata": {},
     "output_type": "execute_result"
    }
   ],
   "source": [
    "yosemite_hikes\n"
   ]
  },
  {
   "cell_type": "code",
   "execution_count": 21,
   "id": "macro-classroom",
   "metadata": {},
   "outputs": [],
   "source": [
    "pd.concat([yosemite_hikes,zion_hikes]).to_csv('top_hikes_temp.csv',index=None)"
   ]
  },
  {
   "cell_type": "markdown",
   "id": "reasonable-adelaide",
   "metadata": {},
   "source": [
    "# TO DO: \n",
    "\n",
    "- make this into a py script and run on all parks. \n",
    "    - is there a way to do that without having to write out url for each park? \n",
    "- look into getting more than 10 hikes per park?\n"
   ]
  },
  {
   "cell_type": "code",
   "execution_count": null,
   "id": "understood-maker",
   "metadata": {},
   "outputs": [],
   "source": []
  },
  {
   "cell_type": "code",
   "execution_count": null,
   "id": "silver-joseph",
   "metadata": {},
   "outputs": [],
   "source": []
  },
  {
   "cell_type": "code",
   "execution_count": null,
   "id": "frozen-macintosh",
   "metadata": {},
   "outputs": [],
   "source": []
  }
 ],
 "metadata": {
  "kernelspec": {
   "display_name": "py38",
   "language": "python",
   "name": "py38"
  },
  "language_info": {
   "codemirror_mode": {
    "name": "ipython",
    "version": 3
   },
   "file_extension": ".py",
   "mimetype": "text/x-python",
   "name": "python",
   "nbconvert_exporter": "python",
   "pygments_lexer": "ipython3",
   "version": "3.8.5"
  }
 },
 "nbformat": 4,
 "nbformat_minor": 5
}
