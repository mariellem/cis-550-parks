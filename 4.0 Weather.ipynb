{
 "cells": [
  {
   "cell_type": "code",
   "execution_count": 2,
   "metadata": {
    "colab": {
     "base_uri": "https://localhost:8080/",
     "height": 204
    },
    "id": "REf_TEdVOXBP",
    "outputId": "659f764b-99b2-4227-c5c7-fe9612a45165"
   },
   "outputs": [
    {
     "data": {
      "text/html": [
       "<div>\n",
       "<style scoped>\n",
       "    .dataframe tbody tr th:only-of-type {\n",
       "        vertical-align: middle;\n",
       "    }\n",
       "\n",
       "    .dataframe tbody tr th {\n",
       "        vertical-align: top;\n",
       "    }\n",
       "\n",
       "    .dataframe thead th {\n",
       "        text-align: right;\n",
       "    }\n",
       "</style>\n",
       "<table border=\"1\" class=\"dataframe\">\n",
       "  <thead>\n",
       "    <tr style=\"text-align: right;\">\n",
       "      <th></th>\n",
       "      <th>date</th>\n",
       "      <th>maxtempC</th>\n",
       "      <th>maxtempF</th>\n",
       "      <th>mintempC</th>\n",
       "      <th>mintempF</th>\n",
       "      <th>sunrise</th>\n",
       "      <th>sunset</th>\n",
       "      <th>moonrise</th>\n",
       "      <th>moonset</th>\n",
       "      <th>moon_phase</th>\n",
       "      <th>moon_illumination</th>\n",
       "    </tr>\n",
       "  </thead>\n",
       "  <tbody>\n",
       "    <tr>\n",
       "      <th>0</th>\n",
       "      <td>2011-01-01</td>\n",
       "      <td>4</td>\n",
       "      <td>39</td>\n",
       "      <td>-1</td>\n",
       "      <td>30</td>\n",
       "      <td>07:20 AM</td>\n",
       "      <td>04:39 PM</td>\n",
       "      <td>04:51 AM</td>\n",
       "      <td>02:13 PM</td>\n",
       "      <td>Waning Crescent</td>\n",
       "      <td>15</td>\n",
       "    </tr>\n",
       "    <tr>\n",
       "      <th>1</th>\n",
       "      <td>2011-01-02</td>\n",
       "      <td>5</td>\n",
       "      <td>42</td>\n",
       "      <td>1</td>\n",
       "      <td>34</td>\n",
       "      <td>07:20 AM</td>\n",
       "      <td>04:40 PM</td>\n",
       "      <td>05:51 AM</td>\n",
       "      <td>03:09 PM</td>\n",
       "      <td>Waning Crescent</td>\n",
       "      <td>7</td>\n",
       "    </tr>\n",
       "    <tr>\n",
       "      <th>2</th>\n",
       "      <td>2011-01-03</td>\n",
       "      <td>1</td>\n",
       "      <td>33</td>\n",
       "      <td>-4</td>\n",
       "      <td>25</td>\n",
       "      <td>07:20 AM</td>\n",
       "      <td>04:41 PM</td>\n",
       "      <td>06:43 AM</td>\n",
       "      <td>04:09 PM</td>\n",
       "      <td>Waning Crescent</td>\n",
       "      <td>0</td>\n",
       "    </tr>\n",
       "    <tr>\n",
       "      <th>3</th>\n",
       "      <td>2011-01-04</td>\n",
       "      <td>3</td>\n",
       "      <td>37</td>\n",
       "      <td>-4</td>\n",
       "      <td>26</td>\n",
       "      <td>07:21 AM</td>\n",
       "      <td>04:42 PM</td>\n",
       "      <td>07:27 AM</td>\n",
       "      <td>05:13 PM</td>\n",
       "      <td>New Moon</td>\n",
       "      <td>0</td>\n",
       "    </tr>\n",
       "    <tr>\n",
       "      <th>4</th>\n",
       "      <td>2011-01-05</td>\n",
       "      <td>2</td>\n",
       "      <td>36</td>\n",
       "      <td>-3</td>\n",
       "      <td>26</td>\n",
       "      <td>07:21 AM</td>\n",
       "      <td>04:43 PM</td>\n",
       "      <td>08:04 AM</td>\n",
       "      <td>06:16 PM</td>\n",
       "      <td>New Moon</td>\n",
       "      <td>0</td>\n",
       "    </tr>\n",
       "  </tbody>\n",
       "</table>\n",
       "</div>"
      ],
      "text/plain": [
       "         date  maxtempC  maxtempF  mintempC  mintempF   sunrise    sunset  \\\n",
       "0  2011-01-01         4        39        -1        30  07:20 AM  04:39 PM   \n",
       "1  2011-01-02         5        42         1        34  07:20 AM  04:40 PM   \n",
       "2  2011-01-03         1        33        -4        25  07:20 AM  04:41 PM   \n",
       "3  2011-01-04         3        37        -4        26  07:21 AM  04:42 PM   \n",
       "4  2011-01-05         2        36        -3        26  07:21 AM  04:43 PM   \n",
       "\n",
       "   moonrise   moonset       moon_phase  moon_illumination  \n",
       "0  04:51 AM  02:13 PM  Waning Crescent                 15  \n",
       "1  05:51 AM  03:09 PM  Waning Crescent                  7  \n",
       "2  06:43 AM  04:09 PM  Waning Crescent                  0  \n",
       "3  07:27 AM  05:13 PM         New Moon                  0  \n",
       "4  08:04 AM  06:16 PM         New Moon                  0  "
      ]
     },
     "execution_count": 2,
     "metadata": {},
     "output_type": "execute_result"
    }
   ],
   "source": [
    "import pandas as pd\n",
    "import numpy as np\n",
    "\n",
    "\n",
    "dayColumns=[\"date\", \"maxtempC\", \"maxtempF\", \"mintempC\", \"mintempF\", \"sunrise\", \"sunset\", \"moonrise\", \"moonset\", \"moon_phase\", \"moon_illumination\"]\n",
    "dailyWeather=pd.read_csv(\"https://api.worldweatheronline.com/premium/v1/past-weather.ashx?q=new+york&tp=24&format=csv&key=10fbca6b178e4fafb0d165822210502&date=2011-01-01&enddate=2020-12-31\", header = None, names = dayColumns, comment='#', skiprows = lambda x: x%2 == 1)\n",
    "dailyWeather.head()\n"
   ]
  },
  {
   "cell_type": "code",
   "execution_count": 3,
   "metadata": {
    "colab": {
     "base_uri": "https://localhost:8080/",
     "height": 213
    },
    "id": "L1gBIPqDvf5B",
    "outputId": "918ea003-c3cd-4c13-86e8-a242d5f8180f"
   },
   "outputs": [
    {
     "data": {
      "text/html": [
       "<div>\n",
       "<style scoped>\n",
       "    .dataframe tbody tr th:only-of-type {\n",
       "        vertical-align: middle;\n",
       "    }\n",
       "\n",
       "    .dataframe tbody tr th {\n",
       "        vertical-align: top;\n",
       "    }\n",
       "\n",
       "    .dataframe thead th {\n",
       "        text-align: right;\n",
       "    }\n",
       "</style>\n",
       "<table border=\"1\" class=\"dataframe\">\n",
       "  <thead>\n",
       "    <tr style=\"text-align: right;\">\n",
       "      <th></th>\n",
       "      <th>date</th>\n",
       "      <th>time</th>\n",
       "      <th>tempC</th>\n",
       "      <th>tempF</th>\n",
       "      <th>windspeedMiles</th>\n",
       "      <th>windspeedKmph</th>\n",
       "      <th>winddirdegree</th>\n",
       "      <th>winddir16point</th>\n",
       "      <th>weatherCode</th>\n",
       "      <th>weatherIconUrl</th>\n",
       "      <th>...</th>\n",
       "      <th>HeatIndexC</th>\n",
       "      <th>HeatIndexF</th>\n",
       "      <th>DewPointC</th>\n",
       "      <th>DewPointF</th>\n",
       "      <th>WindChillC</th>\n",
       "      <th>WindChillF</th>\n",
       "      <th>WindGustMiles</th>\n",
       "      <th>WindGustKmph</th>\n",
       "      <th>FeelsLikeC</th>\n",
       "      <th>FeelsLikeF</th>\n",
       "    </tr>\n",
       "  </thead>\n",
       "  <tbody>\n",
       "    <tr>\n",
       "      <th>0</th>\n",
       "      <td>Not Available</td>\n",
       "      <td>NaN</td>\n",
       "      <td>NaN</td>\n",
       "      <td>NaN</td>\n",
       "      <td>NaN</td>\n",
       "      <td>NaN</td>\n",
       "      <td>NaN</td>\n",
       "      <td>NaN</td>\n",
       "      <td>NaN</td>\n",
       "      <td>NaN</td>\n",
       "      <td>...</td>\n",
       "      <td>NaN</td>\n",
       "      <td>NaN</td>\n",
       "      <td>NaN</td>\n",
       "      <td>NaN</td>\n",
       "      <td>NaN</td>\n",
       "      <td>NaN</td>\n",
       "      <td>NaN</td>\n",
       "      <td>NaN</td>\n",
       "      <td>NaN</td>\n",
       "      <td>NaN</td>\n",
       "    </tr>\n",
       "    <tr>\n",
       "      <th>1</th>\n",
       "      <td>2011-01-01</td>\n",
       "      <td>24.0</td>\n",
       "      <td>4.0</td>\n",
       "      <td>39.0</td>\n",
       "      <td>6.0</td>\n",
       "      <td>10.0</td>\n",
       "      <td>224.0</td>\n",
       "      <td>SW</td>\n",
       "      <td>248.0</td>\n",
       "      <td>http://cdn.worldweatheronline.com/images/wsymb...</td>\n",
       "      <td>...</td>\n",
       "      <td>3.0</td>\n",
       "      <td>37.0</td>\n",
       "      <td>3.0</td>\n",
       "      <td>37.0</td>\n",
       "      <td>1.0</td>\n",
       "      <td>33.0</td>\n",
       "      <td>13.0</td>\n",
       "      <td>21.0</td>\n",
       "      <td>1.0</td>\n",
       "      <td>33.0</td>\n",
       "    </tr>\n",
       "    <tr>\n",
       "      <th>2</th>\n",
       "      <td>2011-01-02</td>\n",
       "      <td>24.0</td>\n",
       "      <td>5.0</td>\n",
       "      <td>42.0</td>\n",
       "      <td>7.0</td>\n",
       "      <td>11.0</td>\n",
       "      <td>270.0</td>\n",
       "      <td>W</td>\n",
       "      <td>248.0</td>\n",
       "      <td>http://cdn.worldweatheronline.com/images/wsymb...</td>\n",
       "      <td>...</td>\n",
       "      <td>4.0</td>\n",
       "      <td>40.0</td>\n",
       "      <td>4.0</td>\n",
       "      <td>39.0</td>\n",
       "      <td>2.0</td>\n",
       "      <td>36.0</td>\n",
       "      <td>13.0</td>\n",
       "      <td>21.0</td>\n",
       "      <td>2.0</td>\n",
       "      <td>36.0</td>\n",
       "    </tr>\n",
       "  </tbody>\n",
       "</table>\n",
       "<p>3 rows × 29 columns</p>\n",
       "</div>"
      ],
      "text/plain": [
       "            date  time  tempC  tempF  windspeedMiles  windspeedKmph  \\\n",
       "0  Not Available   NaN    NaN    NaN             NaN            NaN   \n",
       "1     2011-01-01  24.0    4.0   39.0             6.0           10.0   \n",
       "2     2011-01-02  24.0    5.0   42.0             7.0           11.0   \n",
       "\n",
       "   winddirdegree winddir16point  weatherCode  \\\n",
       "0            NaN            NaN          NaN   \n",
       "1          224.0             SW        248.0   \n",
       "2          270.0              W        248.0   \n",
       "\n",
       "                                      weatherIconUrl  ... HeatIndexC  \\\n",
       "0                                                NaN  ...        NaN   \n",
       "1  http://cdn.worldweatheronline.com/images/wsymb...  ...        3.0   \n",
       "2  http://cdn.worldweatheronline.com/images/wsymb...  ...        4.0   \n",
       "\n",
       "   HeatIndexF  DewPointC  DewPointF  WindChillC  WindChillF  WindGustMiles  \\\n",
       "0         NaN        NaN        NaN         NaN         NaN            NaN   \n",
       "1        37.0        3.0       37.0         1.0        33.0           13.0   \n",
       "2        40.0        4.0       39.0         2.0        36.0           13.0   \n",
       "\n",
       "   WindGustKmph  FeelsLikeC  FeelsLikeF  \n",
       "0           NaN         NaN         NaN  \n",
       "1          21.0         1.0        33.0  \n",
       "2          21.0         2.0        36.0  \n",
       "\n",
       "[3 rows x 29 columns]"
      ]
     },
     "execution_count": 3,
     "metadata": {},
     "output_type": "execute_result"
    }
   ],
   "source": [
    "\n",
    "dayAverageColumns=[\"date\", \"time\", \"tempC\", \"tempF\", \"windspeedMiles\", \"windspeedKmph\", \"winddirdegree\",\"winddir16point\", \"weatherCode\", \"weatherIconUrl\", \"weatherDesc\", \"precipMM\", \"precipInches\", \"humidity\", \"visibilityKm\", \"visibilityMiles\", \"pressureMB\", \"pressureInches\", \"cloudcover\", \"HeatIndexC\", \"HeatIndexF\", \"DewPointC\", \"DewPointF\", \"WindChillC\", \"WindChillF\", \"WindGustMiles\",\"WindGustKmph\",\"FeelsLikeC\",  \"FeelsLikeF\"]\n",
    "dailyAverageWeather=pd.read_csv(\"https://api.worldweatheronline.com/premium/v1/past-weather.ashx?q=new+york&tp=24&format=csv&key=10fbca6b178e4fafb0d165822210502&date=2011-01-01&enddate=2020-12-31\", header = None, names = dayAverageColumns, comment='#', skiprows = lambda x: x%2 == 0)\n",
    "dailyAverageWeather.head(3)"
   ]
  },
  {
   "cell_type": "code",
   "execution_count": 4,
   "metadata": {
    "id": "sCoS3Uks0z8R"
   },
   "outputs": [],
   "source": [
    "# from pandas.io.json import json_normalize\n",
    "\n",
    "# dayColumns=[\"date\", \"maxtempC\", \"maxtempF\", \"mintempC\", \"mintempF\", \"sunrise\", \"sunset\", \"moonrise\", \"moonset\", \"moon_phase\", \"moon_illumination\"]\n",
    "weather=pd.read_json(\"https://api.worldweatheronline.com/premium/v1/past-weather.ashx?q=new+york&tp=24&format=json&key=10fbca6b178e4fafb0d165822210502&date=2011-01-01&enddate=2020-12-31\")\n",
    "# pd.json_normalize(weather)\n",
    "# weather.head()"
   ]
  },
  {
   "cell_type": "code",
   "execution_count": 5,
   "metadata": {
    "colab": {
     "base_uri": "https://localhost:8080/",
     "height": 111
    },
    "id": "CaUb-N5n7aAN",
    "outputId": "cff4e3a6-c638-416b-e4fb-ab955d8ff9db"
   },
   "outputs": [
    {
     "data": {
      "text/html": [
       "<div>\n",
       "<style scoped>\n",
       "    .dataframe tbody tr th:only-of-type {\n",
       "        vertical-align: middle;\n",
       "    }\n",
       "\n",
       "    .dataframe tbody tr th {\n",
       "        vertical-align: top;\n",
       "    }\n",
       "\n",
       "    .dataframe thead th {\n",
       "        text-align: right;\n",
       "    }\n",
       "</style>\n",
       "<table border=\"1\" class=\"dataframe\">\n",
       "  <thead>\n",
       "    <tr style=\"text-align: right;\">\n",
       "      <th></th>\n",
       "      <th>data</th>\n",
       "    </tr>\n",
       "  </thead>\n",
       "  <tbody>\n",
       "    <tr>\n",
       "      <th>request</th>\n",
       "      <td>[{'type': 'City', 'query': 'New York, United S...</td>\n",
       "    </tr>\n",
       "    <tr>\n",
       "      <th>weather</th>\n",
       "      <td>[{'date': '2011-01-01', 'astronomy': [{'sunris...</td>\n",
       "    </tr>\n",
       "  </tbody>\n",
       "</table>\n",
       "</div>"
      ],
      "text/plain": [
       "                                                      data\n",
       "request  [{'type': 'City', 'query': 'New York, United S...\n",
       "weather  [{'date': '2011-01-01', 'astronomy': [{'sunris..."
      ]
     },
     "execution_count": 5,
     "metadata": {},
     "output_type": "execute_result"
    }
   ],
   "source": [
    "weather"
   ]
  },
  {
   "cell_type": "code",
   "execution_count": 5,
   "metadata": {
    "colab": {
     "base_uri": "https://localhost:8080/",
     "height": 80
    },
    "id": "YM-GoHA876zM",
    "outputId": "de95e671-67e5-4d56-edd9-612cfb779958"
   },
   "outputs": [
    {
     "data": {
      "text/html": [
       "<div>\n",
       "<style scoped>\n",
       "    .dataframe tbody tr th:only-of-type {\n",
       "        vertical-align: middle;\n",
       "    }\n",
       "\n",
       "    .dataframe tbody tr th {\n",
       "        vertical-align: top;\n",
       "    }\n",
       "\n",
       "    .dataframe thead th {\n",
       "        text-align: right;\n",
       "    }\n",
       "</style>\n",
       "<table border=\"1\" class=\"dataframe\">\n",
       "  <thead>\n",
       "    <tr style=\"text-align: right;\">\n",
       "      <th></th>\n",
       "      <th>type</th>\n",
       "      <th>query</th>\n",
       "    </tr>\n",
       "  </thead>\n",
       "  <tbody>\n",
       "    <tr>\n",
       "      <th>0</th>\n",
       "      <td>City</td>\n",
       "      <td>New York, United States of America</td>\n",
       "    </tr>\n",
       "  </tbody>\n",
       "</table>\n",
       "</div>"
      ],
      "text/plain": [
       "   type                               query\n",
       "0  City  New York, United States of America"
      ]
     },
     "execution_count": 5,
     "metadata": {
      "tags": []
     },
     "output_type": "execute_result"
    }
   ],
   "source": [
    "pd.json_normalize(weather['data']['request'])"
   ]
  },
  {
   "cell_type": "code",
   "execution_count": 7,
   "metadata": {
    "colab": {
     "base_uri": "https://localhost:8080/",
     "height": 289
    },
    "id": "Kdh3n5Wk7AmT",
    "outputId": "72b72b16-af99-4a1e-9e2a-84bab7e5e137"
   },
   "outputs": [
    {
     "data": {
      "text/html": [
       "<div>\n",
       "<style scoped>\n",
       "    .dataframe tbody tr th:only-of-type {\n",
       "        vertical-align: middle;\n",
       "    }\n",
       "\n",
       "    .dataframe tbody tr th {\n",
       "        vertical-align: top;\n",
       "    }\n",
       "\n",
       "    .dataframe thead th {\n",
       "        text-align: right;\n",
       "    }\n",
       "</style>\n",
       "<table border=\"1\" class=\"dataframe\">\n",
       "  <thead>\n",
       "    <tr style=\"text-align: right;\">\n",
       "      <th></th>\n",
       "      <th>date</th>\n",
       "      <th>astronomy</th>\n",
       "      <th>maxtempC</th>\n",
       "      <th>maxtempF</th>\n",
       "      <th>mintempC</th>\n",
       "      <th>mintempF</th>\n",
       "      <th>avgtempC</th>\n",
       "      <th>avgtempF</th>\n",
       "      <th>totalSnow_cm</th>\n",
       "      <th>sunHour</th>\n",
       "      <th>uvIndex</th>\n",
       "      <th>hourly</th>\n",
       "    </tr>\n",
       "  </thead>\n",
       "  <tbody>\n",
       "    <tr>\n",
       "      <th>0</th>\n",
       "      <td>2011-01-01</td>\n",
       "      <td>[{'sunrise': '07:20 AM', 'sunset': '04:39 PM',...</td>\n",
       "      <td>4</td>\n",
       "      <td>39</td>\n",
       "      <td>-1</td>\n",
       "      <td>30</td>\n",
       "      <td>2</td>\n",
       "      <td>36</td>\n",
       "      <td>0.0</td>\n",
       "      <td>3.4</td>\n",
       "      <td>1</td>\n",
       "      <td>[{'time': '24', 'tempC': '4', 'tempF': '39', '...</td>\n",
       "    </tr>\n",
       "    <tr>\n",
       "      <th>1</th>\n",
       "      <td>2011-01-02</td>\n",
       "      <td>[{'sunrise': '07:20 AM', 'sunset': '04:40 PM',...</td>\n",
       "      <td>5</td>\n",
       "      <td>42</td>\n",
       "      <td>1</td>\n",
       "      <td>34</td>\n",
       "      <td>5</td>\n",
       "      <td>40</td>\n",
       "      <td>0.0</td>\n",
       "      <td>5.2</td>\n",
       "      <td>1</td>\n",
       "      <td>[{'time': '24', 'tempC': '5', 'tempF': '42', '...</td>\n",
       "    </tr>\n",
       "    <tr>\n",
       "      <th>2</th>\n",
       "      <td>2011-01-03</td>\n",
       "      <td>[{'sunrise': '07:20 AM', 'sunset': '04:41 PM',...</td>\n",
       "      <td>1</td>\n",
       "      <td>33</td>\n",
       "      <td>-4</td>\n",
       "      <td>25</td>\n",
       "      <td>-2</td>\n",
       "      <td>29</td>\n",
       "      <td>0.0</td>\n",
       "      <td>8.7</td>\n",
       "      <td>2</td>\n",
       "      <td>[{'time': '24', 'tempC': '1', 'tempF': '33', '...</td>\n",
       "    </tr>\n",
       "    <tr>\n",
       "      <th>3</th>\n",
       "      <td>2011-01-04</td>\n",
       "      <td>[{'sunrise': '07:21 AM', 'sunset': '04:42 PM',...</td>\n",
       "      <td>3</td>\n",
       "      <td>37</td>\n",
       "      <td>-4</td>\n",
       "      <td>26</td>\n",
       "      <td>-0</td>\n",
       "      <td>32</td>\n",
       "      <td>0.0</td>\n",
       "      <td>8.7</td>\n",
       "      <td>2</td>\n",
       "      <td>[{'time': '24', 'tempC': '3', 'tempF': '37', '...</td>\n",
       "    </tr>\n",
       "    <tr>\n",
       "      <th>4</th>\n",
       "      <td>2011-01-05</td>\n",
       "      <td>[{'sunrise': '07:21 AM', 'sunset': '04:43 PM',...</td>\n",
       "      <td>2</td>\n",
       "      <td>36</td>\n",
       "      <td>-3</td>\n",
       "      <td>26</td>\n",
       "      <td>0</td>\n",
       "      <td>32</td>\n",
       "      <td>0.0</td>\n",
       "      <td>8.7</td>\n",
       "      <td>2</td>\n",
       "      <td>[{'time': '24', 'tempC': '2', 'tempF': '36', '...</td>\n",
       "    </tr>\n",
       "  </tbody>\n",
       "</table>\n",
       "</div>"
      ],
      "text/plain": [
       "         date  ...                                             hourly\n",
       "0  2011-01-01  ...  [{'time': '24', 'tempC': '4', 'tempF': '39', '...\n",
       "1  2011-01-02  ...  [{'time': '24', 'tempC': '5', 'tempF': '42', '...\n",
       "2  2011-01-03  ...  [{'time': '24', 'tempC': '1', 'tempF': '33', '...\n",
       "3  2011-01-04  ...  [{'time': '24', 'tempC': '3', 'tempF': '37', '...\n",
       "4  2011-01-05  ...  [{'time': '24', 'tempC': '2', 'tempF': '36', '...\n",
       "\n",
       "[5 rows x 12 columns]"
      ]
     },
     "execution_count": 7,
     "metadata": {
      "tags": []
     },
     "output_type": "execute_result"
    }
   ],
   "source": [
    "nyc_weather = pd.json_normalize(weather['data']['weather'])\n",
    "nyc_weather.head()"
   ]
  },
  {
   "cell_type": "code",
   "execution_count": 11,
   "metadata": {
    "colab": {
     "base_uri": "https://localhost:8080/"
    },
    "id": "A45LaiFr8xMU",
    "outputId": "445e9e2e-92e5-46fe-88da-c769ad542bd5"
   },
   "outputs": [
    {
     "data": {
      "text/plain": [
       "('2011-01-01', '2011-02-04')"
      ]
     },
     "execution_count": 11,
     "metadata": {
      "tags": []
     },
     "output_type": "execute_result"
    }
   ],
   "source": [
    "nyc_weather['date'].min(), nyc_weather['date'].max()"
   ]
  },
  {
   "cell_type": "code",
   "execution_count": 13,
   "metadata": {
    "id": "96ezeeMn1kZx"
   },
   "outputs": [],
   "source": [
    "import matplotlib.pyplot as plt\n"
   ]
  },
  {
   "cell_type": "code",
   "execution_count": 22,
   "metadata": {
    "colab": {
     "base_uri": "https://localhost:8080/",
     "height": 35
    },
    "id": "CKb9U9BF-GBz",
    "outputId": "6627e0d5-1f4e-4339-84c4-73ca036584e0"
   },
   "outputs": [
    {
     "data": {
      "application/vnd.google.colaboratory.intrinsic+json": {
       "type": "string"
      },
      "text/plain": [
       "'11'"
      ]
     },
     "execution_count": 22,
     "metadata": {
      "tags": []
     },
     "output_type": "execute_result"
    }
   ],
   "source": [
    "nyc_weather.mintempF.min() # this is a string, need remember to cast these to int "
   ]
  },
  {
   "cell_type": "code",
   "execution_count": 26,
   "metadata": {
    "colab": {
     "base_uri": "https://localhost:8080/",
     "height": 343
    },
    "id": "Ifi2hxyN9HQy",
    "outputId": "67c10096-da2c-4a41-d341-279fa88c265d"
   },
   "outputs": [
    {
     "data": {
      "image/png": "[encoded data removed]",
      "text/plain": [
       "<Figure size 720x288 with 1 Axes>"
      ]
     },
     "metadata": {
      "needs_background": "light",
      "tags": []
     },
     "output_type": "display_data"
    }
   ],
   "source": [
    "plt.figure(figsize=(10,4))\n",
    "plt.plot(nyc_weather.date, nyc_weather.maxtempF.astype(int), '.-', label='high')\n",
    "plt.plot(nyc_weather.date, nyc_weather.mintempF.astype(int), '.-', label='low')\n",
    "plt.legend(); plt.xlabel('date'); plt.ylabel('temperature')\n",
    "plt.xticks(rotation=90); \n",
    "plt.title('NYC Weather Data');\n",
    "\n",
    "## we could display something like this on our website (prettier) for each park ?"
   ]
  },
  {
   "cell_type": "code",
   "execution_count": null,
   "metadata": {
    "id": "kHW2xGaR8gtO"
   },
   "outputs": [],
   "source": []
  },
  {
   "cell_type": "code",
   "execution_count": null,
   "metadata": {
    "id": "PdeaFd758g3d"
   },
   "outputs": [],
   "source": []
  },
  {
   "cell_type": "code",
   "execution_count": null,
   "metadata": {
    "id": "IbQP5D408hBI"
   },
   "outputs": [],
   "source": []
  }
 ],
 "metadata": {
  "colab": {
   "collapsed_sections": [],
   "name": "Weather.ipynb",
   "provenance": []
  },
  "kernelspec": {
   "display_name": "py38",
   "language": "python",
   "name": "py38"
  },
  "language_info": {
   "codemirror_mode": {
    "name": "ipython",
    "version": 3
   },
   "file_extension": ".py",
   "mimetype": "text/x-python",
   "name": "python",
   "nbconvert_exporter": "python",
   "pygments_lexer": "ipython3",
   "version": "3.8.5"
  }
 },
 "nbformat": 4,
 "nbformat_minor": 4
}
