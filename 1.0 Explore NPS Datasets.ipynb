{
 "cells": [
  {
   "cell_type": "code",
   "execution_count": 1,
   "id": "accepting-nevada",
   "metadata": {},
   "outputs": [],
   "source": [
    "import pandas as pd\n",
    "import requests\n",
    "import json\n",
    "\n",
    "# import api key from untracked - config.py\n",
    "from config import nps_api_key"
   ]
  },
  {
   "cell_type": "markdown",
   "id": "protective-coverage",
   "metadata": {},
   "source": [
    "### Try out API Queries to NPS dataset\n",
    "____________"
   ]
  },
  {
   "cell_type": "markdown",
   "id": "lyric-madonna",
   "metadata": {},
   "source": [
    "## Parks data"
   ]
  },
  {
   "cell_type": "code",
   "execution_count": 2,
   "id": "quality-croatia",
   "metadata": {},
   "outputs": [],
   "source": [
    "#  limit is arbitrary value greater than total number of NPS sites \n",
    "limit = 800 \n",
    "content = \"parks\"\n",
    "endpoint = \"https://developer.nps.gov/api/v1/%s?limit=%s&api_key=\"%(content, limit)\n",
    "\n",
    "response = requests.get(endpoint + nps_api_key)\n",
    "parks_overview_json = response.json()\n",
    "\n",
    "parks_df = pd.DataFrame.from_records(parks_overview_json[\"data\"])"
   ]
  },
  {
   "cell_type": "code",
   "execution_count": 5,
   "id": "surprised-learning",
   "metadata": {},
   "outputs": [
    {
     "data": {
      "text/html": [
       "<div>\n",
       "<style scoped>\n",
       "    .dataframe tbody tr th:only-of-type {\n",
       "        vertical-align: middle;\n",
       "    }\n",
       "\n",
       "    .dataframe tbody tr th {\n",
       "        vertical-align: top;\n",
       "    }\n",
       "\n",
       "    .dataframe thead th {\n",
       "        text-align: right;\n",
       "    }\n",
       "</style>\n",
       "<table border=\"1\" class=\"dataframe\">\n",
       "  <thead>\n",
       "    <tr style=\"text-align: right;\">\n",
       "      <th></th>\n",
       "      <th>id</th>\n",
       "      <th>url</th>\n",
       "      <th>fullName</th>\n",
       "      <th>parkCode</th>\n",
       "      <th>description</th>\n",
       "      <th>latitude</th>\n",
       "      <th>longitude</th>\n",
       "      <th>latLong</th>\n",
       "      <th>activities</th>\n",
       "      <th>topics</th>\n",
       "      <th>...</th>\n",
       "      <th>entrancePasses</th>\n",
       "      <th>fees</th>\n",
       "      <th>directionsInfo</th>\n",
       "      <th>directionsUrl</th>\n",
       "      <th>operatingHours</th>\n",
       "      <th>addresses</th>\n",
       "      <th>images</th>\n",
       "      <th>weatherInfo</th>\n",
       "      <th>name</th>\n",
       "      <th>designation</th>\n",
       "    </tr>\n",
       "  </thead>\n",
       "  <tbody>\n",
       "    <tr>\n",
       "      <th>0</th>\n",
       "      <td>77E0D7F0-1942-494A-ACE2-9004D2BDC59E</td>\n",
       "      <td>https://www.nps.gov/abli/index.htm</td>\n",
       "      <td>Abraham Lincoln Birthplace National Historical...</td>\n",
       "      <td>abli</td>\n",
       "      <td>For over a century people from around the worl...</td>\n",
       "      <td>37.5858662</td>\n",
       "      <td>-85.67330523</td>\n",
       "      <td>lat:37.5858662, long:-85.67330523</td>\n",
       "      <td>[{'id': '13A57703-BB1A-41A2-94B8-53B692EB7238'...</td>\n",
       "      <td>[{'id': 'D10852A3-443C-4743-A5FA-6DD6D2A054B3'...</td>\n",
       "      <td>...</td>\n",
       "      <td>[]</td>\n",
       "      <td>[]</td>\n",
       "      <td>The Birthplace Unit of the park is located app...</td>\n",
       "      <td>http://www.nps.gov/abli/planyourvisit/directio...</td>\n",
       "      <td>[{'exceptions': [{'exceptionHours': {}, 'start...</td>\n",
       "      <td>[{'postalCode': '42748', 'city': 'Hodgenville'...</td>\n",
       "      <td>[{'credit': 'NPS Photo', 'title': 'The Memoria...</td>\n",
       "      <td>There are four distinct seasons in Central Ken...</td>\n",
       "      <td>Abraham Lincoln Birthplace</td>\n",
       "      <td>National Historical Park</td>\n",
       "    </tr>\n",
       "    <tr>\n",
       "      <th>1</th>\n",
       "      <td>6DA17C86-088E-4B4D-B862-7C1BD5CF236B</td>\n",
       "      <td>https://www.nps.gov/acad/index.htm</td>\n",
       "      <td>Acadia National Park</td>\n",
       "      <td>acad</td>\n",
       "      <td>Acadia National Park protects the natural beau...</td>\n",
       "      <td>44.409286</td>\n",
       "      <td>-68.247501</td>\n",
       "      <td>lat:44.409286, long:-68.247501</td>\n",
       "      <td>[{'id': '09DF0950-D319-4557-A57E-04CD2F63FF42'...</td>\n",
       "      <td>[{'id': '00F3C3F9-2D67-4802-81AE-CCEA5D3BA370'...</td>\n",
       "      <td>...</td>\n",
       "      <td>[{'cost': '55.00', 'description': 'Valid for 1...</td>\n",
       "      <td>[]</td>\n",
       "      <td>From Boston take I-95 north to Augusta, Maine,...</td>\n",
       "      <td>http://www.nps.gov/acad/planyourvisit/directio...</td>\n",
       "      <td>[{'exceptions': [], 'description': 'In support...</td>\n",
       "      <td>[{'postalCode': '04609', 'city': 'Bar Harbor',...</td>\n",
       "      <td>[{'credit': 'NPS / Kristi Rugg', 'title': 'Sun...</td>\n",
       "      <td>Located on Mount Desert Island in Maine, Acadi...</td>\n",
       "      <td>Acadia</td>\n",
       "      <td>National Park</td>\n",
       "    </tr>\n",
       "    <tr>\n",
       "      <th>2</th>\n",
       "      <td>E4C7784E-66A0-4D44-87D0-3E072F5FEF43</td>\n",
       "      <td>https://www.nps.gov/adam/index.htm</td>\n",
       "      <td>Adams National Historical Park</td>\n",
       "      <td>adam</td>\n",
       "      <td>From the sweet little farm at the foot of Penn...</td>\n",
       "      <td>42.2553961</td>\n",
       "      <td>-71.01160356</td>\n",
       "      <td>lat:42.2553961, long:-71.01160356</td>\n",
       "      <td>[{'id': 'B33DC9B6-0B7D-4322-BAD7-A13A34C584A3'...</td>\n",
       "      <td>[{'id': 'F3883A66-A7CB-461B-868E-1B5932224B25'...</td>\n",
       "      <td>...</td>\n",
       "      <td>[]</td>\n",
       "      <td>[]</td>\n",
       "      <td>Traveling on U.S. Interstate 93, take exit 7 -...</td>\n",
       "      <td>http://www.nps.gov/adam/planyourvisit/directio...</td>\n",
       "      <td>[{'exceptions': [{'exceptionHours': {'wednesda...</td>\n",
       "      <td>[{'postalCode': '02169', 'city': 'Quincy', 'st...</td>\n",
       "      <td>[{'credit': 'NPS Photo', 'title': 'The John an...</td>\n",
       "      <td>Be prepared for hot, humid weather. The histor...</td>\n",
       "      <td>Adams</td>\n",
       "      <td>National Historical Park</td>\n",
       "    </tr>\n",
       "  </tbody>\n",
       "</table>\n",
       "<p>3 rows × 23 columns</p>\n",
       "</div>"
      ],
      "text/plain": [
       "                                     id                                 url  \\\n",
       "0  77E0D7F0-1942-494A-ACE2-9004D2BDC59E  https://www.nps.gov/abli/index.htm   \n",
       "1  6DA17C86-088E-4B4D-B862-7C1BD5CF236B  https://www.nps.gov/acad/index.htm   \n",
       "2  E4C7784E-66A0-4D44-87D0-3E072F5FEF43  https://www.nps.gov/adam/index.htm   \n",
       "\n",
       "                                            fullName parkCode  \\\n",
       "0  Abraham Lincoln Birthplace National Historical...     abli   \n",
       "1                               Acadia National Park     acad   \n",
       "2                     Adams National Historical Park     adam   \n",
       "\n",
       "                                         description    latitude  \\\n",
       "0  For over a century people from around the worl...  37.5858662   \n",
       "1  Acadia National Park protects the natural beau...   44.409286   \n",
       "2  From the sweet little farm at the foot of Penn...  42.2553961   \n",
       "\n",
       "      longitude                            latLong  \\\n",
       "0  -85.67330523  lat:37.5858662, long:-85.67330523   \n",
       "1    -68.247501     lat:44.409286, long:-68.247501   \n",
       "2  -71.01160356  lat:42.2553961, long:-71.01160356   \n",
       "\n",
       "                                          activities  \\\n",
       "0  [{'id': '13A57703-BB1A-41A2-94B8-53B692EB7238'...   \n",
       "1  [{'id': '09DF0950-D319-4557-A57E-04CD2F63FF42'...   \n",
       "2  [{'id': 'B33DC9B6-0B7D-4322-BAD7-A13A34C584A3'...   \n",
       "\n",
       "                                              topics  ...  \\\n",
       "0  [{'id': 'D10852A3-443C-4743-A5FA-6DD6D2A054B3'...  ...   \n",
       "1  [{'id': '00F3C3F9-2D67-4802-81AE-CCEA5D3BA370'...  ...   \n",
       "2  [{'id': 'F3883A66-A7CB-461B-868E-1B5932224B25'...  ...   \n",
       "\n",
       "                                      entrancePasses fees  \\\n",
       "0                                                 []   []   \n",
       "1  [{'cost': '55.00', 'description': 'Valid for 1...   []   \n",
       "2                                                 []   []   \n",
       "\n",
       "                                      directionsInfo  \\\n",
       "0  The Birthplace Unit of the park is located app...   \n",
       "1  From Boston take I-95 north to Augusta, Maine,...   \n",
       "2  Traveling on U.S. Interstate 93, take exit 7 -...   \n",
       "\n",
       "                                       directionsUrl  \\\n",
       "0  http://www.nps.gov/abli/planyourvisit/directio...   \n",
       "1  http://www.nps.gov/acad/planyourvisit/directio...   \n",
       "2  http://www.nps.gov/adam/planyourvisit/directio...   \n",
       "\n",
       "                                      operatingHours  \\\n",
       "0  [{'exceptions': [{'exceptionHours': {}, 'start...   \n",
       "1  [{'exceptions': [], 'description': 'In support...   \n",
       "2  [{'exceptions': [{'exceptionHours': {'wednesda...   \n",
       "\n",
       "                                           addresses  \\\n",
       "0  [{'postalCode': '42748', 'city': 'Hodgenville'...   \n",
       "1  [{'postalCode': '04609', 'city': 'Bar Harbor',...   \n",
       "2  [{'postalCode': '02169', 'city': 'Quincy', 'st...   \n",
       "\n",
       "                                              images  \\\n",
       "0  [{'credit': 'NPS Photo', 'title': 'The Memoria...   \n",
       "1  [{'credit': 'NPS / Kristi Rugg', 'title': 'Sun...   \n",
       "2  [{'credit': 'NPS Photo', 'title': 'The John an...   \n",
       "\n",
       "                                         weatherInfo  \\\n",
       "0  There are four distinct seasons in Central Ken...   \n",
       "1  Located on Mount Desert Island in Maine, Acadi...   \n",
       "2  Be prepared for hot, humid weather. The histor...   \n",
       "\n",
       "                         name               designation  \n",
       "0  Abraham Lincoln Birthplace  National Historical Park  \n",
       "1                      Acadia             National Park  \n",
       "2                       Adams  National Historical Park  \n",
       "\n",
       "[3 rows x 23 columns]"
      ]
     },
     "execution_count": 5,
     "metadata": {},
     "output_type": "execute_result"
    }
   ],
   "source": [
    "parks_df.head(3)"
   ]
  },
  {
   "cell_type": "code",
   "execution_count": 9,
   "id": "cross-milwaukee",
   "metadata": {},
   "outputs": [
    {
     "data": {
      "text/plain": [
       "'There are four distinct seasons in Central Kentucky. However, temperature and weather conditions can vary widely within those seasons. Spring and Fall are generally pleasant with frequent rain showers. Summer is usually hot and humid. Winter is moderately cold with mixed precipitation.'"
      ]
     },
     "execution_count": 9,
     "metadata": {},
     "output_type": "execute_result"
    }
   ],
   "source": [
    "parks_df.weatherInfo.values[0]"
   ]
  },
  {
   "cell_type": "code",
   "execution_count": 11,
   "id": "conscious-mobility",
   "metadata": {},
   "outputs": [
    {
     "data": {
      "text/plain": [
       "'Zion is known for a wide range of weather conditions. Temperatures vary with changes in elevation and day/night temperatures may differ by over 30°F. In summer, temperatures in Zion National Park often exceed 100°F/38°C. Zion experiences monsoons from mid-July into September that results in an increased risk of flash floods. Always be aware of the threat of storms and lightning and be prepared for a wide range of weather conditions. Winters are generally mild.'"
      ]
     },
     "execution_count": 11,
     "metadata": {},
     "output_type": "execute_result"
    }
   ],
   "source": [
    "parks_df.weatherInfo.values[-1]"
   ]
  },
  {
   "cell_type": "markdown",
   "id": "compound-bargain",
   "metadata": {},
   "source": [
    "____\n",
    "## Parks table: SUMMARY\n",
    "- general main table for list of national parks \n",
    "- info from this table will look good on the front end\n",
    "- use lat/long to make a pretty map\n",
    "____"
   ]
  },
  {
   "cell_type": "code",
   "execution_count": null,
   "id": "tribal-prisoner",
   "metadata": {},
   "outputs": [],
   "source": []
  },
  {
   "cell_type": "markdown",
   "id": "electoral-kennedy",
   "metadata": {},
   "source": [
    "## Things to Do data"
   ]
  },
  {
   "cell_type": "code",
   "execution_count": 69,
   "id": "romantic-postage",
   "metadata": {},
   "outputs": [],
   "source": [
    "limit = 800 \n",
    "content = \"thingstodo\"\n",
    "endpoint = \"https://developer.nps.gov/api/v1/%s?limit=%s&api_key=\"%(content, limit)\n",
    "\n",
    "response = requests.get(endpoint + nps_api_key)\n",
    "json_data = response.json()\n",
    "\n",
    "todo_df = pd.DataFrame.from_records(json_data[\"data\"])"
   ]
  },
  {
   "cell_type": "code",
   "execution_count": 70,
   "id": "wound-thickness",
   "metadata": {},
   "outputs": [
    {
     "data": {
      "text/html": [
       "<div>\n",
       "<style scoped>\n",
       "    .dataframe tbody tr th:only-of-type {\n",
       "        vertical-align: middle;\n",
       "    }\n",
       "\n",
       "    .dataframe tbody tr th {\n",
       "        vertical-align: top;\n",
       "    }\n",
       "\n",
       "    .dataframe thead th {\n",
       "        text-align: right;\n",
       "    }\n",
       "</style>\n",
       "<table border=\"1\" class=\"dataframe\">\n",
       "  <thead>\n",
       "    <tr style=\"text-align: right;\">\n",
       "      <th></th>\n",
       "      <th>id</th>\n",
       "      <th>url</th>\n",
       "      <th>title</th>\n",
       "      <th>shortDescription</th>\n",
       "      <th>images</th>\n",
       "      <th>relatedParks</th>\n",
       "      <th>relatedOrganizations</th>\n",
       "      <th>tags</th>\n",
       "      <th>latitude</th>\n",
       "      <th>longitude</th>\n",
       "      <th>...</th>\n",
       "      <th>locationDescription</th>\n",
       "      <th>doFeesApply</th>\n",
       "      <th>longDescription</th>\n",
       "      <th>reservationDescription</th>\n",
       "      <th>season</th>\n",
       "      <th>topics</th>\n",
       "      <th>durationDescription</th>\n",
       "      <th>arePetsPermitted</th>\n",
       "      <th>timeOfDay</th>\n",
       "      <th>duration</th>\n",
       "    </tr>\n",
       "  </thead>\n",
       "  <tbody>\n",
       "    <tr>\n",
       "      <th>0</th>\n",
       "      <td>F7B724F1-73D2-4266-B9B5-ED69270FAFF1</td>\n",
       "      <td>https://www.nps.gov/thingstodo/explore-with-th...</td>\n",
       "      <td>Explore With the Cell Phone Tour</td>\n",
       "      <td>The Oncell Cell Phone tour is a great way to e...</td>\n",
       "      <td>[{'url': 'https://www.nps.gov/common/uploads/c...</td>\n",
       "      <td>[{'states': 'KS', 'parkCode': 'fols', 'designa...</td>\n",
       "      <td>[]</td>\n",
       "      <td>[Outdoor activities, fort larned, indian wars,...</td>\n",
       "      <td>38.18372</td>\n",
       "      <td>-99.218562</td>\n",
       "      <td>...</td>\n",
       "      <td></td>\n",
       "      <td>false</td>\n",
       "      <td>&lt;p&gt;The Oncell Cell Phone tour is a great way t...</td>\n",
       "      <td></td>\n",
       "      <td>[Winter, Spring, Summer, Fall]</td>\n",
       "      <td>[{'id': '28AEAE85-9DDA-45B6-981B-1CFCDCC61E14'...</td>\n",
       "      <td></td>\n",
       "      <td>true</td>\n",
       "      <td>[Day]</td>\n",
       "      <td>45-60 Minutes</td>\n",
       "    </tr>\n",
       "    <tr>\n",
       "      <th>1</th>\n",
       "      <td>DDB3F3CD-A710-4144-B28D-6B7006A8D0E6</td>\n",
       "      <td>https://www.nps.gov/thingstodo/take-a-guide-to...</td>\n",
       "      <td>Take a Guided Tour at Weir Farm</td>\n",
       "      <td>Tour the landscape that inspired three generat...</td>\n",
       "      <td>[{'url': 'https://www.nps.gov/common/uploads/c...</td>\n",
       "      <td>[{'states': 'CT', 'parkCode': 'wefa', 'designa...</td>\n",
       "      <td>[]</td>\n",
       "      <td>[art, art studio, painting, Guided Tour, range...</td>\n",
       "      <td></td>\n",
       "      <td></td>\n",
       "      <td>...</td>\n",
       "      <td></td>\n",
       "      <td>false</td>\n",
       "      <td>&lt;p&gt;Tour the landscape that inspired three gene...</td>\n",
       "      <td>&lt;p&gt;Parking is limited!&lt;/p&gt; &lt;p&gt;Please call ahea...</td>\n",
       "      <td>[Spring, Summer, Fall]</td>\n",
       "      <td>[{'id': '00F3C3F9-2D67-4802-81AE-CCEA5D3BA370'...</td>\n",
       "      <td></td>\n",
       "      <td>true</td>\n",
       "      <td>[Day]</td>\n",
       "      <td>10-60 Minutes</td>\n",
       "    </tr>\n",
       "    <tr>\n",
       "      <th>2</th>\n",
       "      <td>D662DD28-8731-455E-B59D-FC6923BFC596</td>\n",
       "      <td>https://www.nps.gov/thingstodo/take-a-self-gui...</td>\n",
       "      <td>Take a Self-Guided Tour of Weir Farm</td>\n",
       "      <td>Stroll through gardens and grounds, complete w...</td>\n",
       "      <td>[{'url': 'https://www.nps.gov/common/uploads/c...</td>\n",
       "      <td>[{'states': 'CT', 'parkCode': 'wefa', 'designa...</td>\n",
       "      <td>[]</td>\n",
       "      <td>[Self-guided Tour, tour, self guided, Weir Far...</td>\n",
       "      <td></td>\n",
       "      <td></td>\n",
       "      <td>...</td>\n",
       "      <td></td>\n",
       "      <td>false</td>\n",
       "      <td>&lt;p&gt;Stroll through gardens and grounds, complet...</td>\n",
       "      <td>&lt;p&gt;Parking is limited!&lt;/p&gt; &lt;p&gt;Please call ahea...</td>\n",
       "      <td>[Winter, Spring, Summer, Fall]</td>\n",
       "      <td>[{'id': '00F3C3F9-2D67-4802-81AE-CCEA5D3BA370'...</td>\n",
       "      <td></td>\n",
       "      <td>true</td>\n",
       "      <td>[Dawn, Dusk]</td>\n",
       "      <td>30-120 Minutes</td>\n",
       "    </tr>\n",
       "  </tbody>\n",
       "</table>\n",
       "<p>3 rows × 33 columns</p>\n",
       "</div>"
      ],
      "text/plain": [
       "                                     id  \\\n",
       "0  F7B724F1-73D2-4266-B9B5-ED69270FAFF1   \n",
       "1  DDB3F3CD-A710-4144-B28D-6B7006A8D0E6   \n",
       "2  D662DD28-8731-455E-B59D-FC6923BFC596   \n",
       "\n",
       "                                                 url  \\\n",
       "0  https://www.nps.gov/thingstodo/explore-with-th...   \n",
       "1  https://www.nps.gov/thingstodo/take-a-guide-to...   \n",
       "2  https://www.nps.gov/thingstodo/take-a-self-gui...   \n",
       "\n",
       "                                  title  \\\n",
       "0      Explore With the Cell Phone Tour   \n",
       "1       Take a Guided Tour at Weir Farm   \n",
       "2  Take a Self-Guided Tour of Weir Farm   \n",
       "\n",
       "                                    shortDescription  \\\n",
       "0  The Oncell Cell Phone tour is a great way to e...   \n",
       "1  Tour the landscape that inspired three generat...   \n",
       "2  Stroll through gardens and grounds, complete w...   \n",
       "\n",
       "                                              images  \\\n",
       "0  [{'url': 'https://www.nps.gov/common/uploads/c...   \n",
       "1  [{'url': 'https://www.nps.gov/common/uploads/c...   \n",
       "2  [{'url': 'https://www.nps.gov/common/uploads/c...   \n",
       "\n",
       "                                        relatedParks relatedOrganizations  \\\n",
       "0  [{'states': 'KS', 'parkCode': 'fols', 'designa...                   []   \n",
       "1  [{'states': 'CT', 'parkCode': 'wefa', 'designa...                   []   \n",
       "2  [{'states': 'CT', 'parkCode': 'wefa', 'designa...                   []   \n",
       "\n",
       "                                                tags  latitude   longitude  \\\n",
       "0  [Outdoor activities, fort larned, indian wars,...  38.18372  -99.218562   \n",
       "1  [art, art studio, painting, Guided Tour, range...                         \n",
       "2  [Self-guided Tour, tour, self guided, Weir Far...                         \n",
       "\n",
       "   ... locationDescription doFeesApply  \\\n",
       "0  ...                           false   \n",
       "1  ...                           false   \n",
       "2  ...                           false   \n",
       "\n",
       "                                     longDescription  \\\n",
       "0  <p>The Oncell Cell Phone tour is a great way t...   \n",
       "1  <p>Tour the landscape that inspired three gene...   \n",
       "2  <p>Stroll through gardens and grounds, complet...   \n",
       "\n",
       "                              reservationDescription  \\\n",
       "0                                                      \n",
       "1  <p>Parking is limited!</p> <p>Please call ahea...   \n",
       "2  <p>Parking is limited!</p> <p>Please call ahea...   \n",
       "\n",
       "                           season  \\\n",
       "0  [Winter, Spring, Summer, Fall]   \n",
       "1          [Spring, Summer, Fall]   \n",
       "2  [Winter, Spring, Summer, Fall]   \n",
       "\n",
       "                                              topics durationDescription  \\\n",
       "0  [{'id': '28AEAE85-9DDA-45B6-981B-1CFCDCC61E14'...                       \n",
       "1  [{'id': '00F3C3F9-2D67-4802-81AE-CCEA5D3BA370'...                       \n",
       "2  [{'id': '00F3C3F9-2D67-4802-81AE-CCEA5D3BA370'...                       \n",
       "\n",
       "  arePetsPermitted     timeOfDay        duration  \n",
       "0             true         [Day]   45-60 Minutes  \n",
       "1             true         [Day]   10-60 Minutes  \n",
       "2             true  [Dawn, Dusk]  30-120 Minutes  \n",
       "\n",
       "[3 rows x 33 columns]"
      ]
     },
     "execution_count": 70,
     "metadata": {},
     "output_type": "execute_result"
    }
   ],
   "source": [
    "todo_df.head(3)"
   ]
  },
  {
   "cell_type": "code",
   "execution_count": 71,
   "id": "neither-invitation",
   "metadata": {},
   "outputs": [],
   "source": [
    "all_tags = [inner for outer in todo_df['tags'].values for inner in outer]"
   ]
  },
  {
   "cell_type": "code",
   "execution_count": 72,
   "id": "dressed-sight",
   "metadata": {},
   "outputs": [
    {
     "data": {
      "text/plain": [
       "1596"
      ]
     },
     "execution_count": 72,
     "metadata": {},
     "output_type": "execute_result"
    }
   ],
   "source": [
    "len(set(all_tags))"
   ]
  },
  {
   "cell_type": "code",
   "execution_count": 73,
   "id": "medieval-former",
   "metadata": {},
   "outputs": [
    {
     "data": {
      "text/plain": [
       "183"
      ]
     },
     "execution_count": 73,
     "metadata": {},
     "output_type": "execute_result"
    }
   ],
   "source": [
    "all_tags.count('hiking')"
   ]
  },
  {
   "cell_type": "code",
   "execution_count": 74,
   "id": "african-aberdeen",
   "metadata": {},
   "outputs": [
    {
     "data": {
      "text/plain": [
       "36"
      ]
     },
     "execution_count": 74,
     "metadata": {},
     "output_type": "execute_result"
    }
   ],
   "source": [
    "all_tags.count('hike')"
   ]
  },
  {
   "cell_type": "code",
   "execution_count": 83,
   "id": "expensive-alert",
   "metadata": {},
   "outputs": [],
   "source": [
    "hikes_df = todo_df[todo_df['tags'].apply(lambda x: 'hike' in x \n",
    "                                      or 'hiking' in x \n",
    "                                      or 'trail' in x\n",
    "                                      or 'trails' in x)]"
   ]
  },
  {
   "cell_type": "code",
   "execution_count": 86,
   "id": "palestinian-vacation",
   "metadata": {},
   "outputs": [
    {
     "data": {
      "text/plain": [
       "id                                               F767FB48-D6BF-4EE7-8F89-6499246BE441\n",
       "url                                 https://www.nps.gov/thingstodo/hike-the-vc-loo...\n",
       "title                               Hike the Blue Ridge Parkway Visitor Center Loo...\n",
       "shortDescription                    The Blue Ridge Parkway Visitor Center Loop Tra...\n",
       "images                              [{'url': 'https://www.nps.gov/common/uploads/c...\n",
       "relatedParks                        [{'states': 'NC,VA', 'parkCode': 'blri', 'desi...\n",
       "relatedOrganizations                                                               []\n",
       "tags                                [hiking, trail, track trail, forested trail, f...\n",
       "latitude                                                           35.564776566271604\n",
       "longitude                                                          -82.48728275044944\n",
       "amenities                                                                          []\n",
       "location                              Blue Ridge Parkway Visitor Center, Milepost 384\n",
       "seasonDescription                                                                    \n",
       "accessibilityInformation            <p>The trail has a natural dirt surface that i...\n",
       "isReservationRequired                                                           false\n",
       "ageDescription                      <p>Good for all ages who are physically able t...\n",
       "petsDescription                     <p>Pets are allowed on the Loop Trail if they ...\n",
       "timeOfDayDescription                                                                 \n",
       "feeDescription                                                                       \n",
       "age                                                                                  \n",
       "arePetsPermittedWithRestrictions                                                 true\n",
       "activities                          [{'id': 'BFF8C027-7C8F-480B-A5F8-CD8CE490BFBA'...\n",
       "activityDescription                                                                  \n",
       "locationDescription                                                                  \n",
       "doFeesApply                                                                     false\n",
       "longDescription                     <p>There is a hidden loop trail at the Blue Ri...\n",
       "reservationDescription                                                               \n",
       "season                                                 [Winter, Spring, Summer, Fall]\n",
       "topics                              [{'id': '41B1A0A3-11FF-4F55-9CB9-034A7E28B087'...\n",
       "durationDescription                                                                  \n",
       "arePetsPermitted                                                                 true\n",
       "timeOfDay                                                                       [Day]\n",
       "duration                                                                60-90 Minutes\n",
       "Name: 5, dtype: object"
      ]
     },
     "execution_count": 86,
     "metadata": {},
     "output_type": "execute_result"
    }
   ],
   "source": [
    "hikes_df.iloc[0]"
   ]
  },
  {
   "cell_type": "code",
   "execution_count": 87,
   "id": "czech-practitioner",
   "metadata": {},
   "outputs": [
    {
     "data": {
      "text/plain": [
       "(225, 33)"
      ]
     },
     "execution_count": 87,
     "metadata": {},
     "output_type": "execute_result"
    }
   ],
   "source": [
    "hikes_df.shape"
   ]
  },
  {
   "cell_type": "markdown",
   "id": "banned-speaker",
   "metadata": {},
   "source": [
    "____\n",
    "## Things To Do table: SUMMARY (todos)\n",
    "- Is there a better way to get hikes?\n",
    "    - seems like nat park system should have more than 225 hikes\n",
    "    - are there hikes hiding under other tags or not tagged \n",
    "      - case sensitivity etc\n",
    "- Link back to parks df \n",
    "- Season info?\n",
    "- other fields potentially useful depending on project\n",
    "\n",
    "___"
   ]
  },
  {
   "cell_type": "code",
   "execution_count": null,
   "id": "dense-singing",
   "metadata": {},
   "outputs": [],
   "source": []
  },
  {
   "cell_type": "code",
   "execution_count": null,
   "id": "electric-survival",
   "metadata": {},
   "outputs": [],
   "source": []
  }
 ],
 "metadata": {
  "kernelspec": {
   "display_name": "py38",
   "language": "python",
   "name": "py38"
  },
  "language_info": {
   "codemirror_mode": {
    "name": "ipython",
    "version": 3
   },
   "file_extension": ".py",
   "mimetype": "text/x-python",
   "name": "python",
   "nbconvert_exporter": "python",
   "pygments_lexer": "ipython3",
   "version": "3.8.5"
  }
 },
 "nbformat": 4,
 "nbformat_minor": 5
}
