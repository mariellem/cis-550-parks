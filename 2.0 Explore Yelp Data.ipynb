{
 "cells": [
  {
   "cell_type": "code",
   "execution_count": null,
   "id": "blond-mystery",
   "metadata": {},
   "outputs": [],
   "source": [
    "import requests\n",
    "import pandas as pd\n",
    "import json\n",
    "\n",
    "from config import yelp_api_key"
   ]
  },
  {
   "cell_type": "markdown",
   "id": "junior-brazilian",
   "metadata": {},
   "source": [
    "This notebook is old and unused. todo delete it"
   ]
  },
  {
   "cell_type": "code",
   "execution_count": null,
   "id": "arbitrary-values",
   "metadata": {},
   "outputs": [],
   "source": [
    "# try this ?\n",
    "\n",
    "headers = {\"Authorization\": 'Bearer ' + yelp_api_key}\n",
    "payload = {\"term\": \"hiking trails\", \"location\": \"san francisco\"}\n",
    "r = requests.get(\"https://api.yelp.com/v3/businesses/search\", headers=headers, params=payload)\n",
    "hiking_trails = r.json()\n"
   ]
  },
  {
   "cell_type": "code",
   "execution_count": null,
   "id": "residential-lounge",
   "metadata": {},
   "outputs": [],
   "source": []
  }
 ],
 "metadata": {
  "kernelspec": {
   "display_name": "py38",
   "language": "python",
   "name": "py38"
  },
  "language_info": {
   "codemirror_mode": {
    "name": "ipython",
    "version": 3
   },
   "file_extension": ".py",
   "mimetype": "text/x-python",
   "name": "python",
   "nbconvert_exporter": "python",
   "pygments_lexer": "ipython3",
   "version": "3.8.5"
  }
 },
 "nbformat": 4,
 "nbformat_minor": 5
}
