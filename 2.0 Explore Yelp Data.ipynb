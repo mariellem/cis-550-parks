{
 "cells": [
  {
   "cell_type": "code",
   "execution_count": null,
   "id": "immediate-gather",
   "metadata": {},
   "outputs": [],
   "source": [
    "import requests\n",
    "import pandas as pd\n",
    "import json\n",
    "\n",
    "from config import yelp_api_key"
   ]
  },
  {
   "cell_type": "markdown",
   "id": "intermediate-sector",
   "metadata": {},
   "source": [
    "@TODO get Yelp API key to add to config"
   ]
  },
  {
   "cell_type": "code",
   "execution_count": null,
   "id": "cooperative-malpractice",
   "metadata": {},
   "outputs": [],
   "source": [
    "# try this ?\n",
    "\n",
    "headers = {\"Authorization\": 'Bearer ' + yelp_api_key}\n",
    "payload = {\"term\": \"hiking trails\", \"location\": \"san francisco\"}\n",
    "r = requests.get(\"https://api.yelp.com/v3/businesses/search\", headers=headers, params=payload)\n",
    "hiking_trails = r.json()\n"
   ]
  },
  {
   "cell_type": "code",
   "execution_count": null,
   "id": "intelligent-words",
   "metadata": {},
   "outputs": [],
   "source": []
  }
 ],
 "metadata": {
  "kernelspec": {
   "display_name": "py38",
   "language": "python",
   "name": "py38"
  },
  "language_info": {
   "codemirror_mode": {
    "name": "ipython",
    "version": 3
   },
   "file_extension": ".py",
   "mimetype": "text/x-python",
   "name": "python",
   "nbconvert_exporter": "python",
   "pygments_lexer": "ipython3",
   "version": "3.8.5"
  }
 },
 "nbformat": 4,
 "nbformat_minor": 5
}
